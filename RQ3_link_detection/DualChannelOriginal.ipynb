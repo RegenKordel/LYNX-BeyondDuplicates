{
 "cells": [
  {
   "cell_type": "markdown",
   "id": "15052bbb",
   "metadata": {},
   "source": [
    "# Libaries / Modules"
   ]
  },
  {
   "cell_type": "code",
   "execution_count": 1,
   "id": "31cd74ea",
   "metadata": {},
   "outputs": [
    {
     "name": "stderr",
     "output_type": "stream",
     "text": [
      "/usr/local/lib/python3.8/dist-packages/gensim/similarities/__init__.py:15: UserWarning: The gensim.similarities.levenshtein submodule is disabled, because the optional Levenshtein package <https://pypi.org/project/python-Levenshtein/> is unavailable. Install Levenhstein (e.g. `pip install python-Levenshtein`) to suppress this warning.\n",
      "  warnings.warn(msg)\n"
     ]
    }
   ],
   "source": [
    "from nltk.tokenize import sent_tokenize, word_tokenize\n",
    "from nltk.corpus import stopwords\n",
    "import nltk\n",
    "import gensim\n",
    "from gensim.models import Word2Vec\n",
    "from gensim.parsing.porter import PorterStemmer\n",
    "\n",
    "stopWords = set(stopwords.words('english'))\n",
    "stopWords = stopWords.union(set(['com', 'org', 'java']))"
   ]
  },
  {
   "cell_type": "code",
   "execution_count": 12,
   "id": "47ca54e4",
   "metadata": {},
   "outputs": [],
   "source": [
    "import pickle\n",
    "import numpy as np\n",
    "import os\n",
    "import tensorflow as tf\n",
    "import pandas as pd\n",
    "from keras import layers\n",
    "from sklearn.model_selection import train_test_split\n",
    "from tensorflow.keras.preprocessing.sequence import pad_sequences\n",
    "from keras.layers import Input, Dense, Activation, BatchNormalization, Flatten, Conv2D, Reshape\n",
    "from keras.layers import MaxPooling2D, Dropout\n",
    "from keras.models import Model\n",
    "from tensorflow.keras.initializers import Constant\n",
    "from keras.layers import Layer\n",
    "from tensorflow.keras.layers import Embedding\n",
    "import keras\n",
    "import tensorflow.keras.backend as K\n",
    "import random\n",
    "from keras.callbacks import EarlyStopping\n",
    "from tqdm import tqdm\n",
    "\n",
    "from sklearn.metrics import confusion_matrix\n",
    "from sklearn.metrics import classification_report\n",
    "import sklearn.utils.class_weight\n",
    "from sklearn import metrics\n",
    "\n",
    "import matplotlib.pyplot as plt"
   ]
  },
  {
   "cell_type": "code",
   "execution_count": 13,
   "id": "add1606e",
   "metadata": {},
   "outputs": [],
   "source": [
    "tqdm.pandas()"
   ]
  },
  {
   "cell_type": "markdown",
   "id": "ef95f75f",
   "metadata": {},
   "source": [
    "# Loading Data"
   ]
  },
  {
   "cell_type": "code",
   "execution_count": 14,
   "id": "8d818666",
   "metadata": {},
   "outputs": [],
   "source": [
    "SOURCE = \"sakai\"\n",
    "\n",
    "# 'apache', 243k, \n",
    "# 'redhat', 106k\n",
    "# 'jira', 98k\n",
    "\n",
    "# 'mongodb', 38k\n",
    "# 'qt', 36k\n",
    "\n",
    "# 'sakai', 19k\n",
    "# 'hyperledger', 16k \n",
    "# 'mariadb', 15k\n",
    "# 'spring', 14k\n",
    "# 'jiraecosystem', 11k\n",
    "\n",
    "# 'sonatype', 4k, small\n",
    "# 'jfrog', 3k, small\n",
    "# 'inteldaos', 3k too small\n",
    "\n",
    "# 'secondlife', 630 too small\n",
    "# 'mindville', 44 too small"
   ]
  },
  {
   "cell_type": "code",
   "execution_count": 16,
   "id": "1c0a22b4",
   "metadata": {},
   "outputs": [
    {
     "name": "stdout",
     "output_type": "stream",
     "text": [
      "Number of Issues: 49204\n",
      "Feature Size: 9\n",
      "Number of Links: 19057\n",
      "Feature Size: 5\n"
     ]
    }
   ],
   "source": [
    "#Loading Issues & Links\n",
    "filename = '../data/crawl/issues_'+SOURCE.lower()+'.csv'\n",
    "issues = pd.read_csv(filename, encoding=\"UTF-8\", low_memory=False, index_col=['issue_id'], sep=\";\")\n",
    "print(\"Number of Issues: \" + str(len(issues)))\n",
    "print(\"Feature Size: \" + str(len(list(issues.columns.values))))\n",
    "\n",
    "filename = '../data/crawl/clean_links_'+SOURCE.lower()+'.csv'\n",
    "links = pd.read_csv(filename, encoding=\"UTF-8\", low_memory=False, index_col=0)\n",
    "print(\"Number of Links: \" + str(len(links)))\n",
    "print(\"Feature Size: \"+str(len(list(links.columns.values))))"
   ]
  },
  {
   "cell_type": "code",
   "execution_count": 17,
   "id": "b31ec68f",
   "metadata": {},
   "outputs": [
    {
     "data": {
      "text/plain": [
       "Relate             9272\n",
       "Subtask            3348\n",
       "Depend             2449\n",
       "Duplicate          1807\n",
       "Incorporate        1270\n",
       "Cloners             910\n",
       "Git Code Review       1\n",
       "Name: linktype, dtype: int64"
      ]
     },
     "execution_count": 17,
     "metadata": {},
     "output_type": "execute_result"
    }
   ],
   "source": [
    "links.linktype.value_counts()"
   ]
  },
  {
   "cell_type": "code",
   "execution_count": 18,
   "id": "41968644",
   "metadata": {},
   "outputs": [],
   "source": [
    "type_dict={'Backports': 'Workflow', \n",
    "           \n",
    "    'Blocked': 'Temporal/Causal',\n",
    "    'Blocker': 'Temporal/Causal',\n",
    "    'Blocks': 'Temporal/Causal',\n",
    "           \n",
    "    'Bonfire Testing': 'Workflow', \n",
    "    'Bonfire testing': 'Workflow', \n",
    "    'Git Code Review': 'Workflow', \n",
    "    'Testing': 'Workflow',\n",
    "           \n",
    "    'Causality': 'Temporal/Causal', \n",
    "    'Cause': 'Temporal/Causal',\n",
    "    'Caused': 'Temporal/Causal', \n",
    "    'Problem/Incident': 'Temporal/Causal',\n",
    "           \n",
    "    'Child-Issue': 'Composition', \n",
    "    'Parent Feature': 'Composition',\n",
    "    'Parent/Child': 'Composition',\n",
    "    'multi-level hierarchy [GANTT]': 'Composition',\n",
    "    'Parent-Relation': 'Composition',\n",
    "           \n",
    "    'Cloners': 'Duplication', \n",
    "    'Cloners (old)': 'Duplication', \n",
    "           \n",
    "    'Collection': 'Composition', \n",
    "    'Container': 'Composition', \n",
    "    'Contains(WBSGantt)': 'Composition', \n",
    "    'Incorporate': 'Composition', \n",
    "    'Incorporates': 'Composition', \n",
    "    'Part': 'Composition',\n",
    "    'PartOf': 'Composition',\n",
    "    'Superset': 'Composition', \n",
    "           \n",
    "    'Completes': 'Workflow', \n",
    "    'Fixes': 'Workflow',\n",
    "    'Resolve': 'Workflow',\n",
    "           \n",
    "    'Depend': 'Temporal/Causal', \n",
    "    'Dependency': 'Temporal/Causal', \n",
    "    'Dependent': 'Temporal/Causal', \n",
    "    'Depends': 'Temporal/Causal', \n",
    "    'Gantt Dependency': 'Temporal/Causal',\n",
    "    'dependent': 'Temporal/Causal',\n",
    "           \n",
    "    'Derived': 'Workflow',\n",
    "           \n",
    "    'Detail': 'Workflow', \n",
    "           \n",
    "    'Documentation': 'Workflow',\n",
    "    'Documented': 'Workflow',\n",
    "    \n",
    "    'Duplicate': 'Duplication',\n",
    "           \n",
    "    'Epic': 'Composition', \n",
    "    'Epic-Relation': 'Composition',\n",
    "    \n",
    "    'Finish-to-Finish link (WBSGantt)': 'Temporal/Causal', \n",
    "    'Gantt End to End': 'Temporal/Causal', \n",
    "    'Gantt: finish-finish': 'Temporal/Causal',\n",
    "    'finish-finish [GANTT]': 'Temporal/Causal', \n",
    "    \n",
    "    'Gantt End to Start': 'Temporal/Causal', \n",
    "    'Gantt: finish-start': 'Temporal/Causal',\n",
    "    'finish-start [GANTT]': 'Temporal/Causal',\n",
    "\n",
    "    'Gantt Start to Start': 'Temporal/Causal', \n",
    "    \n",
    "    'Gantt: start-finish': 'Temporal/Causal', \n",
    "    \n",
    "    'Follows': 'Temporal/Causal', \n",
    "    'Sequence': 'Temporal/Causal', \n",
    "    \n",
    "    'Implement': 'Workflow', \n",
    "    'Implements': 'Workflow', \n",
    "    \n",
    "    'Issue split': 'Composition',\n",
    "    'Split': 'Composition',\n",
    "    'Work Breakdown': 'Composition',\n",
    "    \n",
    "    'Preceded By': 'Temporal/Causal', \n",
    "    \n",
    "    'Reference': 'General Relation',\n",
    "    'Relate': 'General Relation',\n",
    "    'Related': 'General Relation', \n",
    "    'Relates': 'General Relation',\n",
    "    'Relationship': 'General Relation',\n",
    "    \n",
    "    'Regression': 'Workflow', \n",
    "    \n",
    "    'Replacement': 'Duplication',\n",
    "    \n",
    "    'Required': 'Temporal/Causal', \n",
    "    \n",
    "    'Supercedes': 'Workflow',\n",
    "    'Supersede': 'Workflow',\n",
    "    'Supersession': 'Workflow', \n",
    "    \n",
    "    'Test': 'Workflow', \n",
    "    'Tested': 'Workflow',\n",
    "    \n",
    "    'Trigger': 'Workflow',\n",
    "           \n",
    "    'Subtask': 'Composition',\n",
    "           \n",
    "    'Non-Link': 'Non-Link'}"
   ]
  },
  {
   "cell_type": "code",
   "execution_count": 19,
   "id": "01b1642b",
   "metadata": {},
   "outputs": [
    {
     "data": {
      "text/plain": [
       "General Relation    9272\n",
       "Composition         4618\n",
       "Duplication         2717\n",
       "Temporal/Causal     2449\n",
       "Workflow               1\n",
       "Name: mappedtype, dtype: int64"
      ]
     },
     "execution_count": 19,
     "metadata": {},
     "output_type": "execute_result"
    }
   ],
   "source": [
    "links['mappedtype'] = links['linktype'].map(type_dict)\n",
    "links.mappedtype.value_counts()"
   ]
  },
  {
   "cell_type": "code",
   "execution_count": 20,
   "id": "149bdfcd",
   "metadata": {},
   "outputs": [],
   "source": [
    "lt = \"Duplication\""
   ]
  },
  {
   "cell_type": "markdown",
   "id": "65ed98f2",
   "metadata": {},
   "source": [
    "## Create Embeddings"
   ]
  },
  {
   "cell_type": "code",
   "execution_count": 21,
   "id": "ed41fdff",
   "metadata": {},
   "outputs": [
    {
     "name": "stderr",
     "output_type": "stream",
     "text": [
      "100%|██████████| 49204/49204 [01:31<00:00, 535.68it/s] \n"
     ]
    }
   ],
   "source": [
    "p = PorterStemmer()\n",
    "\n",
    "textual_data = []\n",
    "for issue_id in tqdm(issues.index):\n",
    "    temp = []\n",
    "    for word in word_tokenize(str(issues['title'].loc[issue_id])):\n",
    "        word = word.lower()\n",
    "        if word not in stopWords:\n",
    "            word = p.stem(word)\n",
    "            temp.append(word)\n",
    "    textual_data.append(temp)\n",
    "    temp = []\n",
    "    for word in word_tokenize(str(issues['description'].loc[issue_id])):\n",
    "        word = word.lower()\n",
    "        if word not in stopWords:\n",
    "            word = p.stem(word)\n",
    "            temp.append(word)\n",
    "    textual_data.append(temp)"
   ]
  },
  {
   "cell_type": "code",
   "execution_count": 22,
   "id": "06acabac",
   "metadata": {},
   "outputs": [],
   "source": [
    "EMBEDDING_DIM = 20"
   ]
  },
  {
   "cell_type": "code",
   "execution_count": 23,
   "id": "6815f41e",
   "metadata": {},
   "outputs": [],
   "source": [
    "model_CBOW = gensim.models.Word2Vec(textual_data, vector_size=EMBEDDING_DIM, window=5, min_count=2, workers=4, sg=0)"
   ]
  },
  {
   "cell_type": "markdown",
   "id": "0bd89228",
   "metadata": {},
   "source": [
    "# Data Split"
   ]
  },
  {
   "cell_type": "code",
   "execution_count": 24,
   "id": "f2d6882f",
   "metadata": {},
   "outputs": [],
   "source": [
    "def get_linked_issues(df):\n",
    "    df['issues']=''\n",
    "    for i in range(len(df)):\n",
    "        df[\"issues\"].iloc[i] = str(sorted(set([df.iloc[i]['issue_id_1'], df.iloc[i]['issue_id_2']])))"
   ]
  },
  {
   "cell_type": "markdown",
   "id": "93d548f1",
   "metadata": {},
   "source": [
    "## Get Link type"
   ]
  },
  {
   "cell_type": "code",
   "execution_count": 25,
   "id": "0c60f7e4",
   "metadata": {},
   "outputs": [
    {
     "name": "stdout",
     "output_type": "stream",
     "text": [
      "16340\n",
      "2717\n"
     ]
    }
   ],
   "source": [
    "other_link_df = links[links[\"mappedtype\"]!=lt]\n",
    "print(len(other_link_df))\n",
    "\n",
    "linktype_df = links[links[\"mappedtype\"]==lt]\n",
    "print(len(linktype_df))"
   ]
  },
  {
   "cell_type": "code",
   "execution_count": 26,
   "id": "3b1432fc",
   "metadata": {},
   "outputs": [
    {
     "name": "stdout",
     "output_type": "stream",
     "text": [
      "2173\n",
      "544\n"
     ]
    },
    {
     "name": "stderr",
     "output_type": "stream",
     "text": [
      "<ipython-input-24-b21e17f7c520>:2: SettingWithCopyWarning: \n",
      "A value is trying to be set on a copy of a slice from a DataFrame.\n",
      "Try using .loc[row_indexer,col_indexer] = value instead\n",
      "\n",
      "See the caveats in the documentation: https://pandas.pydata.org/pandas-docs/stable/user_guide/indexing.html#returning-a-view-versus-a-copy\n",
      "  df['issues']=''\n",
      "/usr/local/lib/python3.8/dist-packages/pandas/core/indexing.py:692: SettingWithCopyWarning: \n",
      "A value is trying to be set on a copy of a slice from a DataFrame\n",
      "\n",
      "See the caveats in the documentation: https://pandas.pydata.org/pandas-docs/stable/user_guide/indexing.html#returning-a-view-versus-a-copy\n",
      "  iloc._setitem_with_indexer(indexer, value, self.name)\n"
     ]
    }
   ],
   "source": [
    "random_trainval_lt, random_test_lt = train_test_split(linktype_df, test_size = 0.2, random_state = 9)\n",
    "\n",
    "print(len(random_trainval_lt))\n",
    "print(len(random_test_lt))\n",
    "\n",
    "get_linked_issues(random_trainval_lt)\n",
    "get_linked_issues(random_test_lt)"
   ]
  },
  {
   "cell_type": "markdown",
   "id": "26908288",
   "metadata": {},
   "source": [
    "## Get Other-Links"
   ]
  },
  {
   "cell_type": "code",
   "execution_count": 27,
   "id": "22f64285",
   "metadata": {},
   "outputs": [
    {
     "name": "stdout",
     "output_type": "stream",
     "text": [
      "13072\n",
      "3268\n"
     ]
    },
    {
     "name": "stderr",
     "output_type": "stream",
     "text": [
      "<ipython-input-24-b21e17f7c520>:2: SettingWithCopyWarning: \n",
      "A value is trying to be set on a copy of a slice from a DataFrame.\n",
      "Try using .loc[row_indexer,col_indexer] = value instead\n",
      "\n",
      "See the caveats in the documentation: https://pandas.pydata.org/pandas-docs/stable/user_guide/indexing.html#returning-a-view-versus-a-copy\n",
      "  df['issues']=''\n"
     ]
    }
   ],
   "source": [
    "random_trainval_otherlink, random_test_otherlink = train_test_split(other_link_df, test_size = 0.2, random_state = 9)\n",
    "\n",
    "print(len(random_trainval_otherlink))\n",
    "print(len(random_test_otherlink))\n",
    "\n",
    "get_linked_issues(random_trainval_otherlink)\n",
    "get_linked_issues(random_test_otherlink)\n",
    "\n",
    "random_trainval_ol_index = random.sample(set(random_trainval_otherlink.index), len(random_trainval_lt))\n",
    "random_test_ol_index = random.sample(set(random_test_otherlink.index), len(random_test_lt))\n",
    "\n",
    "random_trainval_ol = random_trainval_otherlink.loc[random_trainval_ol_index]\n",
    "random_test_ol = random_test_otherlink.loc[random_test_ol_index]"
   ]
  },
  {
   "cell_type": "markdown",
   "id": "8dab3b59",
   "metadata": {},
   "source": [
    "## Create Non-Links"
   ]
  },
  {
   "cell_type": "code",
   "execution_count": 28,
   "id": "4a090d55",
   "metadata": {},
   "outputs": [
    {
     "data": {
      "text/plain": [
       "Fixed               30819\n",
       "Open                 5622\n",
       "Won't Fix            4898\n",
       "Duplicate            2465\n",
       "Non-Issue            2208\n",
       "Incorporated         1353\n",
       "Cannot Reproduce     1156\n",
       "Incomplete            470\n",
       "No Resources          159\n",
       "Done                   38\n",
       "Won't Do               16\n",
       "Name: resolution, dtype: int64"
      ]
     },
     "execution_count": 28,
     "metadata": {},
     "output_type": "execute_result"
    }
   ],
   "source": [
    "issues['resolution'].value_counts()"
   ]
  },
  {
   "cell_type": "code",
   "execution_count": 29,
   "id": "74409907",
   "metadata": {},
   "outputs": [
    {
     "name": "stderr",
     "output_type": "stream",
     "text": [
      "100%|██████████| 2717/2717 [00:06<00:00, 395.33it/s]"
     ]
    },
    {
     "name": "stdout",
     "output_type": "stream",
     "text": [
      "2173\n",
      "544\n"
     ]
    },
    {
     "name": "stderr",
     "output_type": "stream",
     "text": [
      "\n"
     ]
    }
   ],
   "source": [
    "import random\n",
    "non_link_issues = set(issues[~issues['resolution'].isin(['Duplicate', 'Open'])].index)\n",
    "\n",
    "no_issues = len(non_link_issues)\n",
    "\n",
    "cols = ['name', 'linktype', 'mappedtype', 'issue_id_1', 'issue_id_2', 'issues']\n",
    "non_links_df = pd.DataFrame(columns = cols)\n",
    "\n",
    "for i in tqdm(range(links.mappedtype.value_counts()[lt])):\n",
    "    sample = random.sample(non_link_issues, 2)\n",
    "    name = str(sample[0]) + \"_\" + str(sample[1])\n",
    "    non_links_df = non_links_df.append({\n",
    "        \"name\": name,\n",
    "        \"linktype\": \"Non-Link\",\n",
    "        \"mappedtype\": \"Non-Link\",\n",
    "        \"issue_id_1\":  sample[0],\n",
    "        \"issue_id_2\":  sample[1],\n",
    "        \"issues\": str(sorted(set([sample[0], sample[1]])))\n",
    "    }, ignore_index=True)\n",
    "    \n",
    "random_trainval_nl, random_test_nl = train_test_split(non_links_df, test_size = 0.2, random_state = 9)\n",
    "\n",
    "print(len(random_trainval_nl))\n",
    "print(len(random_test_nl))"
   ]
  },
  {
   "cell_type": "code",
   "execution_count": 30,
   "id": "4d7d3f0f",
   "metadata": {},
   "outputs": [
    {
     "data": {
      "text/plain": [
       "2173"
      ]
     },
     "execution_count": 30,
     "metadata": {},
     "output_type": "execute_result"
    }
   ],
   "source": [
    "len(random_trainval_lt)"
   ]
  },
  {
   "cell_type": "code",
   "execution_count": 31,
   "id": "a72f60f8",
   "metadata": {},
   "outputs": [
    {
     "data": {
      "text/plain": [
       "2173"
      ]
     },
     "execution_count": 31,
     "metadata": {},
     "output_type": "execute_result"
    }
   ],
   "source": [
    "len(random_trainval_ol)"
   ]
  },
  {
   "cell_type": "markdown",
   "id": "10aadf9e",
   "metadata": {},
   "source": [
    "## Merging Datasets"
   ]
  },
  {
   "cell_type": "markdown",
   "id": "be9928a5",
   "metadata": {},
   "source": [
    "### Dataset 1 Link type vs Non-Links"
   ]
  },
  {
   "cell_type": "code",
   "execution_count": 32,
   "id": "30ca6771",
   "metadata": {},
   "outputs": [
    {
     "name": "stdout",
     "output_type": "stream",
     "text": [
      "4346\n"
     ]
    }
   ],
   "source": [
    "random_train_1 = random_trainval_lt.append(random_trainval_nl, ignore_index=True)\n",
    "\n",
    "print(len(random_train_1))"
   ]
  },
  {
   "cell_type": "markdown",
   "id": "f661c453",
   "metadata": {},
   "source": [
    "### Dataset 2 Link type vs Other Links"
   ]
  },
  {
   "cell_type": "code",
   "execution_count": 33,
   "id": "909dd1b2",
   "metadata": {},
   "outputs": [
    {
     "name": "stdout",
     "output_type": "stream",
     "text": [
      "4346\n"
     ]
    }
   ],
   "source": [
    "random_train_2 = random_trainval_lt.append(random_trainval_ol, ignore_index=True)\n",
    "\n",
    "print(len(random_train_2))"
   ]
  },
  {
   "cell_type": "markdown",
   "id": "b71941cc",
   "metadata": {},
   "source": [
    "### Dataset 3 Link type vs Non-Links + Other-Links"
   ]
  },
  {
   "cell_type": "code",
   "execution_count": 34,
   "id": "bd013487",
   "metadata": {},
   "outputs": [
    {
     "name": "stdout",
     "output_type": "stream",
     "text": [
      "4346\n"
     ]
    }
   ],
   "source": [
    "random_trainval_olnl_all = random_trainval_ol.append(random_trainval_nl, ignore_index=True)\n",
    "\n",
    "random_trainval_olnl_index = random.sample(set(random_trainval_olnl_all.index), len(random_trainval_lt))\n",
    "\n",
    "random_trainval_olnl = random_trainval_olnl_all.loc[random_trainval_olnl_index]\n",
    "\n",
    "random_train_3 = random_trainval_lt.append(random_trainval_olnl, ignore_index=True)\n",
    "\n",
    "print(len(random_train_3))"
   ]
  },
  {
   "cell_type": "markdown",
   "id": "16ea84c7",
   "metadata": {},
   "source": [
    "### Dataset 4 Link type + Other-Links vs Non-Links"
   ]
  },
  {
   "cell_type": "code",
   "execution_count": 35,
   "id": "cafcb032",
   "metadata": {},
   "outputs": [
    {
     "name": "stdout",
     "output_type": "stream",
     "text": [
      "4346\n"
     ]
    }
   ],
   "source": [
    "random_trainval_ollt_all = random_trainval_ol.append(random_trainval_lt, ignore_index=True)\n",
    "\n",
    "random_trainval_ollt_index = random.sample(set(random_trainval_ollt_all.index), len(random_trainval_nl))\n",
    "\n",
    "random_trainval_old = random_trainval_ollt_all.loc[random_trainval_ollt_index]\n",
    "\n",
    "random_train_4 = random_trainval_nl.append(random_trainval_old, ignore_index=True)\n",
    "\n",
    "print(len(random_train_4))"
   ]
  },
  {
   "cell_type": "markdown",
   "id": "15a3235b",
   "metadata": {},
   "source": [
    "### Test Set"
   ]
  },
  {
   "cell_type": "code",
   "execution_count": 36,
   "id": "631c2e1e",
   "metadata": {},
   "outputs": [
    {
     "name": "stdout",
     "output_type": "stream",
     "text": [
      "1632\n",
      "1632\n"
     ]
    }
   ],
   "source": [
    "random_test_temp = random_test_lt.append(random_test_nl, ignore_index=True)\n",
    "random_test_lt = random_test_temp.append(random_test_ol, ignore_index=True)\n",
    "random_test_linked = random_test_temp.append(random_test_ol, ignore_index=True)\n",
    "\n",
    "print(len(random_test_lt))\n",
    "print(len(random_test_linked))"
   ]
  },
  {
   "cell_type": "markdown",
   "id": "6a208fb2",
   "metadata": {},
   "source": [
    "## Clean up"
   ]
  },
  {
   "cell_type": "code",
   "execution_count": 37,
   "id": "1ddb9ee2",
   "metadata": {},
   "outputs": [],
   "source": [
    "def clean_link_set(link_df):\n",
    "    # Sanity-Check for Duplicates\n",
    "    print(\"With duplicate entries: \"+str(len(link_df)))\n",
    "    link_df.drop_duplicates(inplace=True)\n",
    "    print(\"Without duplicate entries: \"+str(len(link_df)))\n",
    "    \n",
    "    doublelinks = (link_df.issues.value_counts()>1).rename_axis('doubles').reset_index(name='valid')\n",
    "    valid_doubles = set(doublelinks[doublelinks['valid']==True]['doubles'])\n",
    "    \n",
    "    print(\"With issue pairs with multiple link types: \"+str(len(link_df)))\n",
    "    for i in tqdm(valid_doubles):\n",
    "        if len(set(link_df[link_df['issues']==i]['linktype']))>1:\n",
    "            link_df=link_df[link_df.issues != i]\n",
    "    print(\"Without issue pairs with multiple link types: \"+str(len(link_df)))\n",
    "    \n",
    "    #Multiple links complete remove\n",
    "    print(\"With issue pairs with multiple entries: \"+str(len(link_df)))\n",
    "    link_df.drop_duplicates(subset=['issues'], inplace=True)\n",
    "    print(\"Without issue pairs with multiple entries: \"+str(len(link_df)))\n",
    "    \n",
    "    return link_df"
   ]
  },
  {
   "cell_type": "code",
   "execution_count": 38,
   "id": "e1ce0b8d",
   "metadata": {},
   "outputs": [],
   "source": [
    "def lt_set(label):\n",
    "    if label == lt:\n",
    "        return 1\n",
    "    elif label == 'Non-Link':\n",
    "        return 0\n",
    "    else:\n",
    "        return 0\n",
    "    \n",
    "def link_set(label):\n",
    "    if label == 'Non-Link':\n",
    "        return 0\n",
    "    else:\n",
    "        return 1"
   ]
  },
  {
   "cell_type": "code",
   "execution_count": 39,
   "id": "57c775ed",
   "metadata": {},
   "outputs": [],
   "source": [
    "random_sets = {'R_LTvNL_train': random_train_1, \n",
    "               'R_LTvOL_train': random_train_2, \n",
    "               'R_LTvNLOL_train': random_train_3, \n",
    "               'R_LTOLvNL_train': random_train_4,\n",
    "               'R_test_lt': random_test_lt,\n",
    "               'R_test_linked': random_test_linked}"
   ]
  },
  {
   "cell_type": "code",
   "execution_count": 40,
   "id": "a7be7b70",
   "metadata": {
    "scrolled": true
   },
   "outputs": [
    {
     "name": "stderr",
     "output_type": "stream",
     "text": [
      "0it [00:00, ?it/s]\n",
      "0it [00:00, ?it/s]\n",
      "0it [00:00, ?it/s]\n",
      "0it [00:00, ?it/s]\n",
      "0it [00:00, ?it/s]\n",
      "0it [00:00, ?it/s]"
     ]
    },
    {
     "name": "stdout",
     "output_type": "stream",
     "text": [
      "R_LTvNL_train\n",
      "68\n",
      "With duplicate entries: 4346\n",
      "Without duplicate entries: 4346\n",
      "With issue pairs with multiple link types: 4346\n",
      "Without issue pairs with multiple link types: 4346\n",
      "With issue pairs with multiple entries: 4346\n",
      "Without issue pairs with multiple entries: 4346\n",
      "R_LTvOL_train\n",
      "4346\n",
      "With duplicate entries: 4346\n",
      "Without duplicate entries: 4346\n",
      "With issue pairs with multiple link types: 4346\n",
      "Without issue pairs with multiple link types: 4346\n",
      "With issue pairs with multiple entries: 4346\n",
      "Without issue pairs with multiple entries: 4346\n",
      "R_LTvNLOL_train\n",
      "4346\n",
      "With duplicate entries: 4346\n",
      "Without duplicate entries: 4346\n",
      "With issue pairs with multiple link types: 4346\n",
      "Without issue pairs with multiple link types: 4346\n",
      "With issue pairs with multiple entries: 4346\n",
      "Without issue pairs with multiple entries: 4346\n",
      "R_LTOLvNL_train\n",
      "4346\n",
      "With duplicate entries: 4346\n",
      "Without duplicate entries: 4346\n",
      "With issue pairs with multiple link types: 4346\n",
      "Without issue pairs with multiple link types: 4346\n",
      "With issue pairs with multiple entries: 4346\n",
      "Without issue pairs with multiple entries: 4346\n",
      "R_test_lt\n",
      "4346\n",
      "With duplicate entries: 1632\n",
      "Without duplicate entries: 1632\n",
      "With issue pairs with multiple link types: 1632\n",
      "Without issue pairs with multiple link types: 1632\n",
      "With issue pairs with multiple entries: 1632\n",
      "Without issue pairs with multiple entries: 1632\n",
      "R_test_linked\n",
      "1632\n",
      "With duplicate entries: 1632\n",
      "Without duplicate entries: 1632\n",
      "With issue pairs with multiple link types: 1632\n",
      "Without issue pairs with multiple link types: 1632\n",
      "With issue pairs with multiple entries: 1632\n",
      "Without issue pairs with multiple entries: 1632\n"
     ]
    },
    {
     "name": "stderr",
     "output_type": "stream",
     "text": [
      "\n"
     ]
    }
   ],
   "source": [
    "for dataset in random_sets.keys():\n",
    "    print(dataset)\n",
    "    print(len(temp))\n",
    "    temp = random_sets[dataset]\n",
    "    temp = clean_link_set(temp)\n",
    "    \n",
    "    random_sets[dataset] = temp"
   ]
  },
  {
   "cell_type": "code",
   "execution_count": 41,
   "id": "afca83ef",
   "metadata": {},
   "outputs": [],
   "source": [
    "issues['text']=issues['description']+\" \"+issues[\"title\"]\n",
    "\n",
    "issues['text'] = issues['text'].apply(lambda x: str(x).replace(\"\\n\", \" \"))\n",
    "issues['text'] = issues['text'].apply(lambda x: str(x).replace(\"\\t\", \" \"))\n",
    "\n",
    "issue_text_data = issues['text']"
   ]
  },
  {
   "cell_type": "code",
   "execution_count": 42,
   "id": "a030e158",
   "metadata": {},
   "outputs": [
    {
     "name": "stdout",
     "output_type": "stream",
     "text": [
      "R_LTvNL_train\n",
      "R_LTvOL_train\n",
      "R_LTvNLOL_train\n",
      "R_LTOLvNL_train\n",
      "R_test_lt\n",
      "R_test_linked\n"
     ]
    }
   ],
   "source": [
    "for dataset in random_sets.keys():\n",
    "    print(dataset)\n",
    "    \n",
    "    temp = random_sets[dataset]\n",
    "    temp = temp.merge(issue_text_data, left_on='issue_id_1', right_on='issue_id')\n",
    "    temp = temp.merge(issue_text_data, left_on='issue_id_2', right_on='issue_id', suffixes=('_1', '_2'))\n",
    "    random_sets[dataset] = temp"
   ]
  },
  {
   "cell_type": "markdown",
   "id": "1d7f9f99",
   "metadata": {},
   "source": [
    "## Linktype Mapping for Data sets"
   ]
  },
  {
   "cell_type": "code",
   "execution_count": 43,
   "id": "2dce45e5",
   "metadata": {
    "scrolled": true
   },
   "outputs": [
    {
     "name": "stdout",
     "output_type": "stream",
     "text": [
      "R_LTvNL_train\n",
      "mappedtype   label\n",
      "Duplication  1        2173\n",
      "Non-Link     0        2173\n",
      "dtype: int64\n",
      "R_LTvOL_train\n",
      "mappedtype        label\n",
      "Composition       0         647\n",
      "Duplication       1        2173\n",
      "General Relation  0        1221\n",
      "Temporal/Causal   0         304\n",
      "Workflow          0           1\n",
      "dtype: int64\n",
      "R_LTvNLOL_train\n",
      "mappedtype        label\n",
      "Composition       0         330\n",
      "Duplication       1        2173\n",
      "General Relation  0         601\n",
      "Non-Link          0        1095\n",
      "Temporal/Causal   0         146\n",
      "Workflow          0           1\n",
      "dtype: int64\n",
      "R_LTOLvNL_train\n",
      "mappedtype        label\n",
      "Composition       1         323\n",
      "Duplication       1        1070\n",
      "General Relation  1         612\n",
      "Non-Link          0        2173\n",
      "Temporal/Causal   1         168\n",
      "dtype: int64\n",
      "R_test_lt\n",
      "mappedtype        label\n",
      "Composition       0        151\n",
      "Duplication       1        544\n",
      "General Relation  0        307\n",
      "Non-Link          0        544\n",
      "Temporal/Causal   0         86\n",
      "dtype: int64\n",
      "R_test_linked\n",
      "mappedtype        label\n",
      "Composition       1        151\n",
      "Duplication       1        544\n",
      "General Relation  1        307\n",
      "Non-Link          0        544\n",
      "Temporal/Causal   1         86\n",
      "dtype: int64\n"
     ]
    }
   ],
   "source": [
    "for dataset in random_sets.keys():\n",
    "    print(dataset)\n",
    "    temp = random_sets[dataset]\n",
    "    \n",
    "    temp['mappedtype'] = temp['linktype'].map(type_dict)\n",
    "    temp.mappedtype.value_counts()\n",
    "    \n",
    "    temp['label'] = 0\n",
    "    if dataset in ['R_LTOLvNL_train', 'R_test_linked']:\n",
    "        temp['label'] = temp['mappedtype'].map(link_set)\n",
    "    else:\n",
    "        temp['label'] = temp['mappedtype'].map(lt_set)\n",
    "        \n",
    "    random_sets[dataset] = temp\n",
    "    \n",
    "    print(temp.groupby(['mappedtype', 'label']).size())"
   ]
  },
  {
   "cell_type": "markdown",
   "id": "f8504f94",
   "metadata": {},
   "source": [
    "# Model"
   ]
  },
  {
   "cell_type": "code",
   "execution_count": 44,
   "id": "301ca9c8",
   "metadata": {},
   "outputs": [
    {
     "name": "stdout",
     "output_type": "stream",
     "text": [
      "Creating functions.\n"
     ]
    }
   ],
   "source": [
    "print(\"Creating functions.\")\n",
    "def plot_history(history):\n",
    "#     keys = history.history.keys()\n",
    "    for i in list(history.history)[0:2]:\n",
    "        print(i)\n",
    "        # list all data in history\n",
    "        # summarize history for accuracy\n",
    "        plt.plot(history.history[i])        \n",
    "        plt.plot(history.history['val_'+i])\n",
    "        plt.title('model '+ i)\n",
    "        plt.ylabel(i)\n",
    "        plt.xlabel('epoch')\n",
    "        plt.legend(['train', 'test'], loc='upper left')\n",
    "        plt.show()"
   ]
  },
  {
   "cell_type": "code",
   "execution_count": 45,
   "id": "ac88447e",
   "metadata": {},
   "outputs": [],
   "source": [
    "def get_matrices(df_set):\n",
    "    c=0\n",
    "    matrix = []\n",
    "    tags = []\n",
    "    for i in range(len(df_set)): #contains preprocessed bug reports\n",
    "        m1 = np.zeros((300,20))\n",
    "        m2 = np.zeros((300,20))\n",
    "        count = 0\n",
    "        line1 = df_set['text_1'].iloc[i]\n",
    "        line2 = df_set['text_2'].iloc[i]\n",
    "        words1 = str(line1).split(' ')\n",
    "        words2 = str(line2).split(' ')\n",
    "        for word in words1:\n",
    "    #         print(word)\n",
    "            if count<300:\n",
    "                if word in model_CBOW.wv:\n",
    "                    m1[count,:]=model_CBOW.wv[word]\n",
    "                    count+=1\n",
    "                else:\n",
    "                    count+=1\n",
    "        count = 0    \n",
    "        for word in words2:\n",
    "    #         print(word)\n",
    "            if count<300:\n",
    "                if word in model_CBOW.wv:\n",
    "                    m2[count,:]=model_CBOW.wv[word]\n",
    "                    count+=1\n",
    "                else:\n",
    "                    count+=1\n",
    "        tag = df_set['label'].iloc[i]\n",
    "        tags.append(tag)\n",
    "        m1 = m1.reshape(300,20,1)\n",
    "        m2 = m2.reshape(300,20,1)\n",
    "        c+=1\n",
    "        matrix_temp=np.append(m1,m2,axis=2)\n",
    "        matrix.append(matrix_temp)\n",
    "\n",
    "    print(c)\n",
    "    \n",
    "    return matrix, tags"
   ]
  },
  {
   "cell_type": "code",
   "execution_count": 46,
   "id": "483ca292",
   "metadata": {},
   "outputs": [],
   "source": [
    "def get_session(gpu_fraction=0.3):\n",
    "    \"\"\"\n",
    "    This function is to allocate GPU memory a specific fraction\n",
    "    Assume that you have 6GB of GPU memory and want to allocate ~2GB\n",
    "    \"\"\"\n",
    "    num_threads = os.environ.get('OMP_NUM_THREADS')\n",
    "    gpu_options = tf.GPUOptions(per_process_gpu_memory_fraction=gpu_fraction)\n",
    "\n",
    "    if num_threads:\n",
    "        return tf.Session(config=tf.ConfigProto(\n",
    "            gpu_options=gpu_options, intra_op_parallelism_threads=num_threads))\n",
    "    else:\n",
    "        return tf.Session(config=tf.ConfigProto(gpu_options=gpu_options))"
   ]
  },
  {
   "cell_type": "markdown",
   "id": "9aa4b13e",
   "metadata": {},
   "source": [
    "## DC-CNN Model"
   ]
  },
  {
   "cell_type": "code",
   "execution_count": 47,
   "id": "80c59662",
   "metadata": {},
   "outputs": [],
   "source": [
    "def DCCNN_Model(input_shape):\n",
    "    X_input = Input(shape=input_shape)\n",
    "    \n",
    "    X_1 = Conv2D(100, kernel_size=(1,20), strides=(1,1), activation='relu')(X_input)\n",
    "    X_1 = layers.normalization.BatchNormalization(axis=-1)(X_1)\n",
    "    X_1 = Reshape((300,100,1))(X_1)\n",
    "    \n",
    "    \n",
    "    X_1_1 = Conv2D(200, kernel_size=(1,100), strides=(1,1),activation='relu')(X_1)\n",
    "    X_1_1 = layers.normalization.BatchNormalization(axis=-1)(X_1_1)\n",
    "    X_1_1 = MaxPooling2D(pool_size=(300,1),padding='valid')(X_1_1)\n",
    "    X_1_1 = Flatten()(X_1_1)\n",
    "    X_1_2 = Conv2D(200, kernel_size=(2,100), strides=(1,1),activation='relu')(X_1)\n",
    "    X_1_2 = layers.normalization.BatchNormalization(axis=-1)(X_1_2)\n",
    "    X_1_2 = MaxPooling2D(pool_size=(299,1),padding='valid')(X_1_2)\n",
    "    X_1_2 = Flatten()(X_1_2)\n",
    "    X_1_3 = Conv2D(200, kernel_size=(3,100), strides=(1,1),activation='relu')(X_1)\n",
    "    X_1_3 = layers.normalization.BatchNormalization(axis=-1)(X_1_3)\n",
    "    X_1_3 = MaxPooling2D(pool_size=(298,1),padding='valid')(X_1_3)\n",
    "    X_1_3 = Flatten()(X_1_3)\n",
    "    \n",
    "    X_1 = layers.Concatenate(axis=-1)([X_1_1,X_1_2])\n",
    "    X_1 = layers.Concatenate(axis=-1)([X_1,X_1_3])\n",
    "    \n",
    "    X_2 = Conv2D(100, kernel_size=(2,20), strides=(1,1),activation='relu')(X_input)\n",
    "    X_2 = layers.normalization.BatchNormalization(axis=-1)(X_2)\n",
    "    X_2 = Reshape((299,100,1))(X_2)\n",
    "    \n",
    "    X_2_1 = Conv2D(200, kernel_size=(1,100), strides=(1,1),activation='relu')(X_2)\n",
    "    X_2_1 = layers.normalization.BatchNormalization(axis=-1)(X_2_1)\n",
    "    X_2_1 = MaxPooling2D(pool_size=(299,1),padding='valid')(X_2_1)\n",
    "    X_2_1 = Flatten()(X_2_1)\n",
    "    X_2_2 = Conv2D(200, kernel_size=(2,100), strides=(1,1),activation='relu')(X_2)\n",
    "    X_2_2 = layers.normalization.BatchNormalization(axis=-1)(X_2_2)\n",
    "    X_2_2 = MaxPooling2D(pool_size=(298,1),padding='valid')(X_2_2)\n",
    "    X_2_2 = Flatten()(X_2_2)\n",
    "    X_2_3 = Conv2D(200, kernel_size=(3,100), strides=(1,1),activation='relu')(X_2)\n",
    "    X_2_3 = layers.normalization.BatchNormalization(axis=-1)(X_2_3)\n",
    "    X_2_3 = MaxPooling2D(pool_size=(297,1),padding='valid')(X_2_3)\n",
    "    X_2_3 = Flatten()(X_2_3)\n",
    "    \n",
    "    X_2 = layers.Concatenate(axis=-1)([X_2_1,X_2_2])\n",
    "    X_2 = layers.Concatenate(axis=-1)([X_2,X_2_3])\n",
    "    \n",
    "    X_3 = Conv2D(100, kernel_size=(3,20), strides=(1,1),activation='relu')(X_input)\n",
    "    X_3 = layers.normalization.BatchNormalization(axis=-1)(X_3)\n",
    "    X_3 = Reshape((298,100,1))(X_3)\n",
    "    \n",
    "    X_3_1 = Conv2D(200, kernel_size=(1,100), strides=(1,1),activation='relu')(X_3)\n",
    "    X_3_1 = layers.normalization.BatchNormalization(axis=-1)(X_3_1)\n",
    "    X_3_1 = MaxPooling2D(pool_size=(298,1),padding='valid')(X_3_1)\n",
    "    X_3_1 = Flatten()(X_3_1)\n",
    "    X_3_2 = Conv2D(200, kernel_size=(2,100), strides=(1,1),activation='relu')(X_3)\n",
    "    X_3_2 = layers.normalization.BatchNormalization(axis=-1)(X_3_2)\n",
    "    X_3_2 = MaxPooling2D(pool_size=(297,1),padding='valid')(X_3_2)\n",
    "    X_3_2 = Flatten()(X_3_2)\n",
    "    X_3_3 = Conv2D(200, kernel_size=(3,100), strides=(1,1),activation='relu')(X_3)\n",
    "    X_3_3 = layers.normalization.BatchNormalization(axis=-1)(X_3_3)\n",
    "    X_3_3 = MaxPooling2D(pool_size=(296,1),padding='valid')(X_3_3)\n",
    "    X_3_3 = Flatten()(X_3_3)\n",
    "    \n",
    "    X_3 = layers.Concatenate(axis=-1)([X_3_1,X_3_2])\n",
    "    X_3 = layers.Concatenate(axis=-1)([X_3,X_3_3])\n",
    "    \n",
    "    X = layers.Concatenate(axis=-1)([X_1,X_2])\n",
    "    X = layers.Concatenate(axis=-1)([X,X_3])\n",
    "    \n",
    "    X = Dropout(0.6)(X)\n",
    "    X = Dense(300, activation='relu')(X)\n",
    "    X = layers.normalization.BatchNormalization(axis=-1)(X)\n",
    "    \n",
    "    \n",
    "    X = Dropout(0.4)(X)\n",
    "    X = Dense(100, activation='relu')(X)\n",
    "    X = layers.normalization.BatchNormalization(axis=-1)(X)\n",
    "\n",
    "    \n",
    "    X = Dropout(0.4)(X)\n",
    "    Y = Dense(1, activation='sigmoid')(X)\n",
    "    model = Model(inputs = X_input, outputs = Y, name='CNN_Model')\n",
    "    \n",
    "#     print(model.summary())\n",
    "    \n",
    "    return model"
   ]
  },
  {
   "cell_type": "code",
   "execution_count": 48,
   "id": "eab9b102",
   "metadata": {},
   "outputs": [],
   "source": [
    "def train_model(df_train):\n",
    "    # tf.set_random_seed(1)\n",
    "    os.environ['TF_CPP_MIN_LOG_LEVEL'] = '2' \n",
    "\n",
    "    matrix_train, tags_train = get_matrices(df_train)\n",
    "    \n",
    "    data_train = []\n",
    "    label_train = []\n",
    "\n",
    "    data_train = np.array(matrix_train)\n",
    "    label_train = np.array(tags_train)\n",
    "\n",
    "    index = [i for i in range(len(data_train))] \n",
    "    random.shuffle(index)\n",
    "    data_train = data_train[index]\n",
    "    label_train = label_train[index]\n",
    "\n",
    "    early_stopping = EarlyStopping(monitor='val_loss', patience=25, verbose=2)\n",
    "\n",
    "    dccnnModel = DCCNN_Model((300, 20, 2))\n",
    "    dccnnModel.compile(optimizer=keras.optimizers.Adam(lr=0.001, beta_1=0.9, beta_2=0.999, epsilon=1e-08, decay=0.0), loss='binary_crossentropy', metrics=['accuracy'])\n",
    "    hist = dccnnModel.fit(x=data_train, y=label_train, batch_size=64, epochs=100, validation_split=0.1, callbacks=[early_stopping], verbose=0)\n",
    "\n",
    "    plot_history(hist)\n",
    "    \n",
    "    K.clear_session()\n",
    "    \n",
    "    return dccnnModel"
   ]
  },
  {
   "cell_type": "code",
   "execution_count": 49,
   "id": "ef5bf98b",
   "metadata": {},
   "outputs": [],
   "source": [
    "def eval_model(model, df_test, link):\n",
    "    matrix_test, tags_test = get_matrices(df_test)\n",
    "    \n",
    "    data_test = []\n",
    "    label_test = []\n",
    "\n",
    "    data_test = np.array(matrix_test)\n",
    "    label_test = np.array(tags_test)\n",
    "    \n",
    "    ## Get predictions\n",
    "    preds = model.predict(np.array(data_test))\n",
    "    roundelt_preds = np.round(preds).astype(int)\n",
    "\n",
    "    class_rep = classification_report(label_test, roundelt_preds, output_dict=True)\n",
    "    class_rep_df = pd.DataFrame(class_rep).transpose()\n",
    "    \n",
    "    auc = metrics.roc_auc_score(label_test, preds)\n",
    "    acc = class_rep_df['precision'].loc['accuracy']\n",
    "\n",
    "    print(class_rep_df)\n",
    "\n",
    "    conf_mat = confusion_matrix(label_test, roundelt_preds)\n",
    "\n",
    "    print(pd.DataFrame(conf_mat, index=[0, 1], columns=[0, 1]))\n",
    "    \n",
    "    df_test_preds = df_test\n",
    "    df_test_preds['pred'] = roundelt_preds\n",
    "    \n",
    "    conf_mat_comp = df_test_preds.groupby(['mappedtype', 'pred']).size()\n",
    "    \n",
    "    lt_preds = df_test_preds[(df_test_preds['mappedtype']==lt)][['mappedtype', 'pred']]\n",
    "    ol_preds = df_test_preds[(df_test_preds['mappedtype']!='Non-Link')&(df_test_preds['mappedtype']!=lt)][['mappedtype', 'pred']]    \n",
    "    nl_preds = df_test_preds[(df_test_preds['mappedtype']=='Non-Link')][['mappedtype', 'pred']]\n",
    "    \n",
    "    lt_cf = lt_preds['pred'].value_counts()\n",
    "    ol_cf = ol_preds['pred'].value_counts()\n",
    "    nl_cf = nl_preds['pred'].value_counts()\n",
    "    \n",
    "    try:\n",
    "        LT0 = lt_cf[0]\n",
    "    except:\n",
    "        LT0 = 0\n",
    "        \n",
    "    try:    \n",
    "        LT1 = lt_cf[1]\n",
    "    except:\n",
    "        LT1 = 0\n",
    "        \n",
    "    try:\n",
    "        OL0 = ol_cf[0]\n",
    "    except:\n",
    "        OL0 = 0\n",
    "        \n",
    "    try:\n",
    "        OL1 = ol_cf[1]\n",
    "    except:\n",
    "        OL1 = 0\n",
    "        \n",
    "    try:\n",
    "        NL0 = nl_cf[0]\n",
    "    except:\n",
    "        NL0 = 0\n",
    "        \n",
    "    try:\n",
    "        NL1 = nl_cf[1]\n",
    "    except:\n",
    "        NL1 = 0\n",
    "    \n",
    "    conf_mat_df = pd.DataFrame(columns = ['Class', '0', '1'])\n",
    "    \n",
    "    conf_mat_df.loc[len(conf_mat_df)] = [lt.upper(), LT0, LT1]\n",
    "    conf_mat_df.loc[len(conf_mat_df)] = [\"OTHER-LINKS\", OL0, OL1]\n",
    "    conf_mat_df.loc[len(conf_mat_df)] = [\"NON-LINKS\", NL0, NL1]\n",
    "    \n",
    "    print(conf_mat_df)\n",
    "    \n",
    "    if link:\n",
    "        try:\n",
    "            lt_pre = LT1 / (LT1+NL1)\n",
    "        except:\n",
    "            lt_pre = 0\n",
    "        lt_rec = LT1 / (LT1+LT0)\n",
    "    \n",
    "        try:\n",
    "            ol_pre = OL1 / (OL1+NL1)\n",
    "        except:\n",
    "            ol_pre = 0\n",
    "        ol_rec = OL1 / (OL1+OL0)\n",
    "        \n",
    "        try:\n",
    "            nl_pre = NL0 / (NL0+LT0+OL0)\n",
    "        except:\n",
    "            nl_pre = 0\n",
    "        nl_rec = NL0 / (NL0+NL1)\n",
    "        \n",
    "        both_metrics = class_rep_df.loc['1'].to_list()\n",
    "        \n",
    "    else:\n",
    "        try:\n",
    "            lt_pre = LT1 / (LT1+OL1+NL1)\n",
    "        except:\n",
    "            lt_pre = 0\n",
    "        lt_rec = LT1 / (LT1+LT0)\n",
    "        \n",
    "        try:\n",
    "            ol_pre = OL0 / (LT0+OL0)\n",
    "        except:\n",
    "            ol_pre = 0\n",
    "        ol_rec = OL0 / (OL0+OL1)\n",
    "        \n",
    "        try:\n",
    "            nl_pre = NL0 / (LT0+NL0)\n",
    "        except:\n",
    "            nl_pre = 0\n",
    "        nl_rec = NL0 / (NL0+NL1)\n",
    "        \n",
    "        both_metrics = class_rep_df.loc['0'].to_list()\n",
    "\n",
    "    lt_f1 = 2*(lt_pre*lt_rec)/(lt_pre+lt_rec)\n",
    "    \n",
    "    ol_f1 = 2*(ol_pre*ol_rec)/(ol_pre+ol_rec)\n",
    "        \n",
    "    nl_f1 = 2*(nl_pre*nl_rec)/(nl_pre+nl_rec)\n",
    "    \n",
    "    lt_metrics = [lt, lt_pre, lt_rec, lt_f1]\n",
    "    ol_metrics = ['Other-Links', ol_pre, ol_rec, ol_f1]\n",
    "    nl_metrics = ['Non-Links', nl_pre, nl_rec, nl_f1]\n",
    "    \n",
    "    both_metrics.insert(0, 'Both')\n",
    "    both_metrics = both_metrics[:-1]\n",
    "\n",
    "    print(conf_mat_comp)\n",
    "    \n",
    "    return acc, auc, lt_metrics, ol_metrics, nl_metrics, both_metrics, conf_mat_df, df_test_preds"
   ]
  },
  {
   "cell_type": "code",
   "execution_count": 50,
   "id": "b593dc4a",
   "metadata": {},
   "outputs": [],
   "source": [
    "def do_model(dataset):\n",
    "    sccnn_model = train_model(random_sets[dataset+'_train'])\n",
    "    if dataset == 'R_LTOLvNL':\n",
    "        metrics_df, accauc_df, conf_mat_df, df_test_preds = do_test(sccnn_model, 'R_test_linked', True)\n",
    "        \n",
    "    else: \n",
    "        metrics_df, accauc_df, conf_mat_df, df_test_preds = do_test(sccnn_model, 'R_test_lt', False)\n",
    "    \n",
    "    metrics_df.to_csv('results/dccnn_'+SOURCE+'_'+lt+'_'+dataset+'_metrics.csv', encoding='utf-8', index=False)\n",
    "    accauc_df.to_csv('results/dccnn_'+SOURCE+'_'+lt+'_'+dataset+'_accauc.csv', encoding='utf-8', index=False)\n",
    "    conf_mat_df.to_csv('results/dccnn_'+SOURCE+'_'+lt+'_'+dataset+'_confmat.csv', encoding='utf-8', index=False)\n",
    "   \n",
    "    print(conf_mat_df)\n",
    "    print(accauc_df)\n",
    "    print(metrics_df)\n",
    "    \n",
    "    return df_test_preds\n",
    "\n",
    "def do_test(model, dataset, link):\n",
    "    acc, auc, lt_metrics, ol_metrics, nl_metrics, both_metrics, conf_mat_df, df_test_preds = eval_model(model, random_sets[dataset], link)\n",
    "\n",
    "    accauc_df = pd.DataFrame(columns = ['Dataset', 'ACC', 'AUC'])\n",
    "    accauc_df = accauc_df.append({\n",
    "        \"Dataset\": dataset,\n",
    "        \"ACC\": acc,\n",
    "        \"AUC\": auc\n",
    "    }, ignore_index=True)\n",
    "\n",
    "    metrics_df = pd.DataFrame(columns = ['Class', 'Precision', 'Recall', 'F1'])\n",
    "    metrics_df.loc[len(metrics_df)] = lt_metrics\n",
    "    metrics_df.loc[len(metrics_df)] = nl_metrics\n",
    "    metrics_df.loc[len(metrics_df)] = ol_metrics\n",
    "    metrics_df.loc[len(metrics_df)] = both_metrics\n",
    "    \n",
    "    return metrics_df, accauc_df, conf_mat_df, df_test_preds"
   ]
  },
  {
   "cell_type": "markdown",
   "id": "c53161a8",
   "metadata": {},
   "source": [
    "## Random"
   ]
  },
  {
   "cell_type": "code",
   "execution_count": 51,
   "id": "36cabac6",
   "metadata": {},
   "outputs": [
    {
     "name": "stdout",
     "output_type": "stream",
     "text": [
      "4346\n",
      "Epoch 00046: early stopping\n",
      "loss\n"
     ]
    },
    {
     "data": {
      "image/png": "[encoded data removed]",
      "text/plain": [
       "<Figure size 432x288 with 1 Axes>"
      ]
     },
     "metadata": {
      "needs_background": "light"
     },
     "output_type": "display_data"
    },
    {
     "name": "stdout",
     "output_type": "stream",
     "text": [
      "accuracy\n"
     ]
    },
    {
     "data": {
      "image/png": "[encoded data removed]",
      "text/plain": [
       "<Figure size 432x288 with 1 Axes>"
      ]
     },
     "metadata": {
      "needs_background": "light"
     },
     "output_type": "display_data"
    },
    {
     "name": "stdout",
     "output_type": "stream",
     "text": [
      "1632\n",
      "              precision    recall  f1-score      support\n",
      "0              0.783875  0.643382  0.706714  1088.000000\n",
      "1              0.474966  0.645221  0.547155   544.000000\n",
      "accuracy       0.643995  0.643995  0.643995     0.643995\n",
      "macro avg      0.629420  0.644301  0.626934  1632.000000\n",
      "weighted avg   0.680905  0.643995  0.653528  1632.000000\n",
      "     0    1\n",
      "0  700  388\n",
      "1  193  351\n",
      "         Class    0    1\n",
      "0  DUPLICATION  193  351\n",
      "1  OTHER-LINKS  319  225\n",
      "2    NON-LINKS  381  163\n",
      "mappedtype        pred\n",
      "Composition       0        91\n",
      "                  1        60\n",
      "Duplication       0       193\n",
      "                  1       351\n",
      "General Relation  0       173\n",
      "                  1       134\n",
      "Non-Link          0       381\n",
      "                  1       163\n",
      "Temporal/Causal   0        55\n",
      "                  1        31\n",
      "dtype: int64\n",
      "         Class    0    1\n",
      "0  DUPLICATION  193  351\n",
      "1  OTHER-LINKS  319  225\n",
      "2    NON-LINKS  381  163\n",
      "     Dataset       ACC       AUC\n",
      "0  R_test_lt  0.643995  0.716333\n",
      "         Class  Precision    Recall        F1\n",
      "0  Duplication   0.474966  0.645221  0.547155\n",
      "1    Non-Links   0.663763  0.700368  0.681574\n",
      "2  Other-Links   0.623047  0.586397  0.604167\n",
      "3         Both   0.783875  0.643382  0.706714\n"
     ]
    }
   ],
   "source": [
    "LTvNL_preds = do_model('R_LTvNL')"
   ]
  },
  {
   "cell_type": "code",
   "execution_count": 52,
   "id": "2e1d7f37",
   "metadata": {},
   "outputs": [
    {
     "name": "stdout",
     "output_type": "stream",
     "text": [
      "4346\n",
      "Epoch 00038: early stopping\n",
      "loss\n"
     ]
    },
    {
     "data": {
      "image/png": "[encoded data removed]",
      "text/plain": [
       "<Figure size 432x288 with 1 Axes>"
      ]
     },
     "metadata": {
      "needs_background": "light"
     },
     "output_type": "display_data"
    },
    {
     "name": "stdout",
     "output_type": "stream",
     "text": [
      "accuracy\n"
     ]
    },
    {
     "data": {
      "image/png": "[encoded data removed]",
      "text/plain": [
       "<Figure size 432x288 with 1 Axes>"
      ]
     },
     "metadata": {
      "needs_background": "light"
     },
     "output_type": "display_data"
    },
    {
     "name": "stdout",
     "output_type": "stream",
     "text": [
      "1632\n",
      "              precision    recall  f1-score      support\n",
      "0              0.790960  0.643382  0.709579  1088.000000\n",
      "1              0.480589  0.659926  0.556158   544.000000\n",
      "accuracy       0.648897  0.648897  0.648897     0.648897\n",
      "macro avg      0.635775  0.651654  0.632869  1632.000000\n",
      "weighted avg   0.687503  0.648897  0.658439  1632.000000\n",
      "     0    1\n",
      "0  700  388\n",
      "1  185  359\n",
      "         Class    0    1\n",
      "0  DUPLICATION  185  359\n",
      "1  OTHER-LINKS  375  169\n",
      "2    NON-LINKS  325  219\n",
      "mappedtype        pred\n",
      "Composition       0       119\n",
      "                  1        32\n",
      "Duplication       0       185\n",
      "                  1       359\n",
      "General Relation  0       194\n",
      "                  1       113\n",
      "Non-Link          0       325\n",
      "                  1       219\n",
      "Temporal/Causal   0        62\n",
      "                  1        24\n",
      "dtype: int64\n",
      "         Class    0    1\n",
      "0  DUPLICATION  185  359\n",
      "1  OTHER-LINKS  375  169\n",
      "2    NON-LINKS  325  219\n",
      "     Dataset       ACC       AUC\n",
      "0  R_test_lt  0.648897  0.701911\n",
      "         Class  Precision    Recall        F1\n",
      "0  Duplication   0.480589  0.659926  0.556158\n",
      "1    Non-Links   0.637255  0.597426  0.616698\n",
      "2  Other-Links   0.669643  0.689338  0.679348\n",
      "3         Both   0.790960  0.643382  0.709579\n"
     ]
    }
   ],
   "source": [
    "LTvOL_preds = do_model('R_LTvOL')"
   ]
  },
  {
   "cell_type": "code",
   "execution_count": 53,
   "id": "c1bf4c26",
   "metadata": {},
   "outputs": [
    {
     "name": "stdout",
     "output_type": "stream",
     "text": [
      "4346\n",
      "Epoch 00041: early stopping\n",
      "loss\n"
     ]
    },
    {
     "data": {
      "image/png": "[encoded data removed]",
      "text/plain": [
       "<Figure size 432x288 with 1 Axes>"
      ]
     },
     "metadata": {
      "needs_background": "light"
     },
     "output_type": "display_data"
    },
    {
     "name": "stdout",
     "output_type": "stream",
     "text": [
      "accuracy\n"
     ]
    },
    {
     "data": {
      "image/png": "[encoded data removed]",
      "text/plain": [
       "<Figure size 432x288 with 1 Axes>"
      ]
     },
     "metadata": {
      "needs_background": "light"
     },
     "output_type": "display_data"
    },
    {
     "name": "stdout",
     "output_type": "stream",
     "text": [
      "1632\n",
      "              precision    recall  f1-score      support\n",
      "0              0.773166  0.736213  0.754237  1088.000000\n",
      "1              0.518456  0.568015  0.542105   544.000000\n",
      "accuracy       0.680147  0.680147  0.680147     0.680147\n",
      "macro avg      0.645811  0.652114  0.648171  1632.000000\n",
      "weighted avg   0.688263  0.680147  0.683527  1632.000000\n",
      "     0    1\n",
      "0  801  287\n",
      "1  235  309\n",
      "         Class    0    1\n",
      "0  DUPLICATION  235  309\n",
      "1  OTHER-LINKS  411  133\n",
      "2    NON-LINKS  390  154\n",
      "mappedtype        pred\n",
      "Composition       0       121\n",
      "                  1        30\n",
      "Duplication       0       235\n",
      "                  1       309\n",
      "General Relation  0       219\n",
      "                  1        88\n",
      "Non-Link          0       390\n",
      "                  1       154\n",
      "Temporal/Causal   0        71\n",
      "                  1        15\n",
      "dtype: int64\n",
      "         Class    0    1\n",
      "0  DUPLICATION  235  309\n",
      "1  OTHER-LINKS  411  133\n",
      "2    NON-LINKS  390  154\n",
      "     Dataset       ACC       AUC\n",
      "0  R_test_lt  0.680147  0.711577\n",
      "         Class  Precision    Recall        F1\n",
      "0  Duplication   0.518456  0.568015  0.542105\n",
      "1    Non-Links   0.624000  0.716912  0.667237\n",
      "2  Other-Links   0.636223  0.755515  0.690756\n",
      "3         Both   0.773166  0.736213  0.754237\n"
     ]
    }
   ],
   "source": [
    "LTvNLOL_preds = do_model('R_LTvNLOL')"
   ]
  },
  {
   "cell_type": "code",
   "execution_count": 54,
   "id": "60f952eb",
   "metadata": {},
   "outputs": [
    {
     "name": "stdout",
     "output_type": "stream",
     "text": [
      "4346\n",
      "Epoch 00040: early stopping\n",
      "loss\n"
     ]
    },
    {
     "data": {
      "image/png": "[encoded data removed]",
      "text/plain": [
       "<Figure size 432x288 with 1 Axes>"
      ]
     },
     "metadata": {
      "needs_background": "light"
     },
     "output_type": "display_data"
    },
    {
     "name": "stdout",
     "output_type": "stream",
     "text": [
      "accuracy\n"
     ]
    },
    {
     "data": {
      "image/png": "[encoded data removed]",
      "text/plain": [
       "<Figure size 432x288 with 1 Axes>"
      ]
     },
     "metadata": {
      "needs_background": "light"
     },
     "output_type": "display_data"
    },
    {
     "name": "stdout",
     "output_type": "stream",
     "text": [
      "1632\n",
      "              precision    recall  f1-score      support\n",
      "0              0.446857  0.718750  0.551092   544.000000\n",
      "1              0.797886  0.555147  0.654743  1088.000000\n",
      "accuracy       0.609681  0.609681  0.609681     0.609681\n",
      "macro avg      0.622372  0.636949  0.602917  1632.000000\n",
      "weighted avg   0.680877  0.609681  0.620192  1632.000000\n",
      "     0    1\n",
      "0  391  153\n",
      "1  484  604\n",
      "         Class    0    1\n",
      "0  DUPLICATION  229  315\n",
      "1  OTHER-LINKS  255  289\n",
      "2    NON-LINKS  391  153\n",
      "mappedtype        pred\n",
      "Composition       0        55\n",
      "                  1        96\n",
      "Duplication       0       229\n",
      "                  1       315\n",
      "General Relation  0       153\n",
      "                  1       154\n",
      "Non-Link          0       391\n",
      "                  1       153\n",
      "Temporal/Causal   0        47\n",
      "                  1        39\n",
      "dtype: int64\n",
      "         Class    0    1\n",
      "0  DUPLICATION  229  315\n",
      "1  OTHER-LINKS  255  289\n",
      "2    NON-LINKS  391  153\n",
      "         Dataset       ACC       AUC\n",
      "0  R_test_linked  0.609681  0.695885\n",
      "         Class  Precision    Recall        F1\n",
      "0  Duplication   0.673077  0.579044  0.622530\n",
      "1    Non-Links   0.446857  0.718750  0.551092\n",
      "2  Other-Links   0.653846  0.531250  0.586207\n",
      "3         Both   0.797886  0.555147  0.654743\n"
     ]
    }
   ],
   "source": [
    "LTOLvNL_preds = do_model('R_LTOLvNL')"
   ]
  }
 ],
 "metadata": {
  "kernelspec": {
   "display_name": "Python 3",
   "language": "python",
   "name": "python3"
  },
  "language_info": {
   "codemirror_mode": {
    "name": "ipython",
    "version": 3
   },
   "file_extension": ".py",
   "mimetype": "text/x-python",
   "name": "python",
   "nbconvert_exporter": "python",
   "pygments_lexer": "ipython3",
   "version": "3.9.2"
  }
 },
 "nbformat": 4,
 "nbformat_minor": 5
}
