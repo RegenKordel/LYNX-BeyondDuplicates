{
 "cells": [
  {
   "cell_type": "markdown",
   "metadata": {},
   "source": [
    "# Libaries / Modules"
   ]
  },
  {
   "cell_type": "code",
   "execution_count": 1,
   "metadata": {},
   "outputs": [
    {
     "name": "stderr",
     "output_type": "stream",
     "text": [
      "/usr/local/lib/python3.8/dist-packages/gensim/similarities/__init__.py:15: UserWarning: The gensim.similarities.levenshtein submodule is disabled, because the optional Levenshtein package <https://pypi.org/project/python-Levenshtein/> is unavailable. Install Levenhstein (e.g. `pip install python-Levenshtein`) to suppress this warning.\n",
      "  warnings.warn(msg)\n"
     ]
    }
   ],
   "source": [
    "from nltk.tokenize import sent_tokenize, word_tokenize\n",
    "from nltk.corpus import stopwords\n",
    "import nltk\n",
    "import gensim\n",
    "from gensim.models import Word2Vec\n",
    "from gensim.parsing.porter import PorterStemmer\n",
    "\n",
    "stopWords = set(stopwords.words('english'))\n",
    "stopWords = stopWords.union(set(['com', 'org', 'java']))"
   ]
  },
  {
   "cell_type": "code",
   "execution_count": 2,
   "metadata": {},
   "outputs": [
    {
     "name": "stdout",
     "output_type": "stream",
     "text": [
      "Starting Notebook.\n"
     ]
    }
   ],
   "source": [
    "#Needed Modules\n",
    "from sklearn import preprocessing\n",
    "# import seaborn as sns\n",
    "import re\n",
    "\n",
    "import pandas as pd\n",
    "import numpy as np\n",
    "\n",
    "from tqdm import tqdm\n",
    " \n",
    "import os\n",
    "import sys\n",
    "import random\n",
    "\n",
    "import json\n",
    "from pathlib import Path\n",
    "\n",
    "import tensorflow as tf\n",
    "import tensorflow_addons as tfa\n",
    "import keras\n",
    "from tensorflow.keras import backend as K\n",
    "from tensorflow.keras.preprocessing.text import Tokenizer\n",
    "from tensorflow.keras.preprocessing.sequence import pad_sequences\n",
    "from tensorflow.keras.layers import Embedding\n",
    "from tensorflow.keras.initializers import Constant\n",
    "from sklearn.model_selection import train_test_split\n",
    "from tensorflow.keras.callbacks import CSVLogger\n",
    "from sklearn.model_selection import StratifiedKFold\n",
    "from sklearn.model_selection import KFold\n",
    "from sklearn.metrics import confusion_matrix\n",
    "from sklearn.metrics import classification_report\n",
    "import sklearn.utils.class_weight\n",
    "from sklearn import metrics\n",
    "from sklearn.metrics.pairwise import cosine_similarity\n",
    "from sklearn.model_selection import train_test_split\n",
    "\n",
    "# from plot_keras_history import plot_history\n",
    "import matplotlib.pyplot as plt\n",
    "\n",
    "from tensorflow.keras.models import Model\n",
    "from tensorflow.keras.layers import Input, concatenate, Dense, BatchNormalization, Activation, Lambda, Flatten, Dropout, Conv1D, MaxPool1D, LSTM, GlobalMaxPooling1D, Concatenate, Bidirectional, Conv2D, Reshape, GlobalMaxPooling2D, MaxPooling2D\n",
    "\n",
    "import matplotlib.pyplot as plt\n",
    "from tensorflow.keras.backend import expand_dims, transpose\n",
    "\n",
    "import cv2\n",
    "\n",
    "from sklearn.preprocessing import LabelEncoder\n",
    "\n",
    "print(\"Starting Notebook.\")"
   ]
  },
  {
   "cell_type": "code",
   "execution_count": 3,
   "metadata": {},
   "outputs": [],
   "source": [
    "tqdm.pandas()"
   ]
  },
  {
   "cell_type": "markdown",
   "metadata": {},
   "source": [
    "# Loading Data"
   ]
  },
  {
   "cell_type": "code",
   "execution_count": 4,
   "metadata": {},
   "outputs": [],
   "source": [
    "SOURCE = \"sakai\"\n",
    "\n",
    "# 'apache', 243k, \n",
    "# 'redhat', 106k\n",
    "# 'jira', 98k\n",
    "\n",
    "# 'mongodb', 38k\n",
    "# 'qt', 36k\n",
    "\n",
    "# 'sakai', 19k\n",
    "# 'hyperledger', 16k \n",
    "# 'mariadb', 15k\n",
    "# 'spring', 14k\n",
    "# 'jiraecosystem', 11k\n",
    "\n",
    "# 'sonatype', 4k, small\n",
    "# 'jfrog', 3k, small\n",
    "# 'inteldaos', 3k too small\n",
    "\n",
    "# 'secondlife', 630 too small\n",
    "# 'mindville', 44 too small"
   ]
  },
  {
   "cell_type": "code",
   "execution_count": 7,
   "metadata": {},
   "outputs": [
    {
     "name": "stdout",
     "output_type": "stream",
     "text": [
      "Number of Issues: 49204\n",
      "Feature Size: 9\n",
      "Number of Links: 19057\n",
      "Feature Size: 5\n"
     ]
    }
   ],
   "source": [
    "#Loading Issues & Links\n",
    "filename = '../data/crawl/issues_'+SOURCE.lower()+'.csv'\n",
    "issues = pd.read_csv(filename, encoding=\"UTF-8\", low_memory=False, index_col=['issue_id'], sep=\";\")\n",
    "print(\"Number of Issues: \" + str(len(issues)))\n",
    "print(\"Feature Size: \" + str(len(list(issues.columns.values))))\n",
    "\n",
    "filename = '../data/crawl/clean_links_'+SOURCE.lower()+'.csv'\n",
    "links = pd.read_csv(filename, encoding=\"UTF-8\", low_memory=False, index_col=0)\n",
    "print(\"Number of Links: \" + str(len(links)))\n",
    "print(\"Feature Size: \"+str(len(list(links.columns.values))))"
   ]
  },
  {
   "cell_type": "code",
   "execution_count": 8,
   "metadata": {},
   "outputs": [
    {
     "data": {
      "text/plain": [
       "Relate             9272\n",
       "Subtask            3348\n",
       "Depend             2449\n",
       "Duplicate          1807\n",
       "Incorporate        1270\n",
       "Cloners             910\n",
       "Git Code Review       1\n",
       "Name: linktype, dtype: int64"
      ]
     },
     "execution_count": 8,
     "metadata": {},
     "output_type": "execute_result"
    }
   ],
   "source": [
    "links.linktype.value_counts()"
   ]
  },
  {
   "cell_type": "code",
   "execution_count": 9,
   "metadata": {},
   "outputs": [],
   "source": [
    "type_dict={'Backports': 'Workflow', \n",
    "           \n",
    "    'Blocked': 'Temporal/Causal',\n",
    "    'Blocker': 'Temporal/Causal',\n",
    "    'Blocks': 'Temporal/Causal',\n",
    "           \n",
    "    'Bonfire Testing': 'Workflow', \n",
    "    'Bonfire testing': 'Workflow', \n",
    "    'Git Code Review': 'Workflow', \n",
    "    'Testing': 'Workflow',\n",
    "           \n",
    "    'Causality': 'Temporal/Causal', \n",
    "    'Cause': 'Temporal/Causal',\n",
    "    'Caused': 'Temporal/Causal', \n",
    "    'Problem/Incident': 'Temporal/Causal',\n",
    "           \n",
    "    'Child-Issue': 'Composition', \n",
    "    'Parent Feature': 'Composition',\n",
    "    'Parent/Child': 'Composition',\n",
    "    'multi-level hierarchy [GANTT]': 'Composition',\n",
    "    'Parent-Relation': 'Composition',\n",
    "           \n",
    "    'Cloners': 'Duplication', \n",
    "    'Cloners (old)': 'Duplication', \n",
    "           \n",
    "    'Collection': 'Composition', \n",
    "    'Container': 'Composition', \n",
    "    'Contains(WBSGantt)': 'Composition', \n",
    "    'Incorporate': 'Composition', \n",
    "    'Incorporates': 'Composition', \n",
    "    'Part': 'Composition',\n",
    "    'PartOf': 'Composition',\n",
    "    'Superset': 'Composition', \n",
    "           \n",
    "    'Completes': 'Workflow', \n",
    "    'Fixes': 'Workflow',\n",
    "    'Resolve': 'Workflow',\n",
    "           \n",
    "    'Depend': 'Temporal/Causal', \n",
    "    'Dependency': 'Temporal/Causal', \n",
    "    'Dependent': 'Temporal/Causal', \n",
    "    'Depends': 'Temporal/Causal', \n",
    "    'Gantt Dependency': 'Temporal/Causal',\n",
    "    'dependent': 'Temporal/Causal',\n",
    "           \n",
    "    'Derived': 'Workflow',\n",
    "           \n",
    "    'Detail': 'Workflow', \n",
    "           \n",
    "    'Documentation': 'Workflow',\n",
    "    'Documented': 'Workflow',\n",
    "    \n",
    "    'Duplicate': 'Duplication',\n",
    "           \n",
    "    'Epic': 'Composition', \n",
    "    'Epic-Relation': 'Composition',\n",
    "    \n",
    "    'Finish-to-Finish link (WBSGantt)': 'Temporal/Causal', \n",
    "    'Gantt End to End': 'Temporal/Causal', \n",
    "    'Gantt: finish-finish': 'Temporal/Causal',\n",
    "    'finish-finish [GANTT]': 'Temporal/Causal', \n",
    "    \n",
    "    'Gantt End to Start': 'Temporal/Causal', \n",
    "    'Gantt: finish-start': 'Temporal/Causal',\n",
    "    'finish-start [GANTT]': 'Temporal/Causal',\n",
    "\n",
    "    'Gantt Start to Start': 'Temporal/Causal', \n",
    "    \n",
    "    'Gantt: start-finish': 'Temporal/Causal', \n",
    "    \n",
    "    'Follows': 'Temporal/Causal', \n",
    "    'Sequence': 'Temporal/Causal', \n",
    "    \n",
    "    'Implement': 'Workflow', \n",
    "    'Implements': 'Workflow', \n",
    "    \n",
    "    'Issue split': 'Composition',\n",
    "    'Split': 'Composition',\n",
    "    'Work Breakdown': 'Composition',\n",
    "    \n",
    "    'Preceded By': 'Temporal/Causal', \n",
    "    \n",
    "    'Reference': 'General Relation',\n",
    "    'Relate': 'General Relation',\n",
    "    'Related': 'General Relation', \n",
    "    'Relates': 'General Relation',\n",
    "    'Relationship': 'General Relation',\n",
    "    \n",
    "    'Regression': 'Workflow', \n",
    "    \n",
    "    'Replacement': 'Duplication',\n",
    "    \n",
    "    'Required': 'Temporal/Causal', \n",
    "    \n",
    "    'Supercedes': 'Workflow',\n",
    "    'Supersede': 'Workflow',\n",
    "    'Supersession': 'Workflow', \n",
    "    \n",
    "    'Test': 'Workflow', \n",
    "    'Tested': 'Workflow',\n",
    "    \n",
    "    'Trigger': 'Workflow',\n",
    "           \n",
    "    'Subtask': 'Composition',\n",
    "           \n",
    "    'Non-Link': 'Non-Link'}"
   ]
  },
  {
   "cell_type": "code",
   "execution_count": 10,
   "metadata": {},
   "outputs": [
    {
     "data": {
      "text/plain": [
       "General Relation    9272\n",
       "Composition         4618\n",
       "Duplication         2717\n",
       "Temporal/Causal     2449\n",
       "Workflow               1\n",
       "Name: mappedtype, dtype: int64"
      ]
     },
     "execution_count": 10,
     "metadata": {},
     "output_type": "execute_result"
    }
   ],
   "source": [
    "links['mappedtype'] = links['linktype'].map(type_dict)\n",
    "links.mappedtype.value_counts()"
   ]
  },
  {
   "cell_type": "code",
   "execution_count": 11,
   "metadata": {},
   "outputs": [],
   "source": [
    "lt = \"Duplication\""
   ]
  },
  {
   "cell_type": "code",
   "execution_count": 12,
   "metadata": {},
   "outputs": [],
   "source": [
    "issues['title'].fillna(' ', inplace=True)\n",
    "issues['description'].fillna(' ', inplace=True) "
   ]
  },
  {
   "cell_type": "markdown",
   "metadata": {},
   "source": [
    "## Create Embeddings"
   ]
  },
  {
   "cell_type": "code",
   "execution_count": 13,
   "metadata": {},
   "outputs": [],
   "source": [
    "p = PorterStemmer()"
   ]
  },
  {
   "cell_type": "code",
   "execution_count": 15,
   "metadata": {},
   "outputs": [
    {
     "name": "stderr",
     "output_type": "stream",
     "text": [
      "100%|██████████| 49204/49204 [01:33<00:00, 528.05it/s] \n"
     ]
    }
   ],
   "source": [
    "textual_data = []\n",
    "for issue_id in tqdm(issues.index):\n",
    "    temp = []\n",
    "    for word in word_tokenize(str(issues['title'].loc[issue_id])):\n",
    "        word = word.lower()\n",
    "        if word not in stopWords:\n",
    "            word = p.stem(word)\n",
    "            temp.append(word)\n",
    "    textual_data.append(temp)\n",
    "    temp = []\n",
    "    for word in word_tokenize(str(issues['description'].loc[issue_id])):\n",
    "        word = word.lower()\n",
    "        if word not in stopWords:\n",
    "            word = p.stem(word)\n",
    "            temp.append(word)\n",
    "    textual_data.append(temp)"
   ]
  },
  {
   "cell_type": "code",
   "execution_count": 16,
   "metadata": {},
   "outputs": [],
   "source": [
    "MAX_SEQUENCE_LENGTH = 300\n",
    "EMBEDDING_DIM = 20\n",
    "MAX_NUM_WORDS = 250000"
   ]
  },
  {
   "cell_type": "code",
   "execution_count": 17,
   "metadata": {},
   "outputs": [],
   "source": [
    "model_CBOW = gensim.models.Word2Vec(textual_data, vector_size=EMBEDDING_DIM, window=5, min_count=2, workers=4, sg=0)"
   ]
  },
  {
   "cell_type": "code",
   "execution_count": 18,
   "metadata": {},
   "outputs": [],
   "source": [
    "embedding_matrix = np.zeros((len(model_CBOW.wv), EMBEDDING_DIM))\n",
    "for i in range(len(model_CBOW.wv)):\n",
    "    embedding_vector = model_CBOW.wv[model_CBOW.wv.index_to_key[i]]\n",
    "    if embedding_vector is not None:\n",
    "        embedding_matrix[i] = embedding_vector  "
   ]
  },
  {
   "cell_type": "code",
   "execution_count": 19,
   "metadata": {},
   "outputs": [
    {
     "name": "stderr",
     "output_type": "stream",
     "text": [
      "100%|██████████| 49204/49204 [01:34<00:00, 523.19it/s] "
     ]
    },
    {
     "name": "stdout",
     "output_type": "stream",
     "text": [
      "99591\n"
     ]
    },
    {
     "name": "stderr",
     "output_type": "stream",
     "text": [
      "\n"
     ]
    }
   ],
   "source": [
    "text = []\n",
    "word_count = 0\n",
    "\n",
    "for issue_id in tqdm(issues.index):\n",
    "    temp = []\n",
    "    for word in word_tokenize(str(issues['title'].loc[issue_id])):\n",
    "        word = word.lower()\n",
    "        if word not in stopWords:\n",
    "            word = p.stem(word)\n",
    "            try:\n",
    "                word_index = model_CBOW.wv.key_to_index[word]\n",
    "                temp.append(word_index)\n",
    "            except:\n",
    "                word_count += 1\n",
    "    for word in word_tokenize(str(issues['description'].loc[issue_id])):\n",
    "        word = word.lower()\n",
    "        if word not in stopWords:\n",
    "            word = p.stem(word)\n",
    "            try:\n",
    "                word_index = model_CBOW.wv.key_to_index[word]\n",
    "                temp.append(word_index)\n",
    "            except:\n",
    "                word_count += 1\n",
    "    text.append(temp)\n",
    "print(word_count)"
   ]
  },
  {
   "cell_type": "code",
   "execution_count": 20,
   "metadata": {},
   "outputs": [],
   "source": [
    "text_data = pad_sequences(text, maxlen=MAX_SEQUENCE_LENGTH)"
   ]
  },
  {
   "cell_type": "code",
   "execution_count": 21,
   "metadata": {},
   "outputs": [],
   "source": [
    "issues['text_word2vec']=list(text_data)"
   ]
  },
  {
   "cell_type": "markdown",
   "metadata": {},
   "source": [
    "# Data Split"
   ]
  },
  {
   "cell_type": "code",
   "execution_count": 22,
   "metadata": {},
   "outputs": [],
   "source": [
    "def get_linked_issues(df):\n",
    "    df['issues']=''\n",
    "    for i in range(len(df)):\n",
    "        df[\"issues\"].iloc[i] = str(sorted(set([df.iloc[i]['issue_id_1'], df.iloc[i]['issue_id_2']])))"
   ]
  },
  {
   "cell_type": "markdown",
   "metadata": {},
   "source": [
    "## Get Link type"
   ]
  },
  {
   "cell_type": "code",
   "execution_count": 23,
   "metadata": {},
   "outputs": [
    {
     "name": "stdout",
     "output_type": "stream",
     "text": [
      "16340\n",
      "2717\n"
     ]
    }
   ],
   "source": [
    "other_link_df = links[links[\"mappedtype\"]!=lt]\n",
    "print(len(other_link_df))\n",
    "\n",
    "linktype_df = links[links[\"mappedtype\"]==lt]\n",
    "print(len(linktype_df))"
   ]
  },
  {
   "cell_type": "code",
   "execution_count": 24,
   "metadata": {},
   "outputs": [
    {
     "name": "stdout",
     "output_type": "stream",
     "text": [
      "2173\n",
      "544\n"
     ]
    },
    {
     "name": "stderr",
     "output_type": "stream",
     "text": [
      "<ipython-input-22-b21e17f7c520>:2: SettingWithCopyWarning: \n",
      "A value is trying to be set on a copy of a slice from a DataFrame.\n",
      "Try using .loc[row_indexer,col_indexer] = value instead\n",
      "\n",
      "See the caveats in the documentation: https://pandas.pydata.org/pandas-docs/stable/user_guide/indexing.html#returning-a-view-versus-a-copy\n",
      "  df['issues']=''\n",
      "/usr/local/lib/python3.8/dist-packages/pandas/core/indexing.py:692: SettingWithCopyWarning: \n",
      "A value is trying to be set on a copy of a slice from a DataFrame\n",
      "\n",
      "See the caveats in the documentation: https://pandas.pydata.org/pandas-docs/stable/user_guide/indexing.html#returning-a-view-versus-a-copy\n",
      "  iloc._setitem_with_indexer(indexer, value, self.name)\n"
     ]
    }
   ],
   "source": [
    "random_trainval_lt, random_test_lt = train_test_split(linktype_df, test_size = 0.2, random_state = 9)\n",
    "\n",
    "print(len(random_trainval_lt))\n",
    "print(len(random_test_lt))\n",
    "\n",
    "get_linked_issues(random_trainval_lt)\n",
    "get_linked_issues(random_test_lt)"
   ]
  },
  {
   "cell_type": "markdown",
   "metadata": {},
   "source": [
    "## Get Other-Links"
   ]
  },
  {
   "cell_type": "code",
   "execution_count": 25,
   "metadata": {},
   "outputs": [
    {
     "name": "stdout",
     "output_type": "stream",
     "text": [
      "13072\n",
      "3268\n"
     ]
    },
    {
     "name": "stderr",
     "output_type": "stream",
     "text": [
      "<ipython-input-22-b21e17f7c520>:2: SettingWithCopyWarning: \n",
      "A value is trying to be set on a copy of a slice from a DataFrame.\n",
      "Try using .loc[row_indexer,col_indexer] = value instead\n",
      "\n",
      "See the caveats in the documentation: https://pandas.pydata.org/pandas-docs/stable/user_guide/indexing.html#returning-a-view-versus-a-copy\n",
      "  df['issues']=''\n"
     ]
    }
   ],
   "source": [
    "random_trainval_otherlink, random_test_otherlink = train_test_split(other_link_df, test_size = 0.2, random_state = 9)\n",
    "\n",
    "print(len(random_trainval_otherlink))\n",
    "print(len(random_test_otherlink))\n",
    "\n",
    "get_linked_issues(random_trainval_otherlink)\n",
    "get_linked_issues(random_test_otherlink)\n",
    "\n",
    "random_trainval_ol_index = random.sample(set(random_trainval_otherlink.index), len(random_trainval_lt))\n",
    "random_test_ol_index = random.sample(set(random_test_otherlink.index), len(random_test_lt))\n",
    "\n",
    "random_trainval_ol = random_trainval_otherlink.loc[random_trainval_ol_index]\n",
    "random_test_ol = random_test_otherlink.loc[random_test_ol_index]"
   ]
  },
  {
   "cell_type": "markdown",
   "metadata": {},
   "source": [
    "## Create Non-Links"
   ]
  },
  {
   "cell_type": "code",
   "execution_count": 26,
   "metadata": {},
   "outputs": [
    {
     "data": {
      "text/plain": [
       "Fixed               30819\n",
       "Open                 5622\n",
       "Won't Fix            4898\n",
       "Duplicate            2465\n",
       "Non-Issue            2208\n",
       "Incorporated         1353\n",
       "Cannot Reproduce     1156\n",
       "Incomplete            470\n",
       "No Resources          159\n",
       "Done                   38\n",
       "Won't Do               16\n",
       "Name: resolution, dtype: int64"
      ]
     },
     "execution_count": 26,
     "metadata": {},
     "output_type": "execute_result"
    }
   ],
   "source": [
    "issues['resolution'].value_counts()"
   ]
  },
  {
   "cell_type": "code",
   "execution_count": 27,
   "metadata": {},
   "outputs": [
    {
     "name": "stderr",
     "output_type": "stream",
     "text": [
      "100%|██████████| 2717/2717 [00:07<00:00, 381.20it/s]"
     ]
    },
    {
     "name": "stdout",
     "output_type": "stream",
     "text": [
      "2173\n",
      "544\n"
     ]
    },
    {
     "name": "stderr",
     "output_type": "stream",
     "text": [
      "\n"
     ]
    }
   ],
   "source": [
    "import random\n",
    "non_link_issues = set(issues[~issues['resolution'].isin(['Duplicate', 'Open'])].index)\n",
    "\n",
    "no_issues = len(non_link_issues)\n",
    "\n",
    "cols = ['name', 'linktype', 'mappedtype', 'issue_id_1', 'issue_id_2', 'issues']\n",
    "non_links_df = pd.DataFrame(columns = cols)\n",
    "\n",
    "for i in tqdm(range(links.mappedtype.value_counts()[lt])):\n",
    "    sample = random.sample(non_link_issues, 2)\n",
    "    name = str(sample[0]) + \"_\" + str(sample[1])\n",
    "    non_links_df = non_links_df.append({\n",
    "        \"name\": name,\n",
    "        \"linktype\": \"Non-Link\",\n",
    "        \"mappedtype\": \"Non-Link\",\n",
    "        \"issue_id_1\":  sample[0],\n",
    "        \"issue_id_2\":  sample[1],\n",
    "        \"issues\": str(sorted(set([sample[0], sample[1]])))\n",
    "    }, ignore_index=True)\n",
    "    \n",
    "random_trainval_nl, random_test_nl = train_test_split(non_links_df, test_size = 0.2, random_state = 9)\n",
    "\n",
    "print(len(random_trainval_nl))\n",
    "print(len(random_test_nl))"
   ]
  },
  {
   "cell_type": "markdown",
   "metadata": {},
   "source": [
    "## Merging the datasets"
   ]
  },
  {
   "cell_type": "markdown",
   "metadata": {},
   "source": [
    "### Dataset 1 Link type vs Non-Links"
   ]
  },
  {
   "cell_type": "code",
   "execution_count": 28,
   "metadata": {},
   "outputs": [
    {
     "name": "stdout",
     "output_type": "stream",
     "text": [
      "4346\n"
     ]
    }
   ],
   "source": [
    "random_train_1 = random_trainval_lt.append(random_trainval_nl, ignore_index=True)\n",
    "\n",
    "print(len(random_train_1))"
   ]
  },
  {
   "cell_type": "markdown",
   "metadata": {},
   "source": [
    "### Dataset 2 Link type vs Other Links"
   ]
  },
  {
   "cell_type": "code",
   "execution_count": 29,
   "metadata": {},
   "outputs": [
    {
     "name": "stdout",
     "output_type": "stream",
     "text": [
      "4346\n"
     ]
    }
   ],
   "source": [
    "random_train_2 = random_trainval_lt.append(random_trainval_ol, ignore_index=True)\n",
    "\n",
    "print(len(random_train_2))"
   ]
  },
  {
   "cell_type": "markdown",
   "metadata": {},
   "source": [
    "### Dataset 3 Link type vs Non-Links + Other-Links"
   ]
  },
  {
   "cell_type": "code",
   "execution_count": 30,
   "metadata": {},
   "outputs": [
    {
     "name": "stdout",
     "output_type": "stream",
     "text": [
      "4346\n"
     ]
    }
   ],
   "source": [
    "random_trainval_olnl_all = random_trainval_ol.append(random_trainval_nl, ignore_index=True)\n",
    "\n",
    "random_trainval_olnl_index = random.sample(set(random_trainval_olnl_all.index), len(random_trainval_lt))\n",
    "\n",
    "random_trainval_olnl = random_trainval_olnl_all.loc[random_trainval_olnl_index]\n",
    "\n",
    "random_train_3 = random_trainval_lt.append(random_trainval_olnl, ignore_index=True)\n",
    "\n",
    "print(len(random_train_3))"
   ]
  },
  {
   "cell_type": "markdown",
   "metadata": {},
   "source": [
    "### Dataset 4 Link type + Other-Links vs Non-Links"
   ]
  },
  {
   "cell_type": "code",
   "execution_count": 31,
   "metadata": {},
   "outputs": [
    {
     "name": "stdout",
     "output_type": "stream",
     "text": [
      "4346\n"
     ]
    }
   ],
   "source": [
    "random_trainval_ollt_all = random_trainval_ol.append(random_trainval_lt, ignore_index=True)\n",
    "\n",
    "random_trainval_ollt_index = random.sample(set(random_trainval_ollt_all.index), len(random_trainval_nl))\n",
    "\n",
    "random_trainval_old = random_trainval_ollt_all.loc[random_trainval_ollt_index]\n",
    "\n",
    "random_train_4 = random_trainval_nl.append(random_trainval_old, ignore_index=True)\n",
    "\n",
    "print(len(random_train_4))"
   ]
  },
  {
   "cell_type": "markdown",
   "metadata": {},
   "source": [
    "### Test Set"
   ]
  },
  {
   "cell_type": "code",
   "execution_count": 32,
   "metadata": {},
   "outputs": [
    {
     "name": "stdout",
     "output_type": "stream",
     "text": [
      "1632\n",
      "1632\n"
     ]
    }
   ],
   "source": [
    "random_test_temp = random_test_lt.append(random_test_nl, ignore_index=True)\n",
    "random_test_lt = random_test_temp.append(random_test_ol, ignore_index=True)\n",
    "random_test_linked = random_test_temp.append(random_test_ol, ignore_index=True)\n",
    "\n",
    "print(len(random_test_lt))\n",
    "print(len(random_test_linked))"
   ]
  },
  {
   "cell_type": "markdown",
   "metadata": {},
   "source": [
    "## Clean up"
   ]
  },
  {
   "cell_type": "code",
   "execution_count": 33,
   "metadata": {},
   "outputs": [],
   "source": [
    "def clean_link_set(link_df):\n",
    "    # Sanity-Check for Duplicates\n",
    "    print(\"With duplicate entries: \"+str(len(link_df)))\n",
    "    link_df.drop_duplicates(inplace=True)\n",
    "    print(\"Without duplicate entries: \"+str(len(link_df)))\n",
    "    \n",
    "    doublelinks = (link_df.issues.value_counts()>1).rename_axis('doubles').reset_index(name='valid')\n",
    "    valid_doubles = set(doublelinks[doublelinks['valid']==True]['doubles'])\n",
    "    \n",
    "    print(\"With issue pairs with multiple link types: \"+str(len(link_df)))\n",
    "    for i in tqdm(valid_doubles):\n",
    "        if len(set(link_df[link_df['issues']==i]['linktype']))>1:\n",
    "            link_df=link_df[link_df.issues != i]\n",
    "    print(\"Without issue pairs with multiple link types: \"+str(len(link_df)))\n",
    "    \n",
    "    #Multiple links complete remove\n",
    "    print(\"With issue pairs with multiple entries: \"+str(len(link_df)))\n",
    "    link_df.drop_duplicates(subset=['issues'], inplace=True)\n",
    "    print(\"Without issue pairs with multiple entries: \"+str(len(link_df)))\n",
    "    \n",
    "    return link_df"
   ]
  },
  {
   "cell_type": "code",
   "execution_count": 34,
   "metadata": {},
   "outputs": [],
   "source": [
    "def lt_set(label):\n",
    "    if label == lt:\n",
    "        return 1\n",
    "    elif label == 'Non-Link':\n",
    "        return 0\n",
    "    else:\n",
    "        return 0\n",
    "    \n",
    "def link_set(label):\n",
    "    if label == 'Non-Link':\n",
    "        return 0\n",
    "    else:\n",
    "        return 1"
   ]
  },
  {
   "cell_type": "code",
   "execution_count": 35,
   "metadata": {},
   "outputs": [],
   "source": [
    "random_sets = {'R_LTvNL_train': random_train_1, \n",
    "               'R_LTvOL_train': random_train_2, \n",
    "               'R_LTvNLOL_train': random_train_3, \n",
    "               'R_LTOLvNL_train': random_train_4,\n",
    "               'R_test_lt': random_test_lt,\n",
    "               'R_test_linked': random_test_linked}"
   ]
  },
  {
   "cell_type": "code",
   "execution_count": 36,
   "metadata": {},
   "outputs": [
    {
     "name": "stderr",
     "output_type": "stream",
     "text": [
      "0it [00:00, ?it/s]\n",
      "0it [00:00, ?it/s]\n",
      "0it [00:00, ?it/s]\n",
      "0it [00:00, ?it/s]\n",
      "0it [00:00, ?it/s]\n",
      "0it [00:00, ?it/s]"
     ]
    },
    {
     "name": "stdout",
     "output_type": "stream",
     "text": [
      "R_LTvNL_train\n",
      "75\n",
      "With duplicate entries: 4346\n",
      "Without duplicate entries: 4346\n",
      "With issue pairs with multiple link types: 4346\n",
      "Without issue pairs with multiple link types: 4346\n",
      "With issue pairs with multiple entries: 4346\n",
      "Without issue pairs with multiple entries: 4346\n",
      "R_LTvOL_train\n",
      "4346\n",
      "With duplicate entries: 4346\n",
      "Without duplicate entries: 4346\n",
      "With issue pairs with multiple link types: 4346\n",
      "Without issue pairs with multiple link types: 4346\n",
      "With issue pairs with multiple entries: 4346\n",
      "Without issue pairs with multiple entries: 4346\n",
      "R_LTvNLOL_train\n",
      "4346\n",
      "With duplicate entries: 4346\n",
      "Without duplicate entries: 4346\n",
      "With issue pairs with multiple link types: 4346\n",
      "Without issue pairs with multiple link types: 4346\n",
      "With issue pairs with multiple entries: 4346\n",
      "Without issue pairs with multiple entries: 4346\n",
      "R_LTOLvNL_train\n",
      "4346\n",
      "With duplicate entries: 4346\n",
      "Without duplicate entries: 4346\n",
      "With issue pairs with multiple link types: 4346\n",
      "Without issue pairs with multiple link types: 4346\n",
      "With issue pairs with multiple entries: 4346\n",
      "Without issue pairs with multiple entries: 4346\n",
      "R_test_lt\n",
      "4346\n",
      "With duplicate entries: 1632\n",
      "Without duplicate entries: 1632\n",
      "With issue pairs with multiple link types: 1632\n",
      "Without issue pairs with multiple link types: 1632\n",
      "With issue pairs with multiple entries: 1632\n",
      "Without issue pairs with multiple entries: 1632\n",
      "R_test_linked\n",
      "1632\n",
      "With duplicate entries: 1632\n",
      "Without duplicate entries: 1632\n",
      "With issue pairs with multiple link types: 1632\n",
      "Without issue pairs with multiple link types: 1632\n",
      "With issue pairs with multiple entries: 1632\n",
      "Without issue pairs with multiple entries: 1632\n"
     ]
    },
    {
     "name": "stderr",
     "output_type": "stream",
     "text": [
      "\n"
     ]
    }
   ],
   "source": [
    "for dataset in random_sets.keys():\n",
    "    print(dataset)\n",
    "    print(len(temp))\n",
    "    temp = random_sets[dataset]\n",
    "    temp = clean_link_set(temp)\n",
    "    \n",
    "    random_sets[dataset] = temp"
   ]
  },
  {
   "cell_type": "code",
   "execution_count": 37,
   "metadata": {},
   "outputs": [],
   "source": [
    "issue_text_data = issues['text_word2vec']"
   ]
  },
  {
   "cell_type": "code",
   "execution_count": 38,
   "metadata": {},
   "outputs": [
    {
     "name": "stdout",
     "output_type": "stream",
     "text": [
      "R_LTvNL_train\n",
      "R_LTvOL_train\n",
      "R_LTvNLOL_train\n",
      "R_LTOLvNL_train\n",
      "R_test_lt\n",
      "R_test_linked\n"
     ]
    }
   ],
   "source": [
    "for dataset in random_sets.keys():\n",
    "    print(dataset)\n",
    "    \n",
    "    temp = random_sets[dataset]\n",
    "    temp = temp.merge(issue_text_data, left_on='issue_id_1', right_on='issue_id')\n",
    "    temp = temp.merge(issue_text_data, left_on='issue_id_2', right_on='issue_id', suffixes=('_1', '_2'))\n",
    "    random_sets[dataset] = temp"
   ]
  },
  {
   "cell_type": "markdown",
   "metadata": {},
   "source": [
    "## Linktype Mapping"
   ]
  },
  {
   "cell_type": "code",
   "execution_count": 39,
   "metadata": {},
   "outputs": [
    {
     "name": "stdout",
     "output_type": "stream",
     "text": [
      "R_LTvNL_train\n",
      "mappedtype   label\n",
      "Duplication  1        2173\n",
      "Non-Link     0        2173\n",
      "dtype: int64\n",
      "R_LTvOL_train\n",
      "mappedtype        label\n",
      "Composition       0         589\n",
      "Duplication       1        2173\n",
      "General Relation  0        1253\n",
      "Temporal/Causal   0         331\n",
      "dtype: int64\n",
      "R_LTvNLOL_train\n",
      "mappedtype        label\n",
      "Composition       0         294\n",
      "Duplication       1        2173\n",
      "General Relation  0         644\n",
      "Non-Link          0        1058\n",
      "Temporal/Causal   0         177\n",
      "dtype: int64\n",
      "R_LTOLvNL_train\n",
      "mappedtype        label\n",
      "Composition       1         302\n",
      "Duplication       1        1044\n",
      "General Relation  1         646\n",
      "Non-Link          0        2173\n",
      "Temporal/Causal   1         181\n",
      "dtype: int64\n",
      "R_test_lt\n",
      "mappedtype        label\n",
      "Composition       0        149\n",
      "Duplication       1        544\n",
      "General Relation  0        308\n",
      "Non-Link          0        544\n",
      "Temporal/Causal   0         87\n",
      "dtype: int64\n",
      "R_test_linked\n",
      "mappedtype        label\n",
      "Composition       1        149\n",
      "Duplication       1        544\n",
      "General Relation  1        308\n",
      "Non-Link          0        544\n",
      "Temporal/Causal   1         87\n",
      "dtype: int64\n"
     ]
    }
   ],
   "source": [
    "for dataset in random_sets.keys():\n",
    "    print(dataset)\n",
    "    temp = random_sets[dataset]\n",
    "    \n",
    "    temp['mappedtype'] = temp['linktype'].map(type_dict)\n",
    "    temp.mappedtype.value_counts()\n",
    "    \n",
    "    temp['label'] = 0\n",
    "    if dataset in ['R_LTOLvNL_train', 'R_test_linked']:\n",
    "        temp['label'] = temp['mappedtype'].map(link_set)\n",
    "    else:\n",
    "        temp['label'] = temp['mappedtype'].map(lt_set)\n",
    "        \n",
    "    random_sets[dataset] = temp\n",
    "    \n",
    "    print(temp.groupby(['mappedtype', 'label']).size())"
   ]
  },
  {
   "cell_type": "markdown",
   "metadata": {},
   "source": [
    "# Model"
   ]
  },
  {
   "cell_type": "code",
   "execution_count": 40,
   "metadata": {},
   "outputs": [
    {
     "name": "stdout",
     "output_type": "stream",
     "text": [
      "Creating functions.\n"
     ]
    }
   ],
   "source": [
    "print(\"Creating functions.\")\n",
    "def plot_history(history):\n",
    "#     keys = history.history.keys()\n",
    "    for i in list(history.history)[0:2]:\n",
    "        print(i)\n",
    "        # list all data in history\n",
    "        # summarize history for accuracy\n",
    "        plt.plot(history.history[i])\n",
    "        plt.plot(history.history['val_'+i])\n",
    "        plt.title('model '+ i)\n",
    "        plt.ylabel(i)\n",
    "        plt.xlabel('epoch')\n",
    "        plt.legend(['train', 'test'], loc='upper left')\n",
    "        plt.show()"
   ]
  },
  {
   "cell_type": "markdown",
   "metadata": {},
   "source": [
    "## SC-CNN Model"
   ]
  },
  {
   "cell_type": "code",
   "execution_count": 41,
   "metadata": {},
   "outputs": [
    {
     "name": "stdout",
     "output_type": "stream",
     "text": [
      "Disabling eager execution.\n",
      "Models incoming.\n",
      "Model: \"Text_Output\"\n",
      "_________________________________________________________________\n",
      "Layer (type)                 Output Shape              Param #   \n",
      "=================================================================\n",
      "Text_Input (InputLayer)      [(None, 300)]             0         \n",
      "_________________________________________________________________\n",
      "embedding (Embedding)        (None, 300, 20)           1225480   \n",
      "=================================================================\n",
      "Total params: 1,225,480\n",
      "Trainable params: 0\n",
      "Non-trainable params: 1,225,480\n",
      "_________________________________________________________________\n"
     ]
    }
   ],
   "source": [
    "print(\"Disabling eager execution.\")\n",
    "tf.compat.v1.disable_eager_execution()\n",
    "\n",
    "print(\"Models incoming.\")\n",
    "embedding_layer = Embedding(len(model_CBOW.wv),\n",
    "                            EMBEDDING_DIM,\n",
    "                            embeddings_initializer=Constant(embedding_matrix),\n",
    "                            input_length=MAX_SEQUENCE_LENGTH,\n",
    "                            trainable=False)\n",
    "# from keras.layers import concatenate\n",
    "text_in = Input(shape = (MAX_SEQUENCE_LENGTH,), name = 'Text_Input')\n",
    "text_out = embedding_layer(text_in)\n",
    "\n",
    "text_embedding = Model(inputs = [text_in], outputs = [text_out], name = 'Text_Output')\n",
    "text_embedding.summary()"
   ]
  },
  {
   "cell_type": "code",
   "execution_count": 42,
   "metadata": {},
   "outputs": [],
   "source": [
    "def SCCNN_Model():\n",
    "    text_in = Input(shape=(MAX_SEQUENCE_LENGTH,), dtype='int32', name='Text_Input')\n",
    "\n",
    "    text_out = text_embedding([text_in])\n",
    "    \n",
    "    text_out = expand_dims(text_out, axis=-1)\n",
    "\n",
    "     # A branch\n",
    "    conv_a = Conv2D(filters=100,\n",
    "                    kernel_size=(1,20),\n",
    "                    strides=(1,1),\n",
    "                    activation='relu',\n",
    "                    name=\"BranchA\"\n",
    "                    )(text_out)\n",
    "    \n",
    "    conv_a = BatchNormalization(axis=-1)(conv_a)\n",
    "\n",
    "    conv_a_rs = Reshape((300,100,1))(conv_a)\n",
    "\n",
    "    conv_a_1 = Conv2D(filters = 200,\n",
    "                    kernel_size = (1,100),\n",
    "                    strides=(1,1),\n",
    "                    activation = 'relu',\n",
    "                    name=\"BranchA1\"\n",
    "                    )(conv_a_rs)\n",
    "\n",
    "    pooled_conv_a_1 = MaxPooling2D(pool_size=(conv_a_1.shape[1], 1), padding='valid')(conv_a_1)\n",
    "#     pooled_conv_a_1 = GlobalMaxPooling2D()(conv_a_1)\n",
    "    pooled_conv_a_1 = Flatten()(pooled_conv_a_1)\n",
    "\n",
    "    conv_a_2 = Conv2D(filters = 200,\n",
    "                    kernel_size = (2,100),\n",
    "                    activation = 'relu',\n",
    "                    strides=(1,1),\n",
    "                    name=\"BranchA2\"\n",
    "                    )(conv_a_rs)\n",
    "\n",
    "    pooled_conv_a_2 = MaxPooling2D(pool_size=(conv_a_2.shape[1], 1), padding='valid')(conv_a_2)\n",
    "#     pooled_conv_a_2 = GlobalMaxPooling2D()(conv_a_2)\n",
    "    pooled_conv_a_2 = Flatten()(pooled_conv_a_2)\n",
    "\n",
    "    conv_a_3 = Conv2D(filters = 200,\n",
    "                    kernel_size = (3,100),\n",
    "                    activation = 'relu',\n",
    "                    strides=(1,1),\n",
    "                    name=\"BranchA3\"\n",
    "                    )(conv_a_rs)\n",
    "\n",
    "    pooled_conv_a_3 = MaxPooling2D(pool_size=(conv_a_3.shape[1], 1), padding='valid')(conv_a_3)\n",
    "#     pooled_conv_a_3 = GlobalMaxPooling2D()(conv_a_3)\n",
    "    pooled_conv_a_3 = Flatten()(pooled_conv_a_3)\n",
    "    \n",
    "    A = Concatenate(axis=-1)([pooled_conv_a_1,pooled_conv_a_2])\n",
    "    A = Concatenate(axis=-1)([A,pooled_conv_a_3])\n",
    "    \n",
    "    # B branch\n",
    "    conv_b = Conv2D(filters=100,\n",
    "                    kernel_size=(2,20),\n",
    "                    activation='relu',\n",
    "                    strides=(1,1),\n",
    "                    name=\"BranchB\"\n",
    "                    )(text_out)\n",
    "\n",
    "    conv_b = BatchNormalization(axis=-1)(conv_b)\n",
    "\n",
    "    conv_b_rs = Reshape((299,100,1))(conv_b)\n",
    "\n",
    "    conv_b_1 = Conv2D(filters = 200,\n",
    "                    kernel_size = (1,100),\n",
    "                    activation = 'relu',\n",
    "                    strides=(1,1),\n",
    "                    name=\"BranchB1\"\n",
    "                    )(conv_b_rs)\n",
    "\n",
    "    pooled_conv_b_1 = MaxPooling2D(pool_size=(conv_b_1.shape[1], 1), padding='valid')(conv_b_1)\n",
    "#     pooled_conv_b_1 = GlobalMaxPooling2D()(conv_b_1)\n",
    "    pooled_conv_b_1 = Flatten()(pooled_conv_b_1)\n",
    "\n",
    "    conv_b_2 = Conv2D(filters = 200,\n",
    "                    kernel_size = (2,100),\n",
    "                    activation = 'relu',\n",
    "                    strides=(1,1),\n",
    "                    name=\"BranchB2\"\n",
    "                    )(conv_b_rs)\n",
    "\n",
    "    pooled_conv_b_2 = MaxPooling2D(pool_size=(conv_b_2.shape[1], 1), padding='valid')(conv_b_2)\n",
    "#     pooled_conv_b_2 = GlobalMaxPooling2D()(conv_b_2)\n",
    "    pooled_conv_b_2 = Flatten()(pooled_conv_b_2)\n",
    "\n",
    "    conv_b_3 = Conv2D(filters = 200,\n",
    "                    kernel_size = (3,100),\n",
    "                    activation = 'relu',\n",
    "                    strides=(1,1),\n",
    "                    name=\"BranchB3\"\n",
    "                    )(conv_b_rs)\n",
    "\n",
    "    pooled_conv_b_3 = MaxPooling2D(pool_size=(conv_b_3.shape[1], 1), padding='valid')(conv_b_3)\n",
    "#     pooled_conv_b_3 = GlobalMaxPooling2D()(conv_b_3)\n",
    "    pooled_conv_b_3 = Flatten()(pooled_conv_b_3)\n",
    "    \n",
    "    B = Concatenate(axis=-1)([pooled_conv_b_1,pooled_conv_b_2])\n",
    "    B = Concatenate(axis=-1)([B,pooled_conv_b_3])\n",
    "\n",
    "    # C branch\n",
    "    conv_c = Conv2D(filters=100,\n",
    "                    kernel_size=(3,20),\n",
    "                    activation='relu',\n",
    "                    strides=(1,1),\n",
    "                    name=\"BranchC\"\n",
    "                    )(text_out)\n",
    "    conv_c = BatchNormalization(axis=-1)(conv_c)\n",
    "\n",
    "    conv_c_rs = Reshape((298,100,1))(conv_c)\n",
    "\n",
    "    conv_c_1 = Conv2D(filters = 200,\n",
    "                    kernel_size = (1,100),\n",
    "                    activation = 'relu',\n",
    "                    strides=(1,1),\n",
    "                    name=\"BranchC1\"\n",
    "                    )(conv_c_rs)\n",
    "\n",
    "\n",
    "    pooled_conv_c_1 = MaxPooling2D(pool_size=(conv_c_1.shape[1], 1), padding='valid')(conv_c_1)\n",
    "#     pooled_conv_c_1 = GlobalMaxPooling2D()(conv_c_1)\n",
    "    pooled_conv_c_1 = Flatten()(pooled_conv_c_1)\n",
    "\n",
    "    conv_c_2 = Conv2D(filters = 200,\n",
    "                    kernel_size = (2,100),\n",
    "                    activation = 'relu',\n",
    "                    strides=(1,1),\n",
    "                    name=\"BranchC2\"\n",
    "                    )(conv_c_rs)\n",
    "\n",
    "    pooled_conv_c_2 = MaxPooling2D(pool_size=(conv_c_2.shape[1], 1), padding='valid')(conv_c_2)\n",
    "#     pooled_conv_c_2 = GlobalMaxPooling2D()(conv_c_2)\n",
    "    pooled_conv_c_2 = Flatten()(pooled_conv_c_2)\n",
    "\n",
    "    conv_c_3 = Conv2D(filters = 200,\n",
    "                    kernel_size = (3,100),\n",
    "                    activation = 'relu',\n",
    "                    strides=(1,1),\n",
    "                    name=\"BranchC3\"\n",
    "                    )(conv_c_rs)\n",
    "\n",
    "    pooled_conv_c_3 = MaxPooling2D(pool_size=(conv_c_3.shape[1], 1), padding='valid')(conv_c_3)\n",
    "#     pooled_conv_c_3 = GlobalMaxPooling2D()(conv_c_3)\n",
    "    pooled_conv_c_3 = Flatten()(pooled_conv_c_3)\n",
    "    \n",
    "    C = Concatenate(axis=-1)([pooled_conv_c_1,pooled_conv_c_2])\n",
    "    C = Concatenate(axis=-1)([C,pooled_conv_c_3])\n",
    "\n",
    "    conv_concat = Concatenate(axis=-1)([A,B])\n",
    "    conv_concat = Concatenate(axis=-1)([conv_concat,C])\n",
    "\n",
    "    issue_model = Model(inputs = [text_in], outputs = [conv_concat], name = 'DC-CNN_Model')\n",
    "\n",
    "#     issue_model.summary()\n",
    "    return issue_model"
   ]
  },
  {
   "cell_type": "code",
   "execution_count": 43,
   "metadata": {},
   "outputs": [],
   "source": [
    "def get_sim_model():\n",
    "    text_in_a = Input(shape = (MAX_SEQUENCE_LENGTH,), dtype='int32', name=\"Text_issue_a\")\n",
    "    text_in_b = Input(shape = (MAX_SEQUENCE_LENGTH,), dtype='int32', name=\"Text_issue_b\")\n",
    "\n",
    "    issue_model = SCCNN_Model()\n",
    "\n",
    "    encoded_issue_a = issue_model([text_in_a])\n",
    "    encoded_issue_b = issue_model([text_in_b])\n",
    "\n",
    "    merged_vector = Concatenate()([encoded_issue_a, encoded_issue_b])\n",
    "\n",
    "    conv_concat = Dropout(0.6)(merged_vector)\n",
    "    concat = Dense(units = 300, \n",
    "                activation = 'relu',\n",
    "                )(conv_concat)\n",
    "    concat = BatchNormalization(axis=-1)(merged_vector)\n",
    "\n",
    "    concat = Dropout(0.4)(concat)\n",
    "    concat = Dense(units = 100, \n",
    "                activation = 'relu',\n",
    "                )(concat)\n",
    "    concat = BatchNormalization(axis=-1)(concat)\n",
    "\n",
    "    concat = Dropout(0.4)(concat)\n",
    "    concat = Dense(units = 1, # dimensionality of the output space\n",
    "                activation = 'sigmoid',\n",
    "                )(concat)\n",
    "\n",
    "    sim_model = Model(inputs=[text_in_a, text_in_b], outputs=concat)\n",
    "#     sim_model.summary()\n",
    "    \n",
    "    return sim_model"
   ]
  },
  {
   "cell_type": "code",
   "execution_count": 44,
   "metadata": {},
   "outputs": [],
   "source": [
    "def train_model(train):\n",
    "    callback = tf.keras.callbacks.EarlyStopping(monitor='val_loss', patience=25, verbose=2)\n",
    "\n",
    "    sim_model = get_sim_model()\n",
    "\n",
    "    sim_model.compile(optimizer=keras.optimizers.Adam(lr=0.001, beta_1=0.9, beta_2=0.999, epsilon=1e-08, decay=0.0), loss='binary_crossentropy', metrics=['accuracy'])\n",
    "    \n",
    "    train_issue_1 = train['text_word2vec_1']\n",
    "    train_issue_1 = np.array(train_issue_1.values.tolist())\n",
    "\n",
    "    train_issue_2 = train['text_word2vec_2']\n",
    "    train_issue_2 = np.array(train_issue_2.values.tolist())\n",
    "    \n",
    "    history = sim_model.fit([train_issue_1, train_issue_2], \n",
    "                        y=train['label'], callbacks=[callback], validation_split=0.1, \n",
    "#                         class_weight = dict(enumerate(class_weight)), \n",
    "                        batch_size=64, epochs=100, verbose=0)\n",
    "    plot_history(history)\n",
    "    \n",
    "    return sim_model"
   ]
  },
  {
   "cell_type": "code",
   "execution_count": 45,
   "metadata": {},
   "outputs": [],
   "source": [
    "def eval_model(model, test, link):    \n",
    "    test_issue_1 = test['text_word2vec_1']\n",
    "    test_issue_1 = np.array(test_issue_1.values.tolist())\n",
    "\n",
    "    test_issue_2 = test['text_word2vec_2']\n",
    "    test_issue_2 = np.array(test_issue_2.values.tolist())\n",
    "    \n",
    "    probs = model.predict([test_issue_1, test_issue_2])\n",
    "\n",
    "    probs = probs.flatten()\n",
    "    \n",
    "    rounded_preds = np.round(probs).astype(int)\n",
    "    \n",
    "    class_rep = classification_report(test['label'], rounded_preds, output_dict=True)\n",
    "    class_rep_df = pd.DataFrame(class_rep).transpose()\n",
    "    \n",
    "    auc = metrics.roc_auc_score(test['label'], probs)\n",
    "    acc = class_rep_df['precision'].loc['accuracy']\n",
    "    \n",
    "    print(class_rep_df)\n",
    "\n",
    "    conf_mat = confusion_matrix(test['label'], rounded_preds)\n",
    "\n",
    "    print(pd.DataFrame(conf_mat, index=[0, 1], columns=[0, 1]))\n",
    "\n",
    "    print(\"AUC: \"+str(auc))\n",
    "       \n",
    "    df_test_preds = test\n",
    "    df_test_preds['pred'] = rounded_preds\n",
    "    \n",
    "    conf_mat_comp = df_test_preds.groupby(['mappedtype', 'pred']).size()\n",
    "    \n",
    "    lt_preds = df_test_preds[(df_test_preds['mappedtype']==lt)][['mappedtype', 'pred']]\n",
    "    ol_preds = df_test_preds[(df_test_preds['mappedtype']!='Non-Link')&(df_test_preds['mappedtype']!=lt)][['mappedtype', 'pred']]    \n",
    "    nl_preds = df_test_preds[(df_test_preds['mappedtype']=='Non-Link')][['mappedtype', 'pred']]\n",
    "    \n",
    "    lt_cf = lt_preds['pred'].value_counts()\n",
    "    ol_cf = ol_preds['pred'].value_counts()\n",
    "    nl_cf = nl_preds['pred'].value_counts()\n",
    "    \n",
    "    try:\n",
    "        LT0 = lt_cf[0]\n",
    "    except:\n",
    "        LT0 = 0\n",
    "        \n",
    "    try:    \n",
    "        LT1 = lt_cf[1]\n",
    "    except:\n",
    "        LT1 = 0\n",
    "        \n",
    "    try:\n",
    "        OL0 = ol_cf[0]\n",
    "    except:\n",
    "        OL0 = 0\n",
    "        \n",
    "    try:\n",
    "        OL1 = ol_cf[1]\n",
    "    except:\n",
    "        OL1 = 0\n",
    "        \n",
    "    try:\n",
    "        NL0 = nl_cf[0]\n",
    "    except:\n",
    "        NL0 = 0\n",
    "        \n",
    "    try:\n",
    "        NL1 = nl_cf[1]\n",
    "    except:\n",
    "        NL1 = 0\n",
    "    \n",
    "    conf_mat_df = pd.DataFrame(columns = ['Class', '0', '1'])\n",
    "    \n",
    "    conf_mat_df.loc[len(conf_mat_df)] = [lt.upper(), LT0, LT1]\n",
    "    conf_mat_df.loc[len(conf_mat_df)] = [\"OTHER-LINKS\", OL0, OL1]\n",
    "    conf_mat_df.loc[len(conf_mat_df)] = [\"NON-LINKS\", NL0, NL1]\n",
    "    \n",
    "    print(conf_mat_df)\n",
    "    \n",
    "    if link:\n",
    "        try:\n",
    "            lt_pre = LT1 / (LT1+NL1)\n",
    "        except:\n",
    "            lt_pre = 0\n",
    "        lt_rec = LT1 / (LT1+LT0)\n",
    "    \n",
    "        try:\n",
    "            ol_pre = OL1 / (OL1+NL1)\n",
    "        except:\n",
    "            ol_pre = 0\n",
    "        ol_rec = OL1 / (OL1+OL0)\n",
    "        \n",
    "        try:\n",
    "            nl_pre = NL0 / (NL0+LT0+OL0)\n",
    "        except:\n",
    "            nl_pre = 0\n",
    "        nl_rec = NL0 / (NL0+NL1)\n",
    "        \n",
    "        both_metrics = class_rep_df.loc['1'].to_list()\n",
    "        \n",
    "    else:\n",
    "        try:\n",
    "            lt_pre = LT1 / (LT1+OL1+NL1)\n",
    "        except:\n",
    "            lt_pre = 0\n",
    "        lt_rec = LT1 / (LT1+LT0)\n",
    "        \n",
    "        try:\n",
    "            ol_pre = OL0 / (LT0+OL0)\n",
    "        except:\n",
    "            ol_pre = 0\n",
    "        ol_rec = OL0 / (OL0+OL1)\n",
    "        \n",
    "        try:\n",
    "            nl_pre = NL0 / (LT0+NL0)\n",
    "        except:\n",
    "            nl_pre = 0\n",
    "        nl_rec = NL0 / (NL0+NL1)\n",
    "        \n",
    "        both_metrics = class_rep_df.loc['0'].to_list()\n",
    "\n",
    "    lt_f1 = 2*(lt_pre*lt_rec)/(lt_pre+lt_rec)\n",
    "    \n",
    "    ol_f1 = 2*(ol_pre*ol_rec)/(ol_pre+ol_rec)\n",
    "        \n",
    "    nl_f1 = 2*(nl_pre*nl_rec)/(nl_pre+nl_rec)\n",
    "    \n",
    "    lt_metrics = [lt, lt_pre, lt_rec, lt_f1]\n",
    "    ol_metrics = ['Other-Links', ol_pre, ol_rec, ol_f1]\n",
    "    nl_metrics = ['Non-Links', nl_pre, nl_rec, nl_f1]\n",
    "    \n",
    "    both_metrics.insert(0, 'Both')\n",
    "    both_metrics = both_metrics[:-1]\n",
    "\n",
    "    print(conf_mat_comp)\n",
    "    \n",
    "    return acc, auc, lt_metrics, ol_metrics, nl_metrics, both_metrics, conf_mat_df, df_test_preds"
   ]
  },
  {
   "cell_type": "code",
   "execution_count": 46,
   "metadata": {},
   "outputs": [],
   "source": [
    "def do_model(dataset):\n",
    "    sccnn_model = train_model(random_sets[dataset+'_train'])\n",
    "    if dataset == 'R_LTOLvNL':\n",
    "        metrics_df, accauc_df, conf_mat_df, df_test_preds = do_test(sccnn_model, 'R_test_linked', True)\n",
    "        \n",
    "    else: \n",
    "        metrics_df, accauc_df, conf_mat_df, df_test_preds = do_test(sccnn_model, 'R_test_lt', False)\n",
    "    \n",
    "    metrics_df.to_csv('results/sccnn_'+SOURCE+'_'+lt+'_'+dataset+'_metrics.csv', encoding='utf-8', index=False)\n",
    "    accauc_df.to_csv('results/sccnn_'+SOURCE+'_'+lt+'_'+dataset+'_accauc.csv', encoding='utf-8', index=False)\n",
    "    conf_mat_df.to_csv('results/sccnn_'+SOURCE+'_'+lt+'_'+dataset+'_confmat.csv', encoding='utf-8', index=False)\n",
    "   \n",
    "    print(conf_mat_df)\n",
    "    print(accauc_df)\n",
    "    print(metrics_df)\n",
    "    \n",
    "    return df_test_preds\n",
    "\n",
    "def do_test(model, dataset, link):\n",
    "    acc, auc, lt_metrics, ol_metrics, nl_metrics, both_metrics, conf_mat_df, df_test_preds = eval_model(model, random_sets[dataset], link)\n",
    "\n",
    "    accauc_df = pd.DataFrame(columns = ['Dataset', 'ACC', 'AUC'])\n",
    "    accauc_df = accauc_df.append({\n",
    "        \"Dataset\": dataset,\n",
    "        \"ACC\": acc,\n",
    "        \"AUC\": auc\n",
    "    }, ignore_index=True)\n",
    "\n",
    "    metrics_df = pd.DataFrame(columns = ['Class', 'Precision', 'Recall', 'F1'])\n",
    "    metrics_df.loc[len(metrics_df)] = lt_metrics\n",
    "    metrics_df.loc[len(metrics_df)] = nl_metrics\n",
    "    metrics_df.loc[len(metrics_df)] = ol_metrics\n",
    "    metrics_df.loc[len(metrics_df)] = both_metrics\n",
    "    \n",
    "    return metrics_df, accauc_df, conf_mat_df, df_test_preds"
   ]
  },
  {
   "cell_type": "markdown",
   "metadata": {},
   "source": [
    "## Random"
   ]
  },
  {
   "cell_type": "code",
   "execution_count": 47,
   "metadata": {
    "scrolled": false
   },
   "outputs": [
    {
     "name": "stderr",
     "output_type": "stream",
     "text": [
      "/usr/local/lib/python3.8/dist-packages/tensorflow/python/keras/engine/training.py:2325: UserWarning: `Model.state_updates` will be removed in a future version. This property should not be used in TensorFlow 2.0, as `updates` are applied automatically.\n",
      "  warnings.warn('`Model.state_updates` will be removed in a future version. '\n"
     ]
    },
    {
     "name": "stdout",
     "output_type": "stream",
     "text": [
      "Epoch 00035: early stopping\n",
      "loss\n"
     ]
    },
    {
     "data": {
      "image/png": "[encoded data removed]",
      "text/plain": [
       "<Figure size 432x288 with 1 Axes>"
      ]
     },
     "metadata": {
      "needs_background": "light"
     },
     "output_type": "display_data"
    },
    {
     "name": "stdout",
     "output_type": "stream",
     "text": [
      "accuracy\n"
     ]
    },
    {
     "data": {
      "image/png": "[encoded data removed]",
      "text/plain": [
       "<Figure size 432x288 with 1 Axes>"
      ]
     },
     "metadata": {
      "needs_background": "light"
     },
     "output_type": "display_data"
    },
    {
     "name": "stdout",
     "output_type": "stream",
     "text": [
      "              precision    recall  f1-score      support\n",
      "0              0.920065  0.518382  0.663139  1088.000000\n",
      "1              0.485770  0.909926  0.633397   544.000000\n",
      "accuracy       0.648897  0.648897  0.648897     0.648897\n",
      "macro avg      0.702918  0.714154  0.648268  1632.000000\n",
      "weighted avg   0.775300  0.648897  0.653225  1632.000000\n",
      "     0    1\n",
      "0  564  524\n",
      "1   49  495\n",
      "AUC: 0.8006815662846021\n",
      "         Class    0    1\n",
      "0  DUPLICATION   49  495\n",
      "1  OTHER-LINKS  197  347\n",
      "2    NON-LINKS  367  177\n",
      "mappedtype        pred\n",
      "Composition       0        73\n",
      "                  1        76\n",
      "Duplication       0        49\n",
      "                  1       495\n",
      "General Relation  0        85\n",
      "                  1       223\n",
      "Non-Link          0       367\n",
      "                  1       177\n",
      "Temporal/Causal   0        39\n",
      "                  1        48\n",
      "dtype: int64\n",
      "         Class    0    1\n",
      "0  DUPLICATION   49  495\n",
      "1  OTHER-LINKS  197  347\n",
      "2    NON-LINKS  367  177\n",
      "     Dataset       ACC       AUC\n",
      "0  R_test_lt  0.648897  0.800682\n",
      "         Class  Precision    Recall        F1\n",
      "0  Duplication   0.485770  0.909926  0.633397\n",
      "1    Non-Links   0.882212  0.674632  0.764583\n",
      "2  Other-Links   0.800813  0.362132  0.498734\n",
      "3         Both   0.920065  0.518382  0.663139\n"
     ]
    }
   ],
   "source": [
    "LTvNL_preds = do_model('R_LTvNL')"
   ]
  },
  {
   "cell_type": "code",
   "execution_count": 48,
   "metadata": {},
   "outputs": [
    {
     "name": "stderr",
     "output_type": "stream",
     "text": [
      "/usr/local/lib/python3.8/dist-packages/tensorflow/python/keras/engine/training.py:2325: UserWarning: `Model.state_updates` will be removed in a future version. This property should not be used in TensorFlow 2.0, as `updates` are applied automatically.\n",
      "  warnings.warn('`Model.state_updates` will be removed in a future version. '\n"
     ]
    },
    {
     "name": "stdout",
     "output_type": "stream",
     "text": [
      "Epoch 00031: early stopping\n",
      "loss\n"
     ]
    },
    {
     "data": {
      "image/png": "[encoded data removed]",
      "text/plain": [
       "<Figure size 432x288 with 1 Axes>"
      ]
     },
     "metadata": {
      "needs_background": "light"
     },
     "output_type": "display_data"
    },
    {
     "name": "stdout",
     "output_type": "stream",
     "text": [
      "accuracy\n"
     ]
    },
    {
     "data": {
      "image/png": "[encoded data removed]",
      "text/plain": [
       "<Figure size 432x288 with 1 Axes>"
      ]
     },
     "metadata": {
      "needs_background": "light"
     },
     "output_type": "display_data"
    },
    {
     "name": "stdout",
     "output_type": "stream",
     "text": [
      "              precision    recall  f1-score      support\n",
      "0              0.818841  0.623162  0.707724  1088.000000\n",
      "1              0.490050  0.724265  0.584570   544.000000\n",
      "accuracy       0.656863  0.656863  0.656863     0.656863\n",
      "macro avg      0.654445  0.673713  0.646147  1632.000000\n",
      "weighted avg   0.709244  0.656863  0.666673  1632.000000\n",
      "     0    1\n",
      "0  678  410\n",
      "1  150  394\n",
      "AUC: 0.7292767693014706\n",
      "         Class    0    1\n",
      "0  DUPLICATION  150  394\n",
      "1  OTHER-LINKS  385  159\n",
      "2    NON-LINKS  293  251\n",
      "mappedtype        pred\n",
      "Composition       0       131\n",
      "                  1        18\n",
      "Duplication       0       150\n",
      "                  1       394\n",
      "General Relation  0       187\n",
      "                  1       121\n",
      "Non-Link          0       293\n",
      "                  1       251\n",
      "Temporal/Causal   0        67\n",
      "                  1        20\n",
      "dtype: int64\n",
      "         Class    0    1\n",
      "0  DUPLICATION  150  394\n",
      "1  OTHER-LINKS  385  159\n",
      "2    NON-LINKS  293  251\n",
      "     Dataset       ACC       AUC\n",
      "0  R_test_lt  0.656863  0.729277\n",
      "         Class  Precision    Recall        F1\n",
      "0  Duplication   0.490050  0.724265  0.584570\n",
      "1    Non-Links   0.661400  0.538603  0.593718\n",
      "2  Other-Links   0.719626  0.707721  0.713624\n",
      "3         Both   0.818841  0.623162  0.707724\n"
     ]
    }
   ],
   "source": [
    "LTvOL_preds = do_model('R_LTvOL')"
   ]
  },
  {
   "cell_type": "code",
   "execution_count": 49,
   "metadata": {},
   "outputs": [
    {
     "name": "stderr",
     "output_type": "stream",
     "text": [
      "/usr/local/lib/python3.8/dist-packages/tensorflow/python/keras/engine/training.py:2325: UserWarning: `Model.state_updates` will be removed in a future version. This property should not be used in TensorFlow 2.0, as `updates` are applied automatically.\n",
      "  warnings.warn('`Model.state_updates` will be removed in a future version. '\n"
     ]
    },
    {
     "name": "stdout",
     "output_type": "stream",
     "text": [
      "Epoch 00045: early stopping\n",
      "loss\n"
     ]
    },
    {
     "data": {
      "image/png": "[encoded data removed]",
      "text/plain": [
       "<Figure size 432x288 with 1 Axes>"
      ]
     },
     "metadata": {
      "needs_background": "light"
     },
     "output_type": "display_data"
    },
    {
     "name": "stdout",
     "output_type": "stream",
     "text": [
      "accuracy\n"
     ]
    },
    {
     "data": {
      "image/png": "[encoded data removed]",
      "text/plain": [
       "<Figure size 432x288 with 1 Axes>"
      ]
     },
     "metadata": {
      "needs_background": "light"
     },
     "output_type": "display_data"
    },
    {
     "name": "stdout",
     "output_type": "stream",
     "text": [
      "              precision    recall  f1-score      support\n",
      "0              0.846433  0.643382  0.731070  1088.000000\n",
      "1              0.518012  0.766544  0.618236   544.000000\n",
      "accuracy       0.684436  0.684436  0.684436     0.684436\n",
      "macro avg      0.682223  0.704963  0.674653  1632.000000\n",
      "weighted avg   0.736959  0.684436  0.693459  1632.000000\n",
      "     0    1\n",
      "0  700  388\n",
      "1  127  417\n",
      "AUC: 0.780392551092128\n",
      "         Class    0    1\n",
      "0  DUPLICATION  127  417\n",
      "1  OTHER-LINKS  340  204\n",
      "2    NON-LINKS  360  184\n",
      "mappedtype        pred\n",
      "Composition       0       116\n",
      "                  1        33\n",
      "Duplication       0       127\n",
      "                  1       417\n",
      "General Relation  0       161\n",
      "                  1       147\n",
      "Non-Link          0       360\n",
      "                  1       184\n",
      "Temporal/Causal   0        63\n",
      "                  1        24\n",
      "dtype: int64\n",
      "         Class    0    1\n",
      "0  DUPLICATION  127  417\n",
      "1  OTHER-LINKS  340  204\n",
      "2    NON-LINKS  360  184\n",
      "     Dataset       ACC       AUC\n",
      "0  R_test_lt  0.684436  0.780393\n",
      "         Class  Precision    Recall        F1\n",
      "0  Duplication   0.518012  0.766544  0.618236\n",
      "1    Non-Links   0.739220  0.661765  0.698351\n",
      "2  Other-Links   0.728051  0.625000  0.672601\n",
      "3         Both   0.846433  0.643382  0.731070\n"
     ]
    }
   ],
   "source": [
    "LTvNLOL_preds = do_model('R_LTvNLOL')"
   ]
  },
  {
   "cell_type": "code",
   "execution_count": 50,
   "metadata": {
    "scrolled": false
   },
   "outputs": [
    {
     "name": "stderr",
     "output_type": "stream",
     "text": [
      "/usr/local/lib/python3.8/dist-packages/tensorflow/python/keras/engine/training.py:2325: UserWarning: `Model.state_updates` will be removed in a future version. This property should not be used in TensorFlow 2.0, as `updates` are applied automatically.\n",
      "  warnings.warn('`Model.state_updates` will be removed in a future version. '\n"
     ]
    },
    {
     "name": "stdout",
     "output_type": "stream",
     "text": [
      "Epoch 00060: early stopping\n",
      "loss\n"
     ]
    },
    {
     "data": {
      "image/png": "[encoded data removed]",
      "text/plain": [
       "<Figure size 432x288 with 1 Axes>"
      ]
     },
     "metadata": {
      "needs_background": "light"
     },
     "output_type": "display_data"
    },
    {
     "name": "stdout",
     "output_type": "stream",
     "text": [
      "accuracy\n"
     ]
    },
    {
     "data": {
      "image/png": "[encoded data removed]",
      "text/plain": [
       "<Figure size 432x288 with 1 Axes>"
      ]
     },
     "metadata": {
      "needs_background": "light"
     },
     "output_type": "display_data"
    },
    {
     "name": "stdout",
     "output_type": "stream",
     "text": [
      "              precision    recall  f1-score      support\n",
      "0              0.487660  0.908088  0.634554   544.000000\n",
      "1              0.919225  0.522978  0.666667  1088.000000\n",
      "accuracy       0.651348  0.651348  0.651348     0.651348\n",
      "macro avg      0.703442  0.715533  0.650610  1632.000000\n",
      "weighted avg   0.775370  0.651348  0.655962  1632.000000\n",
      "     0    1\n",
      "0  494   50\n",
      "1  519  569\n",
      "AUC: 0.8363598886245676\n",
      "         Class    0    1\n",
      "0  DUPLICATION  245  299\n",
      "1  OTHER-LINKS  274  270\n",
      "2    NON-LINKS  494   50\n",
      "mappedtype        pred\n",
      "Composition       0        57\n",
      "                  1        92\n",
      "Duplication       0       245\n",
      "                  1       299\n",
      "General Relation  0       165\n",
      "                  1       143\n",
      "Non-Link          0       494\n",
      "                  1        50\n",
      "Temporal/Causal   0        52\n",
      "                  1        35\n",
      "dtype: int64\n",
      "         Class    0    1\n",
      "0  DUPLICATION  245  299\n",
      "1  OTHER-LINKS  274  270\n",
      "2    NON-LINKS  494   50\n",
      "         Dataset       ACC      AUC\n",
      "0  R_test_linked  0.651348  0.83636\n",
      "         Class  Precision    Recall        F1\n",
      "0  Duplication   0.856734  0.549632  0.669653\n",
      "1    Non-Links   0.487660  0.908088  0.634554\n",
      "2  Other-Links   0.843750  0.496324  0.625000\n",
      "3         Both   0.919225  0.522978  0.666667\n"
     ]
    }
   ],
   "source": [
    "LTOLvNL_preds = do_model('R_LTOLvNL')"
   ]
  }
 ],
 "metadata": {
  "kernelspec": {
   "display_name": "Python 3",
   "language": "python",
   "name": "python3"
  },
  "language_info": {
   "codemirror_mode": {
    "name": "ipython",
    "version": 3
   },
   "file_extension": ".py",
   "mimetype": "text/x-python",
   "name": "python",
   "nbconvert_exporter": "python",
   "pygments_lexer": "ipython3",
   "version": "3.9.2"
  }
 },
 "nbformat": 4,
 "nbformat_minor": 2
}
