{
 "cells": [
  {
   "cell_type": "code",
   "execution_count": 1,
   "id": "1345f1c8",
   "metadata": {},
   "outputs": [],
   "source": [
    "import pandas as pd\n",
    "from tqdm import tqdm"
   ]
  },
  {
   "cell_type": "code",
   "execution_count": 2,
   "id": "f0b7ceb1",
   "metadata": {},
   "outputs": [],
   "source": [
    "tqdm.pandas()"
   ]
  },
  {
   "cell_type": "code",
   "execution_count": 3,
   "id": "1981c072",
   "metadata": {},
   "outputs": [],
   "source": [
    "SOURCES = ['Apache', 'Hyperledger', 'IntelDAOS', 'JFrog', 'Jira', 'JiraEcosystem', 'MariaDB', 'Mindville', 'MongoDB', 'Qt', 'RedHat', 'Sakai', 'SecondLife', 'Sonatype', 'Spring']"
   ]
  },
  {
   "cell_type": "code",
   "execution_count": 4,
   "id": "863b71eb",
   "metadata": {},
   "outputs": [],
   "source": [
    "def add_linked_issues_to_df(df):\n",
    "    df['issues']=''\n",
    "    for i in tqdm(range(len(df))):\n",
    "        df[\"issues\"].iloc[i] = str(sorted(set([df.iloc[i]['issue_id_1'], df.iloc[i]['issue_id_2']])))"
   ]
  },
  {
   "cell_type": "code",
   "execution_count": 5,
   "id": "f3026273",
   "metadata": {},
   "outputs": [],
   "source": [
    "def load_data(source):\n",
    "    #Loading Issues\n",
    "    filename = '../data/crawl/issues_'+source.lower()+'.csv'\n",
    "    issue_df = pd.read_csv(filename, encoding=\"UTF-8\", low_memory=False, sep=';', index_col=['issue_id'])\n",
    "\n",
    "    #Loading Links\n",
    "    filename = '../data/crawl/links_'+source.lower()+'.csv'\n",
    "    link_df = pd.read_csv(filename, encoding=\"UTF-8\", low_memory=False, sep=';').drop_duplicates()\n",
    "    \n",
    "    return issue_df, link_df"
   ]
  },
  {
   "cell_type": "code",
   "execution_count": 6,
   "id": "f135e4c3",
   "metadata": {},
   "outputs": [],
   "source": [
    "def clean_issues(issue_df):\n",
    "    #Remove issues with empty titles\n",
    "    issue_df = issue_df[~issue_df['title'].fillna(' ').str.isspace()]\n",
    "    print(f'After filtering out issues with empty titles, {len(issue_df)} issues remain')\n",
    "    \n",
    "    return issue_df"
   ]
  },
  {
   "cell_type": "code",
   "execution_count": 109,
   "id": "f15fdbbe",
   "metadata": {},
   "outputs": [],
   "source": [
    "def clean_links(link_df):\n",
    "    add_linked_issues_to_df(link_df)\n",
    "    \n",
    "    # remove links with uncrawled and filtered issues\n",
    "    link_df = link_df[link_df[['issue_id_1', 'issue_id_2']].isin(issue_df.index.values).all(axis=1)]\n",
    "    print(f'Left with {len(link_df)} links after removing half-private links')\n",
    "    x = len(link_df)\n",
    "    \n",
    "    # cleanup links\n",
    "    # only allow one linktype per issue-pair\n",
    "    link_df.drop_duplicates(subset=['name'], keep=False, inplace=True)\n",
    "#     print(f'Left with {len(link_df)} links after removing issue-pairs with multiple links between them')\n",
    "\n",
    "    # in case the name is the otherway around, like issue-1_issue-2 and issue-2_issue-1\n",
    "    doublelinks = (link_df.issues.value_counts()>1).rename_axis('doubles').reset_index(name='valid')\n",
    "    valid_doubles = set(doublelinks[doublelinks['valid']==True]['doubles'])\n",
    "\n",
    "    for i in tqdm(valid_doubles):\n",
    "        if len(set(link_df[link_df['issues']==i]['linktype']))>1:\n",
    "            link_df = link_df[link_df.issues != i]\n",
    "    print(f'Left with {len(link_df)} links after removing issue-pairs with multiple link types between them')\n",
    "    \n",
    "    print(round((x-len(link_df))/x)*100,2)\n",
    "\n",
    "    del_mult_lt = (x-len(link_df))/x\n",
    "    \n",
    "    #Multiple links complete remove\n",
    "    link_df.drop_duplicates(subset=['issues'], inplace=True)\n",
    "    print(f'Left with {len(link_df)} links after removing issue-pairs with multiple entries')\n",
    "\n",
    "    link_df.reset_index(inplace=True, drop=True)\n",
    "    \n",
    "    return link_df, del_mult_lt"
   ]
  },
  {
   "cell_type": "code",
   "execution_count": 110,
   "id": "b42827a1",
   "metadata": {
    "scrolled": true
   },
   "outputs": [
    {
     "name": "stdout",
     "output_type": "stream",
     "text": [
      "APACHE\n",
      "Loaded 970929 issues and 250890 links\n",
      "After filtering out issues with empty titles, 970928 issues remain\n"
     ]
    },
    {
     "name": "stderr",
     "output_type": "stream",
     "text": [
      "100%|██████████| 250890/250890 [10:50<00:00, 385.58it/s]\n"
     ]
    },
    {
     "name": "stdout",
     "output_type": "stream",
     "text": [
      "Left with 250437 links after removing half-private links\n"
     ]
    },
    {
     "name": "stderr",
     "output_type": "stream",
     "text": [
      "100%|██████████| 2145/2145 [01:56<00:00, 18.39it/s]\n"
     ]
    },
    {
     "name": "stdout",
     "output_type": "stream",
     "text": [
      "Left with 243295 links after removing issue-pairs with multiple link types between them\n",
      "0 2\n",
      "Left with 242823 links after removing issue-pairs with multiple entries\n",
      "Cleaned 970928 issues and 242823 links\n",
      "----------------------------\n",
      "HYPERLEDGER\n",
      "Loaded 27914 issues and 16765 links\n",
      "After filtering out issues with empty titles, 27914 issues remain\n"
     ]
    },
    {
     "name": "stderr",
     "output_type": "stream",
     "text": [
      "100%|██████████| 16765/16765 [00:09<00:00, 1725.98it/s]\n"
     ]
    },
    {
     "name": "stdout",
     "output_type": "stream",
     "text": [
      "Left with 16652 links after removing half-private links\n"
     ]
    },
    {
     "name": "stderr",
     "output_type": "stream",
     "text": [
      "100%|██████████| 140/140 [00:00<00:00, 213.13it/s]\n"
     ]
    },
    {
     "name": "stdout",
     "output_type": "stream",
     "text": [
      "Left with 16246 links after removing issue-pairs with multiple link types between them\n",
      "0 2\n",
      "Left with 16225 links after removing issue-pairs with multiple entries\n",
      "Cleaned 27914 issues and 16225 links\n",
      "----------------------------\n",
      "INTELDAOS\n",
      "Loaded 5557 issues and 3518 links\n",
      "After filtering out issues with empty titles, 5557 issues remain\n"
     ]
    },
    {
     "name": "stderr",
     "output_type": "stream",
     "text": [
      "100%|██████████| 3518/3518 [00:01<00:00, 2042.29it/s]\n"
     ]
    },
    {
     "name": "stdout",
     "output_type": "stream",
     "text": [
      "Left with 3271 links after removing half-private links\n"
     ]
    },
    {
     "name": "stderr",
     "output_type": "stream",
     "text": [
      "100%|██████████| 13/13 [00:00<00:00, 486.73it/s]\n"
     ]
    },
    {
     "name": "stdout",
     "output_type": "stream",
     "text": [
      "Left with 3223 links after removing issue-pairs with multiple link types between them\n",
      "0 2\n",
      "Left with 3222 links after removing issue-pairs with multiple entries\n",
      "Cleaned 5557 issues and 3222 links\n",
      "----------------------------\n",
      "JFROG\n",
      "Loaded 14769 issues and 3289 links\n",
      "After filtering out issues with empty titles, 14769 issues remain\n"
     ]
    },
    {
     "name": "stderr",
     "output_type": "stream",
     "text": [
      "100%|██████████| 3289/3289 [00:01<00:00, 2013.69it/s]\n"
     ]
    },
    {
     "name": "stdout",
     "output_type": "stream",
     "text": [
      "Left with 3280 links after removing half-private links\n"
     ]
    },
    {
     "name": "stderr",
     "output_type": "stream",
     "text": [
      "100%|██████████| 24/24 [00:00<00:00, 605.11it/s]\n"
     ]
    },
    {
     "name": "stdout",
     "output_type": "stream",
     "text": [
      "Left with 3210 links after removing issue-pairs with multiple link types between them\n",
      "0 2\n",
      "Left with 3206 links after removing issue-pairs with multiple entries\n",
      "Cleaned 14769 issues and 3206 links\n",
      "----------------------------\n",
      "JIRA\n",
      "Loaded 265343 issues and 108507 links\n",
      "After filtering out issues with empty titles, 265341 issues remain\n"
     ]
    },
    {
     "name": "stderr",
     "output_type": "stream",
     "text": [
      "100%|██████████| 108507/108507 [02:21<00:00, 766.72it/s]\n"
     ]
    },
    {
     "name": "stdout",
     "output_type": "stream",
     "text": [
      "Left with 100795 links after removing half-private links\n"
     ]
    },
    {
     "name": "stderr",
     "output_type": "stream",
     "text": [
      "100%|██████████| 793/793 [00:16<00:00, 48.84it/s]\n"
     ]
    },
    {
     "name": "stdout",
     "output_type": "stream",
     "text": [
      "Left with 98390 links after removing issue-pairs with multiple link types between them\n",
      "0 2\n",
      "Left with 98122 links after removing issue-pairs with multiple entries\n",
      "Cleaned 265341 issues and 98122 links\n",
      "----------------------------\n",
      "JIRAECOSYSTEM\n",
      "Loaded 40602 issues and 11872 links\n",
      "After filtering out issues with empty titles, 40601 issues remain\n"
     ]
    },
    {
     "name": "stderr",
     "output_type": "stream",
     "text": [
      "100%|██████████| 11872/11872 [00:06<00:00, 1858.53it/s]\n"
     ]
    },
    {
     "name": "stdout",
     "output_type": "stream",
     "text": [
      "Left with 11104 links after removing half-private links\n"
     ]
    },
    {
     "name": "stderr",
     "output_type": "stream",
     "text": [
      "100%|██████████| 63/63 [00:00<00:00, 326.50it/s]\n"
     ]
    },
    {
     "name": "stdout",
     "output_type": "stream",
     "text": [
      "Left with 10926 links after removing issue-pairs with multiple link types between them\n",
      "0 2\n",
      "Left with 10911 links after removing issue-pairs with multiple entries\n",
      "Cleaned 40601 issues and 10911 links\n",
      "----------------------------\n",
      "MARIADB\n",
      "Loaded 31229 issues and 14950 links\n",
      "After filtering out issues with empty titles, 31229 issues remain\n"
     ]
    },
    {
     "name": "stderr",
     "output_type": "stream",
     "text": [
      "100%|██████████| 14950/14950 [00:08<00:00, 1834.52it/s]\n"
     ]
    },
    {
     "name": "stdout",
     "output_type": "stream",
     "text": [
      "Left with 14929 links after removing half-private links\n"
     ]
    },
    {
     "name": "stderr",
     "output_type": "stream",
     "text": [
      "100%|██████████| 98/98 [00:00<00:00, 284.36it/s]\n"
     ]
    },
    {
     "name": "stdout",
     "output_type": "stream",
     "text": [
      "Left with 14659 links after removing issue-pairs with multiple link types between them\n",
      "0 2\n",
      "Left with 14618 links after removing issue-pairs with multiple entries\n",
      "Cleaned 31229 issues and 14618 links\n",
      "----------------------------\n",
      "MINDVILLE\n",
      "Loaded 2134 issues and 46 links\n",
      "After filtering out issues with empty titles, 2134 issues remain\n"
     ]
    },
    {
     "name": "stderr",
     "output_type": "stream",
     "text": [
      "100%|██████████| 46/46 [00:00<00:00, 1893.72it/s]\n"
     ]
    },
    {
     "name": "stdout",
     "output_type": "stream",
     "text": [
      "Left with 46 links after removing half-private links\n"
     ]
    },
    {
     "name": "stderr",
     "output_type": "stream",
     "text": [
      "0it [00:00, ?it/s]\n"
     ]
    },
    {
     "name": "stdout",
     "output_type": "stream",
     "text": [
      "Left with 44 links after removing issue-pairs with multiple link types between them\n",
      "0 2\n",
      "Left with 44 links after removing issue-pairs with multiple entries\n",
      "Cleaned 2134 issues and 44 links\n",
      "----------------------------\n",
      "MONGODB\n",
      "Loaded 90629 issues and 61877 links\n",
      "After filtering out issues with empty titles, 90628 issues remain\n"
     ]
    },
    {
     "name": "stderr",
     "output_type": "stream",
     "text": [
      "100%|██████████| 61877/61877 [00:57<00:00, 1071.02it/s]\n"
     ]
    },
    {
     "name": "stdout",
     "output_type": "stream",
     "text": [
      "Left with 38482 links after removing half-private links\n"
     ]
    },
    {
     "name": "stderr",
     "output_type": "stream",
     "text": [
      "100%|██████████| 254/254 [00:02<00:00, 92.39it/s]\n"
     ]
    },
    {
     "name": "stdout",
     "output_type": "stream",
     "text": [
      "Left with 37581 links after removing issue-pairs with multiple link types between them\n",
      "0 2\n",
      "Left with 37545 links after removing issue-pairs with multiple entries\n",
      "Cleaned 90628 issues and 37545 links\n",
      "----------------------------\n",
      "QT\n",
      "Loaded 140237 issues and 37033 links\n",
      "After filtering out issues with empty titles, 140237 issues remain\n"
     ]
    },
    {
     "name": "stderr",
     "output_type": "stream",
     "text": [
      "100%|██████████| 37033/37033 [00:31<00:00, 1181.22it/s]\n"
     ]
    },
    {
     "name": "stdout",
     "output_type": "stream",
     "text": [
      "Left with 36331 links after removing half-private links\n"
     ]
    },
    {
     "name": "stderr",
     "output_type": "stream",
     "text": [
      "100%|██████████| 150/150 [00:01<00:00, 99.55it/s] \n"
     ]
    },
    {
     "name": "stdout",
     "output_type": "stream",
     "text": [
      "Left with 35877 links after removing issue-pairs with multiple link types between them\n",
      "0 2\n",
      "Left with 35855 links after removing issue-pairs with multiple entries\n",
      "Cleaned 140237 issues and 35855 links\n",
      "----------------------------\n",
      "REDHAT\n",
      "Loaded 315797 issues and 113853 links\n",
      "After filtering out issues with empty titles, 315796 issues remain\n"
     ]
    },
    {
     "name": "stderr",
     "output_type": "stream",
     "text": [
      "100%|██████████| 113853/113853 [02:48<00:00, 674.63it/s]\n"
     ]
    },
    {
     "name": "stdout",
     "output_type": "stream",
     "text": [
      "Left with 109199 links after removing half-private links\n"
     ]
    },
    {
     "name": "stderr",
     "output_type": "stream",
     "text": [
      "100%|██████████| 1129/1129 [00:24<00:00, 46.65it/s]\n"
     ]
    },
    {
     "name": "stdout",
     "output_type": "stream",
     "text": [
      "Left with 106640 links after removing issue-pairs with multiple link types between them\n",
      "0 2\n",
      "Left with 106200 links after removing issue-pairs with multiple entries\n",
      "Cleaned 315796 issues and 106200 links\n",
      "----------------------------\n",
      "SAKAI\n",
      "Loaded 49204 issues and 19515 links\n",
      "After filtering out issues with empty titles, 49204 issues remain\n"
     ]
    },
    {
     "name": "stderr",
     "output_type": "stream",
     "text": [
      "100%|██████████| 19515/19515 [00:11<00:00, 1724.92it/s]\n"
     ]
    },
    {
     "name": "stdout",
     "output_type": "stream",
     "text": [
      "Left with 19515 links after removing half-private links\n"
     ]
    },
    {
     "name": "stderr",
     "output_type": "stream",
     "text": [
      "100%|██████████| 135/135 [00:00<00:00, 220.30it/s]\n"
     ]
    },
    {
     "name": "stdout",
     "output_type": "stream",
     "text": [
      "Left with 19105 links after removing issue-pairs with multiple link types between them\n",
      "0 2\n",
      "Left with 19057 links after removing issue-pairs with multiple entries\n",
      "Cleaned 49204 issues and 19057 links\n",
      "----------------------------\n",
      "SECONDLIFE\n",
      "Loaded 1865 issues and 673 links\n",
      "After filtering out issues with empty titles, 1865 issues remain\n"
     ]
    },
    {
     "name": "stderr",
     "output_type": "stream",
     "text": [
      "100%|██████████| 673/673 [00:00<00:00, 2156.30it/s]\n"
     ]
    },
    {
     "name": "stdout",
     "output_type": "stream",
     "text": [
      "Left with 673 links after removing half-private links\n"
     ]
    },
    {
     "name": "stderr",
     "output_type": "stream",
     "text": [
      "100%|██████████| 17/17 [00:00<00:00, 209.67it/s]\n"
     ]
    },
    {
     "name": "stdout",
     "output_type": "stream",
     "text": [
      "Left with 633 links after removing issue-pairs with multiple link types between them\n",
      "0 2\n",
      "Left with 630 links after removing issue-pairs with multiple entries\n",
      "Cleaned 1865 issues and 630 links\n",
      "----------------------------\n",
      "SONATYPE\n",
      "Loaded 77837 issues and 4719 links\n",
      "After filtering out issues with empty titles, 77835 issues remain\n"
     ]
    },
    {
     "name": "stderr",
     "output_type": "stream",
     "text": [
      "100%|██████████| 4719/4719 [00:02<00:00, 1882.33it/s]\n"
     ]
    },
    {
     "name": "stdout",
     "output_type": "stream",
     "text": [
      "Left with 4356 links after removing half-private links\n"
     ]
    },
    {
     "name": "stderr",
     "output_type": "stream",
     "text": [
      "100%|██████████| 17/17 [00:00<00:00, 481.33it/s]\n"
     ]
    },
    {
     "name": "stdout",
     "output_type": "stream",
     "text": [
      "Left with 4290 links after removing issue-pairs with multiple link types between them\n",
      "0 2\n",
      "Left with 4289 links after removing issue-pairs with multiple entries\n",
      "Cleaned 77835 issues and 4289 links\n",
      "----------------------------\n",
      "SPRING\n",
      "Loaded 69100 issues and 14715 links\n",
      "After filtering out issues with empty titles, 69100 issues remain\n"
     ]
    },
    {
     "name": "stderr",
     "output_type": "stream",
     "text": [
      "100%|██████████| 14715/14715 [00:08<00:00, 1807.96it/s]\n"
     ]
    },
    {
     "name": "stdout",
     "output_type": "stream",
     "text": [
      "Left with 14615 links after removing half-private links\n"
     ]
    },
    {
     "name": "stderr",
     "output_type": "stream",
     "text": [
      "100%|██████████| 52/52 [00:00<00:00, 271.31it/s]"
     ]
    },
    {
     "name": "stdout",
     "output_type": "stream",
     "text": [
      "Left with 14477 links after removing issue-pairs with multiple link types between them\n",
      "0 2\n",
      "Left with 14461 links after removing issue-pairs with multiple entries\n",
      "Cleaned 69100 issues and 14461 links\n",
      "----------------------------\n",
      "0.023650177969120022\n"
     ]
    },
    {
     "name": "stderr",
     "output_type": "stream",
     "text": [
      "\n"
     ]
    }
   ],
   "source": [
    "sum_dml = 0\n",
    "for s in SOURCES:\n",
    "    print(s.upper())\n",
    "    issue_df, link_df = load_data(s)\n",
    "    print(f'Loaded {len(issue_df)} issues and {len(link_df)} links')\n",
    "    \n",
    "    issue_df = clean_issues(issue_df)\n",
    "    \n",
    "    link_df, del_mult_lt = clean_links(link_df)\n",
    "    \n",
    "    sum_dml+=del_mult_lt\n",
    "    \n",
    "    print(f'Cleaned {len(issue_df)} issues and {len(link_df)} links')\n",
    "    \n",
    "#     link_df.to_cs v('../data/crawl/clean_links_'+s.lower()+'.csv', encoding='utf-8', index=True, sep=';')\n",
    "    print(\"----------------------------\")\n",
    "print(sum_dml/15)"
   ]
  },
  {
   "cell_type": "markdown",
   "id": "handled-revelation",
   "metadata": {},
   "source": [
    "## Example of what exactly is cleaned"
   ]
  },
  {
   "cell_type": "code",
   "execution_count": 91,
   "id": "cee27da1",
   "metadata": {},
   "outputs": [
    {
     "name": "stdout",
     "output_type": "stream",
     "text": [
      "Loaded 49204 issues and 19515 links\n"
     ]
    },
    {
     "name": "stderr",
     "output_type": "stream",
     "text": [
      "100%|██████████| 19515/19515 [00:10<00:00, 1885.79it/s]"
     ]
    },
    {
     "name": "stdout",
     "output_type": "stream",
     "text": [
      "Left with 19515 links after removing half-private links\n"
     ]
    },
    {
     "name": "stderr",
     "output_type": "stream",
     "text": [
      "\n"
     ]
    }
   ],
   "source": [
    "source = 'sakai'\n",
    "issue_df, link_df = load_data(source)\n",
    "\n",
    "print(f'Loaded {len(issue_df)} issues and {len(link_df)} links')\n",
    "add_linked_issues_to_df(link_df)\n",
    "\n",
    "# remove links with uncrawled and filtered issues\n",
    "cl_link_df = link_df[link_df[['issue_id_1', 'issue_id_2']].isin(issue_df.index.values).all(axis=1)]\n",
    "print(f'Left with {len(cl_link_df)} links after removing half-private links')\n",
    "x = len(cl_link_df)"
   ]
  },
  {
   "cell_type": "code",
   "execution_count": 92,
   "id": "074136e2",
   "metadata": {},
   "outputs": [
    {
     "data": {
      "text/plain": [
       "SAK-34955_SAK-35012        2\n",
       "GRBK-965_GRBK-960          2\n",
       "GRBK-967_GRBK-960          2\n",
       "SAK-25889_SAK-25890        2\n",
       "SAK-9933_SAK-23877         2\n",
       "                          ..\n",
       "SAK-33519_SAK-26675        1\n",
       "SAK-33987_SAK-33521        1\n",
       "SAK-33522_SAK-32426        1\n",
       "SAK-33962_SAK-33524        1\n",
       "EVALSYS-128_EVALSYS-116    1\n",
       "Name: name, Length: 19397, dtype: int64"
      ]
     },
     "execution_count": 92,
     "metadata": {},
     "output_type": "execute_result"
    }
   ],
   "source": [
    "cl_link_df.name.value_counts()"
   ]
  },
  {
   "cell_type": "code",
   "execution_count": 93,
   "id": "cfd93f50",
   "metadata": {},
   "outputs": [
    {
     "data": {
      "text/html": [
       "<div>\n",
       "<style scoped>\n",
       "    .dataframe tbody tr th:only-of-type {\n",
       "        vertical-align: middle;\n",
       "    }\n",
       "\n",
       "    .dataframe tbody tr th {\n",
       "        vertical-align: top;\n",
       "    }\n",
       "\n",
       "    .dataframe thead th {\n",
       "        text-align: right;\n",
       "    }\n",
       "</style>\n",
       "<table border=\"1\" class=\"dataframe\">\n",
       "  <thead>\n",
       "    <tr style=\"text-align: right;\">\n",
       "      <th></th>\n",
       "      <th>name</th>\n",
       "      <th>linktype</th>\n",
       "      <th>issue_id_1</th>\n",
       "      <th>issue_id_2</th>\n",
       "      <th>issues</th>\n",
       "    </tr>\n",
       "  </thead>\n",
       "  <tbody>\n",
       "    <tr>\n",
       "      <th>9890</th>\n",
       "      <td>SAK-34955_SAK-35012</td>\n",
       "      <td>Relate</td>\n",
       "      <td>SAK-34955</td>\n",
       "      <td>SAK-35012</td>\n",
       "      <td>['SAK-34955', 'SAK-35012']</td>\n",
       "    </tr>\n",
       "    <tr>\n",
       "      <th>10243</th>\n",
       "      <td>SAK-34955_SAK-35012</td>\n",
       "      <td>Subtask</td>\n",
       "      <td>SAK-34955</td>\n",
       "      <td>SAK-35012</td>\n",
       "      <td>['SAK-34955', 'SAK-35012']</td>\n",
       "    </tr>\n",
       "  </tbody>\n",
       "</table>\n",
       "</div>"
      ],
      "text/plain": [
       "                      name linktype issue_id_1 issue_id_2  \\\n",
       "9890   SAK-34955_SAK-35012   Relate  SAK-34955  SAK-35012   \n",
       "10243  SAK-34955_SAK-35012  Subtask  SAK-34955  SAK-35012   \n",
       "\n",
       "                           issues  \n",
       "9890   ['SAK-34955', 'SAK-35012']  \n",
       "10243  ['SAK-34955', 'SAK-35012']  "
      ]
     },
     "execution_count": 93,
     "metadata": {},
     "output_type": "execute_result"
    }
   ],
   "source": [
    "cl_link_df[cl_link_df['name']=='SAK-34955_SAK-35012']"
   ]
  },
  {
   "cell_type": "code",
   "execution_count": 99,
   "id": "7e32de42",
   "metadata": {},
   "outputs": [
    {
     "name": "stdout",
     "output_type": "stream",
     "text": [
      "Left with 19102 links after removing issue-pairs with multiple links between them if they were in the correct order\n"
     ]
    }
   ],
   "source": [
    "cl_link_df.drop_duplicates(subset=['name'], keep=False, inplace=True)\n",
    "print(f'Left with {len(cl_link_df)} links after removing issue-pairs with multiple links between them if they were in the correct order')"
   ]
  },
  {
   "cell_type": "code",
   "execution_count": 94,
   "id": "31d94c5f",
   "metadata": {},
   "outputs": [
    {
     "name": "stdout",
     "output_type": "stream",
     "text": [
      "253\n"
     ]
    }
   ],
   "source": [
    "# in case the name is the otherway around, like issue-1_issue-2 and issue-2_issue-1\n",
    "doublelinks = (cl_link_df.issues.value_counts()>1).rename_axis('doubles').reset_index(name='valid')\n",
    "valid_doubles = set(doublelinks[doublelinks['valid']==True]['doubles'])\n",
    "print(len(valid_doubles))"
   ]
  },
  {
   "cell_type": "code",
   "execution_count": 95,
   "id": "94d96461",
   "metadata": {},
   "outputs": [
    {
     "data": {
      "text/plain": [
       "{\"['DASH-380', 'DASH-391']\",\n",
       " \"['EVALSYS-1233', 'EVALSYS-1242']\",\n",
       " \"['EVALSYS-1472', 'EVALSYS-1532']\",\n",
       " \"['EVALSYS-741', 'EVALSYS-769']\",\n",
       " \"['EVALSYS-764', 'EVALSYS-766']\",\n",
       " \"['EVALSYS-895', 'EVALSYS-918']\",\n",
       " \"['GM-152', 'GM-153']\",\n",
       " \"['GRBK-11', 'GRBK-225']\",\n",
       " \"['GRBK-1116', 'GRBK-1117']\",\n",
       " \"['GRBK-1191', 'GRBK-1210']\",\n",
       " \"['GRBK-1192', 'GRBK-701']\",\n",
       " \"['GRBK-1236', 'GRBK-859']\",\n",
       " \"['GRBK-1276', 'GRBK-1277']\",\n",
       " \"['GRBK-414', 'GRBK-834']\",\n",
       " \"['GRBK-594', 'GRBK-668']\",\n",
       " \"['GRBK-654', 'GRBK-713']\",\n",
       " \"['GRBK-752', 'GRBK-804']\",\n",
       " \"['GRBK-800', 'GRBK-803']\",\n",
       " \"['GRBK-868', 'GRBK-874']\",\n",
       " \"['GRBK-960', 'GRBK-965']\",\n",
       " \"['GRBK-960', 'GRBK-967']\",\n",
       " \"['PROD-232', 'PROD-271']\",\n",
       " \"['QNA-67', 'QNA-90']\",\n",
       " \"['QUALTRICS-40', 'QUALTRICS-91']\",\n",
       " \"['SAK-10305', 'SAK-11795']\",\n",
       " \"['SAK-10427', 'SAK-12485']\",\n",
       " \"['SAK-10427', 'SAK-12503']\",\n",
       " \"['SAK-10568', 'SAK-10579']\",\n",
       " \"['SAK-10826', 'SAK-8706']\",\n",
       " \"['SAK-10962', 'SAK-1357']\",\n",
       " \"['SAK-11008', 'SAK-9924']\",\n",
       " \"['SAK-1121', 'SAK-1159']\",\n",
       " \"['SAK-11413', 'SAK-11414']\",\n",
       " \"['SAK-11653', 'SAK-20073']\",\n",
       " \"['SAK-11798', 'SAK-13312']\",\n",
       " \"['SAK-12015', 'SAK-39245']\",\n",
       " \"['SAK-12051', 'SAK-34304']\",\n",
       " \"['SAK-12065', 'SAK-13058']\",\n",
       " \"['SAK-12114', 'SAK-12444']\",\n",
       " \"['SAK-12114', 'SAK-12525']\",\n",
       " \"['SAK-12191', 'SAK-16866']\",\n",
       " \"['SAK-12351', 'SAK-15037']\",\n",
       " \"['SAK-12357', 'SAK-13245']\",\n",
       " \"['SAK-12397', 'SAK-26004']\",\n",
       " \"['SAK-12853', 'SAK-12854']\",\n",
       " \"['SAK-13129', 'SAK-14551']\",\n",
       " \"['SAK-13522', 'SAK-28054']\",\n",
       " \"['SAK-1357', 'SAK-2015']\",\n",
       " \"['SAK-13584', 'SAK-16539']\",\n",
       " \"['SAK-13679', 'SAK-15701']\",\n",
       " \"['SAK-1368', 'SAK-13822']\",\n",
       " \"['SAK-14046', 'SAK-14175']\",\n",
       " \"['SAK-14120', 'SAK-38548']\",\n",
       " \"['SAK-1426', 'SAK-754']\",\n",
       " \"['SAK-1426', 'SAK-807']\",\n",
       " \"['SAK-14386', 'SAK-16166']\",\n",
       " \"['SAK-14390', 'SAK-14642']\",\n",
       " \"['SAK-14474', 'SAK-35537']\",\n",
       " \"['SAK-14926', 'SAK-15801']\",\n",
       " \"['SAK-15280', 'SAK-18008']\",\n",
       " \"['SAK-15625', 'SAK-38967']\",\n",
       " \"['SAK-15813', 'SAK-16433']\",\n",
       " \"['SAK-16091', 'SAK-22700']\",\n",
       " \"['SAK-16279', 'SAK-17059']\",\n",
       " \"['SAK-16421', 'SAK-16907']\",\n",
       " \"['SAK-16422', 'SAK-16605']\",\n",
       " \"['SAK-1647', 'SAK-5226']\",\n",
       " \"['SAK-16572', 'SAK-18817']\",\n",
       " \"['SAK-16595', 'SAK-16597']\",\n",
       " \"['SAK-16600', 'SAK-29132']\",\n",
       " \"['SAK-17240', 'SAK-28699']\",\n",
       " \"['SAK-175', 'SAK-2053']\",\n",
       " \"['SAK-1883', 'SAK-1958']\",\n",
       " \"['SAK-1894', 'SAK-4528']\",\n",
       " \"['SAK-1894', 'SAK-7836']\",\n",
       " \"['SAK-19047', 'SAK-20020']\",\n",
       " \"['SAK-19053', 'TII-73']\",\n",
       " \"['SAK-19081', 'SAK-19425']\",\n",
       " \"['SAK-19135', 'SAK-38450']\",\n",
       " \"['SAK-19156', 'SAK-23948']\",\n",
       " \"['SAK-19340', 'SAK-19465']\",\n",
       " \"['SAK-19646', 'SAK-38662']\",\n",
       " \"['SAK-19813', 'SAK-20373']\",\n",
       " \"['SAK-19907', 'SAK-20001']\",\n",
       " \"['SAK-20564', 'SAK-20576']\",\n",
       " \"['SAK-21013', 'SAK-39438']\",\n",
       " \"['SAK-21044', 'SAK-21078']\",\n",
       " \"['SAK-21390', 'SAK-27213']\",\n",
       " \"['SAK-21497', 'SAK-24409']\",\n",
       " \"['SAK-21498', 'SAK-22769']\",\n",
       " \"['SAK-21523', 'SAK-21524']\",\n",
       " \"['SAK-2204', 'SAK-8075']\",\n",
       " \"['SAK-22199', 'SAK-22285']\",\n",
       " \"['SAK-22199', 'SAK-26965']\",\n",
       " \"['SAK-22232', 'SAK-22592']\",\n",
       " \"['SAK-22282', 'SAK-23697']\",\n",
       " \"['SAK-22282', 'SAK-7938']\",\n",
       " \"['SAK-22283', 'SAK-23174']\",\n",
       " \"['SAK-22318', 'SAK-22894']\",\n",
       " \"['SAK-22332', 'SAK-22336']\",\n",
       " \"['SAK-22384', 'SAK-29135']\",\n",
       " \"['SAK-22384', 'SAK-38940']\",\n",
       " \"['SAK-22611', 'SAK-22633']\",\n",
       " \"['SAK-22612', 'SAK-22618']\",\n",
       " \"['SAK-22711', 'SAK-22733']\",\n",
       " \"['SAK-23044', 'SAK-39464']\",\n",
       " \"['SAK-23409', 'SAK-24364']\",\n",
       " \"['SAK-23437', 'SAK-23529']\",\n",
       " \"['SAK-23437', 'SAK-35572']\",\n",
       " \"['SAK-23628', 'SAK-31762']\",\n",
       " \"['SAK-23662', 'SAK-25513']\",\n",
       " \"['SAK-23695', 'SAK-23749']\",\n",
       " \"['SAK-23877', 'SAK-9933']\",\n",
       " \"['SAK-23912', 'SAK-24145']\",\n",
       " \"['SAK-2441', 'SAK-2442']\",\n",
       " \"['SAK-2441', 'SAK-2443']\",\n",
       " \"['SAK-2441', 'SAK-2444']\",\n",
       " \"['SAK-24490', 'SAK-24508']\",\n",
       " \"['SAK-24614', 'SAK-24937']\",\n",
       " \"['SAK-24865', 'SAK-25250']\",\n",
       " \"['SAK-25455', 'SAK-25637']\",\n",
       " \"['SAK-25567', 'SAK-25569']\",\n",
       " \"['SAK-25889', 'SAK-25890']\",\n",
       " \"['SAK-25903', 'SAK-26078']\",\n",
       " \"['SAK-25952', 'SAK-26145']\",\n",
       " \"['SAK-26306', 'SAK-26352']\",\n",
       " \"['SAK-26429', 'SAK-26528']\",\n",
       " \"['SAK-26513', 'SAK-26519']\",\n",
       " \"['SAK-26680', 'SAK-26848']\",\n",
       " \"['SAK-26723', 'SAK-26957']\",\n",
       " \"['SAK-27335', 'SAK-27346']\",\n",
       " \"['SAK-2753', 'SAK-3736']\",\n",
       " \"['SAK-27774', 'SAK-27776']\",\n",
       " \"['SAK-27774', 'SAK-28526']\",\n",
       " \"['SAK-27942', 'SAK-29007']\",\n",
       " \"['SAK-28119', 'SAK-29913']\",\n",
       " \"['SAK-28644', 'SAK-41816']\",\n",
       " \"['SAK-28659', 'SAK-39744']\",\n",
       " \"['SAK-29292', 'SAK-29849']\",\n",
       " \"['SAK-29326', 'SAK-33265']\",\n",
       " \"['SAK-29367', 'SAK-29664']\",\n",
       " \"['SAK-29400', 'SAK-34002']\",\n",
       " \"['SAK-30519', 'SAK-30545']\",\n",
       " \"['SAK-30805', 'SAK-30806']\",\n",
       " \"['SAK-31110', 'SAK-31111']\",\n",
       " \"['SAK-31123', 'SAK-33995']\",\n",
       " \"['SAK-31196', 'SAK-31745']\",\n",
       " \"['SAK-31301', 'SAK-31449']\",\n",
       " \"['SAK-31442', 'SAK-31762']\",\n",
       " \"['SAK-31460', 'SAK-31891']\",\n",
       " \"['SAK-31613', 'SAK-31617']\",\n",
       " \"['SAK-31796', 'SAK-36475']\",\n",
       " \"['SAK-31978', 'SAK-31997']\",\n",
       " \"['SAK-32016', 'SAK-32019']\",\n",
       " \"['SAK-32377', 'SAK-32651']\",\n",
       " \"['SAK-32651', 'SAK-32652']\",\n",
       " \"['SAK-32685', 'SAK-32686']\",\n",
       " \"['SAK-32701', 'SAK-33667']\",\n",
       " \"['SAK-3296', 'SAK-9198']\",\n",
       " \"['SAK-33431', 'SAK-33554']\",\n",
       " \"['SAK-33579', 'SAK-33604']\",\n",
       " \"['SAK-33889', 'SAK-33893']\",\n",
       " \"['SAK-33995', 'SAK-40516']\",\n",
       " \"['SAK-33995', 'SAK-42356']\",\n",
       " \"['SAK-34015', 'SAK-34236']\",\n",
       " \"['SAK-34112', 'SAK-34190']\",\n",
       " \"['SAK-34129', 'SAK-34555']\",\n",
       " \"['SAK-34169', 'SAK-36547']\",\n",
       " \"['SAK-34373', 'SAK-43608']\",\n",
       " \"['SAK-34508', 'SAK-36942']\",\n",
       " \"['SAK-34817', 'SAK-34971']\",\n",
       " \"['SAK-34821', 'SAK-34985']\",\n",
       " \"['SAK-34826', 'SAK-34955']\",\n",
       " \"['SAK-34851', 'SAK-36983']\",\n",
       " \"['SAK-34922', 'SAK-35003']\",\n",
       " \"['SAK-34930', 'SAK-7974']\",\n",
       " \"['SAK-34955', 'SAK-35012']\",\n",
       " \"['SAK-35049', 'SAK-35123']\",\n",
       " \"['SAK-35052', 'SAK-35136']\",\n",
       " \"['SAK-35060', 'SAK-35205']\",\n",
       " \"['SAK-35101', 'SAK-35151']\",\n",
       " \"['SAK-35541', 'SAK-910']\",\n",
       " \"['SAK-35542', 'SAK-36808']\",\n",
       " \"['SAK-35953', 'SAK-36308']\",\n",
       " \"['SAK-36126', 'SAK-36190']\",\n",
       " \"['SAK-36261', 'SAK-36733']\",\n",
       " \"['SAK-36422', 'SAK-36699']\",\n",
       " \"['SAK-36567', 'SAK-37153']\",\n",
       " \"['SAK-36579', 'SAK-37154']\",\n",
       " \"['SAK-36638', 'SAK-36844']\",\n",
       " \"['SAK-36720', 'SAK-36756']\",\n",
       " \"['SAK-36752', 'SAK-36786']\",\n",
       " \"['SAK-36885', 'SAK-37167']\",\n",
       " \"['SAK-36901', 'SAK-37162']\",\n",
       " \"['SAK-36901', 'SAK-37163']\",\n",
       " \"['SAK-36980', 'SAK-37167']\",\n",
       " \"['SAK-37002', 'SAK-37178']\",\n",
       " \"['SAK-37257', 'SAK-38753']\",\n",
       " \"['SAK-37723', 'SAK-37770']\",\n",
       " \"['SAK-3836', 'SAK-8165']\",\n",
       " \"['SAK-38478', 'SAK-39016']\",\n",
       " \"['SAK-38636', 'SAK-39418']\",\n",
       " \"['SAK-39178', 'SAK-39372']\",\n",
       " \"['SAK-39479', 'SAK-39559']\",\n",
       " \"['SAK-39479', 'SAK-39560']\",\n",
       " \"['SAK-39682', 'SAK-39832']\",\n",
       " \"['SAK-39737', 'SAK-39846']\",\n",
       " \"['SAK-39856', 'SAK-39901']\",\n",
       " \"['SAK-40226', 'SAK-42812']\",\n",
       " \"['SAK-40341', 'SAK-40940']\",\n",
       " \"['SAK-40389', 'SAK-40515']\",\n",
       " \"['SAK-40395', 'SAK-44296']\",\n",
       " \"['SAK-40527', 'SAK-45244']\",\n",
       " \"['SAK-40544', 'SAK-42466']\",\n",
       " \"['SAK-40655', 'SAK-40702']\",\n",
       " \"['SAK-40672', 'SAK-41170']\",\n",
       " \"['SAK-40731', 'SAK-41898']\",\n",
       " \"['SAK-40875', 'SAK-41409']\",\n",
       " \"['SAK-40979', 'SAK-43362']\",\n",
       " \"['SAK-41150', 'SAK-41876']\",\n",
       " \"['SAK-41219', 'SAK-41535']\",\n",
       " \"['SAK-41640', 'SAK-41710']\",\n",
       " \"['SAK-41812', 'SAK-41826']\",\n",
       " \"['SAK-41842', 'SAK-41843']\",\n",
       " \"['SAK-41849', 'SAK-42371']\",\n",
       " \"['SAK-4197', 'SAK-5442']\",\n",
       " \"['SAK-42179', 'SAK-43226']\",\n",
       " \"['SAK-42791', 'SAK-42798']\",\n",
       " \"['SAK-43405', 'SAK-43406']\",\n",
       " \"['SAK-43809', 'SAK-43810']\",\n",
       " \"['SAK-43809', 'SAK-43812']\",\n",
       " \"['SAK-43809', 'SAK-43813']\",\n",
       " \"['SAK-44055', 'SAK-44786']\",\n",
       " \"['SAK-44081', 'SAK-44082']\",\n",
       " \"['SAK-44480', 'SAK-44481']\",\n",
       " \"['SAK-5225', 'SAK-5226']\",\n",
       " \"['SAK-5296', 'SAK-7311']\",\n",
       " \"['SAK-5373', 'SAK-5374']\",\n",
       " \"['SAK-5904', 'SAK-8997']\",\n",
       " \"['SAK-5992', 'SAK-5993']\",\n",
       " \"['SAK-6482', 'SAK-6680']\",\n",
       " \"['SAK-6780', 'SAK-6840']\",\n",
       " \"['SAK-6844', 'SAK-7693']\",\n",
       " \"['SAK-7271', 'SAK-7616']\",\n",
       " \"['SAK-7272', 'SAK-7590']\",\n",
       " \"['SAK-7817', 'SAK-7936']\",\n",
       " \"['SAK-7880', 'SAK-8163']\",\n",
       " \"['SAK-8034', 'SAK-8162']\",\n",
       " \"['SAK-8142', 'SAK-9428']\",\n",
       " \"['SAK-8392', 'SAK-8920']\",\n",
       " \"['SAK-9338', 'SAK-9724']\",\n",
       " \"['SKE-196', 'SKE-201']\",\n",
       " \"['SKE-36', 'SKE-51']\"}"
      ]
     },
     "execution_count": 95,
     "metadata": {},
     "output_type": "execute_result"
    }
   ],
   "source": [
    "valid_doubles"
   ]
  },
  {
   "cell_type": "code",
   "execution_count": 96,
   "id": "bottom-dominant",
   "metadata": {},
   "outputs": [
    {
     "data": {
      "text/html": [
       "<div>\n",
       "<style scoped>\n",
       "    .dataframe tbody tr th:only-of-type {\n",
       "        vertical-align: middle;\n",
       "    }\n",
       "\n",
       "    .dataframe tbody tr th {\n",
       "        vertical-align: top;\n",
       "    }\n",
       "\n",
       "    .dataframe thead th {\n",
       "        text-align: right;\n",
       "    }\n",
       "</style>\n",
       "<table border=\"1\" class=\"dataframe\">\n",
       "  <thead>\n",
       "    <tr style=\"text-align: right;\">\n",
       "      <th></th>\n",
       "      <th>name</th>\n",
       "      <th>linktype</th>\n",
       "      <th>issue_id_1</th>\n",
       "      <th>issue_id_2</th>\n",
       "      <th>issues</th>\n",
       "    </tr>\n",
       "  </thead>\n",
       "  <tbody>\n",
       "    <tr>\n",
       "      <th>34295</th>\n",
       "      <td>EVALSYS-741_EVALSYS-769</td>\n",
       "      <td>Duplicate</td>\n",
       "      <td>EVALSYS-741</td>\n",
       "      <td>EVALSYS-769</td>\n",
       "      <td>['EVALSYS-741', 'EVALSYS-769']</td>\n",
       "    </tr>\n",
       "    <tr>\n",
       "      <th>34296</th>\n",
       "      <td>EVALSYS-769_EVALSYS-741</td>\n",
       "      <td>Incorporate</td>\n",
       "      <td>EVALSYS-769</td>\n",
       "      <td>EVALSYS-741</td>\n",
       "      <td>['EVALSYS-741', 'EVALSYS-769']</td>\n",
       "    </tr>\n",
       "  </tbody>\n",
       "</table>\n",
       "</div>"
      ],
      "text/plain": [
       "                          name     linktype   issue_id_1   issue_id_2  \\\n",
       "34295  EVALSYS-741_EVALSYS-769    Duplicate  EVALSYS-741  EVALSYS-769   \n",
       "34296  EVALSYS-769_EVALSYS-741  Incorporate  EVALSYS-769  EVALSYS-741   \n",
       "\n",
       "                               issues  \n",
       "34295  ['EVALSYS-741', 'EVALSYS-769']  \n",
       "34296  ['EVALSYS-741', 'EVALSYS-769']  "
      ]
     },
     "execution_count": 96,
     "metadata": {},
     "output_type": "execute_result"
    }
   ],
   "source": [
    "cl_link_df[(cl_link_df['issue_id_1'] == 'EVALSYS-741') | (cl_link_df['issue_id_2'] == 'EVALSYS-741')]"
   ]
  },
  {
   "cell_type": "code",
   "execution_count": 97,
   "id": "0a6656df",
   "metadata": {
    "scrolled": true
   },
   "outputs": [
    {
     "name": "stdout",
     "output_type": "stream",
     "text": [
      "['SAK-24490', 'SAK-24508']\n",
      "['SAK-16279', 'SAK-17059']\n",
      "['SAK-16421', 'SAK-16907']\n",
      "['SAK-11008', 'SAK-9924']\n",
      "['EVALSYS-1233', 'EVALSYS-1242']\n",
      "['SAK-5992', 'SAK-5993']\n",
      "['GRBK-1276', 'GRBK-1277']\n",
      "['GRBK-868', 'GRBK-874']\n",
      "['GRBK-11', 'GRBK-225']\n",
      "['SAK-28119', 'SAK-29913']\n",
      "['SAK-1894', 'SAK-4528']\n",
      "['SAK-19340', 'SAK-19465']\n",
      "['SAK-26306', 'SAK-26352']\n",
      "['SAK-44081', 'SAK-44082']\n",
      "['SAK-28659', 'SAK-39744']\n",
      "['SAK-40979', 'SAK-43362']\n",
      "['SAK-1426', 'SAK-807']\n",
      "['SAK-33431', 'SAK-33554']\n",
      "['SAK-1357', 'SAK-2015']\n",
      "['SAK-23437', 'SAK-23529']\n",
      "['SAK-15813', 'SAK-16433']\n",
      "['SAK-31123', 'SAK-33995']\n",
      "['GRBK-1236', 'GRBK-859']\n",
      "['SAK-5225', 'SAK-5226']\n",
      "['SAK-29400', 'SAK-34002']\n",
      "['SAK-24865', 'SAK-25250']\n",
      "['SAK-7271', 'SAK-7616']\n",
      "['SAK-27942', 'SAK-29007']\n",
      "['SAK-35953', 'SAK-36308']\n",
      "['GRBK-752', 'GRBK-804']\n",
      "['SAK-1426', 'SAK-754']\n",
      "['SAK-33995', 'SAK-42356']\n",
      "['SAK-8034', 'SAK-8162']\n",
      "['SAK-36638', 'SAK-36844']\n",
      "['SAK-16091', 'SAK-22700']\n",
      "['SAK-5296', 'SAK-7311']\n",
      "['SAK-36885', 'SAK-37167']\n",
      "['SAK-27774', 'SAK-28526']\n",
      "['SAK-14474', 'SAK-35537']\n",
      "['SAK-35060', 'SAK-35205']\n",
      "['SAK-35541', 'SAK-910']\n",
      "['SAK-8392', 'SAK-8920']\n",
      "['SAK-40655', 'SAK-40702']\n",
      "['SAK-34169', 'SAK-36547']\n",
      "['SAK-34851', 'SAK-36983']\n",
      "['SAK-7272', 'SAK-7590']\n",
      "['GRBK-800', 'GRBK-803']\n",
      "['SAK-5904', 'SAK-8997']\n",
      "Left with 19102 links after removing issue-pairs with multiple link types between them\n"
     ]
    }
   ],
   "source": [
    "for i in valid_doubles:\n",
    "    if len(set(cl_link_df[cl_link_df['issues']==i]['linktype']))>1:\n",
    "        cl_link_df = cl_link_df[cl_link_df.issues != i]\n",
    "    else:\n",
    "        print(i)\n",
    "print(f'Left with {len(cl_link_df)} links after removing issue-pairs with multiple link types between them')"
   ]
  },
  {
   "cell_type": "code",
   "execution_count": 98,
   "id": "naughty-factor",
   "metadata": {},
   "outputs": [
    {
     "name": "stdout",
     "output_type": "stream",
     "text": [
      "Left with 19102 links after removing issue-pairs with multiple link types between them\n"
     ]
    }
   ],
   "source": [
    "print(f'Left with {len(cl_link_df)} links after removing issue-pairs with multiple link types between them')"
   ]
  },
  {
   "cell_type": "code",
   "execution_count": 100,
   "id": "willing-emergency",
   "metadata": {},
   "outputs": [
    {
     "data": {
      "text/plain": [
       "413"
      ]
     },
     "execution_count": 100,
     "metadata": {},
     "output_type": "execute_result"
    }
   ],
   "source": [
    "x-len(cl_link_df)"
   ]
  },
  {
   "cell_type": "code",
   "execution_count": 101,
   "id": "underlying-cheese",
   "metadata": {},
   "outputs": [
    {
     "data": {
      "text/plain": [
       "0.02116320778888035"
      ]
     },
     "execution_count": 101,
     "metadata": {},
     "output_type": "execute_result"
    }
   ],
   "source": [
    "(x-len(cl_link_df))/x"
   ]
  },
  {
   "cell_type": "code",
   "execution_count": 102,
   "id": "7d024858",
   "metadata": {
    "scrolled": true
   },
   "outputs": [
    {
     "data": {
      "text/plain": [
       "['SAK-8034', 'SAK-8162']          2\n",
       "['SAK-34169', 'SAK-36547']        2\n",
       "['SAK-16091', 'SAK-22700']        2\n",
       "['SAK-27774', 'SAK-28526']        2\n",
       "['SAK-24490', 'SAK-24508']        2\n",
       "                                 ..\n",
       "['SAK-32867', 'SAK-33537']        1\n",
       "['SAK-30153', 'SAK-33537']        1\n",
       "['SAK-27900', 'SAK-33541']        1\n",
       "['SAK-34380', 'SAK-34967']        1\n",
       "['EVALSYS-116', 'EVALSYS-128']    1\n",
       "Name: issues, Length: 19054, dtype: int64"
      ]
     },
     "execution_count": 102,
     "metadata": {},
     "output_type": "execute_result"
    }
   ],
   "source": [
    "cl_link_df.issues.value_counts()"
   ]
  },
  {
   "cell_type": "code",
   "execution_count": 103,
   "id": "1ac680f2",
   "metadata": {},
   "outputs": [
    {
     "data": {
      "text/html": [
       "<div>\n",
       "<style scoped>\n",
       "    .dataframe tbody tr th:only-of-type {\n",
       "        vertical-align: middle;\n",
       "    }\n",
       "\n",
       "    .dataframe tbody tr th {\n",
       "        vertical-align: top;\n",
       "    }\n",
       "\n",
       "    .dataframe thead th {\n",
       "        text-align: right;\n",
       "    }\n",
       "</style>\n",
       "<table border=\"1\" class=\"dataframe\">\n",
       "  <thead>\n",
       "    <tr style=\"text-align: right;\">\n",
       "      <th></th>\n",
       "      <th>name</th>\n",
       "      <th>linktype</th>\n",
       "      <th>issue_id_1</th>\n",
       "      <th>issue_id_2</th>\n",
       "      <th>issues</th>\n",
       "    </tr>\n",
       "  </thead>\n",
       "  <tbody>\n",
       "    <tr>\n",
       "      <th>7863</th>\n",
       "      <td>SAK-35060_SAK-37046</td>\n",
       "      <td>Relate</td>\n",
       "      <td>SAK-35060</td>\n",
       "      <td>SAK-37046</td>\n",
       "      <td>['SAK-35060', 'SAK-37046']</td>\n",
       "    </tr>\n",
       "    <tr>\n",
       "      <th>8417</th>\n",
       "      <td>SAK-35665_SAK-35060</td>\n",
       "      <td>Relate</td>\n",
       "      <td>SAK-35665</td>\n",
       "      <td>SAK-35060</td>\n",
       "      <td>['SAK-35060', 'SAK-35665']</td>\n",
       "    </tr>\n",
       "    <tr>\n",
       "      <th>9148</th>\n",
       "      <td>SAK-35205_SAK-35060</td>\n",
       "      <td>Relate</td>\n",
       "      <td>SAK-35205</td>\n",
       "      <td>SAK-35060</td>\n",
       "      <td>['SAK-35060', 'SAK-35205']</td>\n",
       "    </tr>\n",
       "    <tr>\n",
       "      <th>9149</th>\n",
       "      <td>SAK-35060_SAK-35205</td>\n",
       "      <td>Relate</td>\n",
       "      <td>SAK-35060</td>\n",
       "      <td>SAK-35205</td>\n",
       "      <td>['SAK-35060', 'SAK-35205']</td>\n",
       "    </tr>\n",
       "    <tr>\n",
       "      <th>9341</th>\n",
       "      <td>SAK-35136_SAK-35060</td>\n",
       "      <td>Relate</td>\n",
       "      <td>SAK-35136</td>\n",
       "      <td>SAK-35060</td>\n",
       "      <td>['SAK-35060', 'SAK-35136']</td>\n",
       "    </tr>\n",
       "    <tr>\n",
       "      <th>9665</th>\n",
       "      <td>SAK-35052_SAK-35060</td>\n",
       "      <td>Cloners</td>\n",
       "      <td>SAK-35052</td>\n",
       "      <td>SAK-35060</td>\n",
       "      <td>['SAK-35052', 'SAK-35060']</td>\n",
       "    </tr>\n",
       "    <tr>\n",
       "      <th>9666</th>\n",
       "      <td>SAK-35060_SAK-34968</td>\n",
       "      <td>Depend</td>\n",
       "      <td>SAK-35060</td>\n",
       "      <td>SAK-34968</td>\n",
       "      <td>['SAK-34968', 'SAK-35060']</td>\n",
       "    </tr>\n",
       "    <tr>\n",
       "      <th>9669</th>\n",
       "      <td>SAK-35060_SAK-34877</td>\n",
       "      <td>Relate</td>\n",
       "      <td>SAK-35060</td>\n",
       "      <td>SAK-34877</td>\n",
       "      <td>['SAK-34877', 'SAK-35060']</td>\n",
       "    </tr>\n",
       "  </tbody>\n",
       "</table>\n",
       "</div>"
      ],
      "text/plain": [
       "                     name linktype issue_id_1 issue_id_2  \\\n",
       "7863  SAK-35060_SAK-37046   Relate  SAK-35060  SAK-37046   \n",
       "8417  SAK-35665_SAK-35060   Relate  SAK-35665  SAK-35060   \n",
       "9148  SAK-35205_SAK-35060   Relate  SAK-35205  SAK-35060   \n",
       "9149  SAK-35060_SAK-35205   Relate  SAK-35060  SAK-35205   \n",
       "9341  SAK-35136_SAK-35060   Relate  SAK-35136  SAK-35060   \n",
       "9665  SAK-35052_SAK-35060  Cloners  SAK-35052  SAK-35060   \n",
       "9666  SAK-35060_SAK-34968   Depend  SAK-35060  SAK-34968   \n",
       "9669  SAK-35060_SAK-34877   Relate  SAK-35060  SAK-34877   \n",
       "\n",
       "                          issues  \n",
       "7863  ['SAK-35060', 'SAK-37046']  \n",
       "8417  ['SAK-35060', 'SAK-35665']  \n",
       "9148  ['SAK-35060', 'SAK-35205']  \n",
       "9149  ['SAK-35060', 'SAK-35205']  \n",
       "9341  ['SAK-35060', 'SAK-35136']  \n",
       "9665  ['SAK-35052', 'SAK-35060']  \n",
       "9666  ['SAK-34968', 'SAK-35060']  \n",
       "9669  ['SAK-34877', 'SAK-35060']  "
      ]
     },
     "execution_count": 103,
     "metadata": {},
     "output_type": "execute_result"
    }
   ],
   "source": [
    "cl_link_df[(cl_link_df['issue_id_1'] == 'SAK-35060') | (cl_link_df['issue_id_2'] == 'SAK-35060')]"
   ]
  },
  {
   "cell_type": "code",
   "execution_count": 104,
   "id": "61099697",
   "metadata": {},
   "outputs": [
    {
     "name": "stdout",
     "output_type": "stream",
     "text": [
      "Left with 19054 links after removing issue-pairs with the same link type with multiple entries\n"
     ]
    }
   ],
   "source": [
    "#Multiple links complete remove\n",
    "cl_link_df.drop_duplicates(subset=['issues'], inplace=True)\n",
    "print(f'Left with {len(cl_link_df)} links after removing issue-pairs with the same link type with multiple entries')\n",
    "\n",
    "cl_link_df.reset_index(inplace=True, drop=True)"
   ]
  },
  {
   "cell_type": "code",
   "execution_count": null,
   "id": "3049cb9f",
   "metadata": {},
   "outputs": [],
   "source": []
  },
  {
   "cell_type": "code",
   "execution_count": null,
   "id": "cordless-combination",
   "metadata": {},
   "outputs": [],
   "source": []
  }
 ],
 "metadata": {
  "kernelspec": {
   "display_name": "Python 3",
   "language": "python",
   "name": "python3"
  },
  "language_info": {
   "codemirror_mode": {
    "name": "ipython",
    "version": 3
   },
   "file_extension": ".py",
   "mimetype": "text/x-python",
   "name": "python",
   "nbconvert_exporter": "python",
   "pygments_lexer": "ipython3",
   "version": "3.9.2"
  }
 },
 "nbformat": 4,
 "nbformat_minor": 5
}
