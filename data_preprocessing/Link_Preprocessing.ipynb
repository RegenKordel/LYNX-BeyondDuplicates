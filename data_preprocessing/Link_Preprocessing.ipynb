{
 "cells": [
  {
   "cell_type": "code",
   "execution_count": 1,
   "id": "1345f1c8",
   "metadata": {},
   "outputs": [],
   "source": [
    "import pandas as pd\n",
    "from tqdm import tqdm"
   ]
  },
  {
   "cell_type": "code",
   "execution_count": 2,
   "id": "f0b7ceb1",
   "metadata": {},
   "outputs": [],
   "source": [
    "tqdm.pandas()"
   ]
  },
  {
   "cell_type": "code",
   "execution_count": 3,
   "id": "1981c072",
   "metadata": {},
   "outputs": [],
   "source": [
    "SOURCES = ['Apache', 'Hyperledger', 'IntelDAOS', 'JFrog', 'Jira', 'JiraEcosystem', 'MariaDB', 'Mindville', 'MongoDB', 'Qt', 'RedHat', 'Sakai', 'SecondLife', 'Sonatype', 'Spring']"
   ]
  },
  {
   "cell_type": "code",
   "execution_count": 4,
   "id": "863b71eb",
   "metadata": {},
   "outputs": [],
   "source": [
    "def add_linked_issues_to_df(df):\n",
    "    df['issues']=''\n",
    "    for i in tqdm(range(len(df))):\n",
    "        df[\"issues\"].iloc[i] = str(sorted(set([df.iloc[i]['issue_id_1'], df.iloc[i]['issue_id_2']])))"
   ]
  },
  {
   "cell_type": "code",
   "execution_count": 6,
   "id": "f3026273",
   "metadata": {},
   "outputs": [],
   "source": [
    "def load_data(source):\n",
    "    #Loading Issues\n",
    "    filename = '../data/crawl/issues_'+source.lower()+'.csv'\n",
    "    issue_df = pd.read_csv(filename, encoding=\"UTF-8\", low_memory=False, sep=';', index_col=['issue_id'])\n",
    "\n",
    "    #Loading Links\n",
    "    filename = '../data/crawl/links_'+source.lower()+'.csv'\n",
    "    link_df = pd.read_csv(filename, encoding=\"UTF-8\", low_memory=False, sep=';').drop_duplicates()\n",
    "    \n",
    "    return issue_df, link_df"
   ]
  },
  {
   "cell_type": "code",
   "execution_count": 8,
   "id": "f135e4c3",
   "metadata": {},
   "outputs": [],
   "source": [
    "def clean_issues(issue_df):\n",
    "    #Remove issues with empty titles\n",
    "    issue_df = issue_df[~issue_df['title'].fillna(' ').str.isspace()]\n",
    "    print(f'After filtering out issues with empty titles, {len(issue_df)} issues remain')\n",
    "    \n",
    "    return issue_df"
   ]
  },
  {
   "cell_type": "code",
   "execution_count": 9,
   "id": "f15fdbbe",
   "metadata": {},
   "outputs": [],
   "source": [
    "def clean_links(link_df):\n",
    "    add_linked_issues_to_df(link_df)\n",
    "    \n",
    "    # remove links with uncrawled and filtered issues\n",
    "    link_df = link_df[link_df[['issue_id_1', 'issue_id_2']].isin(issue_df.index.values).all(axis=1)]\n",
    "    print(f'Left with {len(link_df)} links after removing half-private links')\n",
    "    \n",
    "    # cleanup links\n",
    "    # only allow one linktype per issue-pair\n",
    "    link_df.drop_duplicates(subset=['name'], keep=False, inplace=True)\n",
    "    print(f'Left with {len(link_df)} links after removing issue-pairs with multiple links between them')\n",
    "\n",
    "    # in case the name is the otherway around, like issue-1_issue-2 and issue-2_issue-1\n",
    "    doublelinks = (link_df.issues.value_counts()>1).rename_axis('doubles').reset_index(name='valid')\n",
    "    valid_doubles = set(doublelinks[doublelinks['valid']==True]['doubles'])\n",
    "\n",
    "    for i in tqdm(valid_doubles):\n",
    "        if len(set(link_df[link_df['issues']==i]['linktype']))>1:\n",
    "            link_df = link_df[link_df.issues != i]\n",
    "    print(f'Left with {len(link_df)} links after removing issue-pairs with multiple link types between them')\n",
    "\n",
    "    #Multiple links complete remove\n",
    "    link_df.drop_duplicates(subset=['issues'], inplace=True)\n",
    "    print(f'Left with {len(link_df)} links after removing issue-pairs with multiple entries')\n",
    "\n",
    "    link_df.reset_index(inplace=True, drop=True)\n",
    "    \n",
    "    return link_df"
   ]
  },
  {
   "cell_type": "code",
   "execution_count": 10,
   "id": "b42827a1",
   "metadata": {
    "scrolled": true
   },
   "outputs": [
    {
     "name": "stdout",
     "output_type": "stream",
     "text": [
      "APACHE\n",
      "Loaded 970929 issues and 250890 links\n",
      "After filtering out issues with empty titles, 970928 issues remain\n"
     ]
    },
    {
     "name": "stderr",
     "output_type": "stream",
     "text": [
      "100%|██████████| 250890/250890 [10:28<00:00, 398.96it/s]\n"
     ]
    },
    {
     "name": "stdout",
     "output_type": "stream",
     "text": [
      "Left with 250437 links after removing half-private links\n",
      "Left with 246641 links after removing issue-pairs with multiple links between them\n"
     ]
    },
    {
     "name": "stderr",
     "output_type": "stream",
     "text": [
      "/usr/local/lib/python3.9/site-packages/pandas/util/_decorators.py:311: SettingWithCopyWarning: \n",
      "A value is trying to be set on a copy of a slice from a DataFrame\n",
      "\n",
      "See the caveats in the documentation: https://pandas.pydata.org/pandas-docs/stable/user_guide/indexing.html#returning-a-view-versus-a-copy\n",
      "  return func(*args, **kwargs)\n",
      "100%|██████████| 2145/2145 [01:42<00:00, 20.88it/s]\n"
     ]
    },
    {
     "name": "stdout",
     "output_type": "stream",
     "text": [
      "Left with 243295 links after removing issue-pairs with multiple link types between them\n",
      "Left with 242823 links after removing issue-pairs with multiple entries\n",
      "Cleaned 970928 issues and 242823 links\n",
      "----------------------------\n",
      "HYPERLEDGER\n",
      "Loaded 27914 issues and 16765 links\n",
      "After filtering out issues with empty titles, 27914 issues remain\n"
     ]
    },
    {
     "name": "stderr",
     "output_type": "stream",
     "text": [
      "100%|██████████| 16765/16765 [00:08<00:00, 1954.83it/s]\n"
     ]
    },
    {
     "name": "stdout",
     "output_type": "stream",
     "text": [
      "Left with 16652 links after removing half-private links\n",
      "Left with 16484 links after removing issue-pairs with multiple links between them\n"
     ]
    },
    {
     "name": "stderr",
     "output_type": "stream",
     "text": [
      "100%|██████████| 140/140 [00:00<00:00, 278.53it/s]\n"
     ]
    },
    {
     "name": "stdout",
     "output_type": "stream",
     "text": [
      "Left with 16246 links after removing issue-pairs with multiple link types between them\n",
      "Left with 16225 links after removing issue-pairs with multiple entries\n",
      "Cleaned 27914 issues and 16225 links\n",
      "----------------------------\n",
      "INTELDAOS\n",
      "Loaded 5557 issues and 3518 links\n",
      "After filtering out issues with empty titles, 5557 issues remain\n"
     ]
    },
    {
     "name": "stderr",
     "output_type": "stream",
     "text": [
      "100%|██████████| 3518/3518 [00:01<00:00, 2290.54it/s]\n"
     ]
    },
    {
     "name": "stdout",
     "output_type": "stream",
     "text": [
      "Left with 3271 links after removing half-private links\n",
      "Left with 3247 links after removing issue-pairs with multiple links between them\n"
     ]
    },
    {
     "name": "stderr",
     "output_type": "stream",
     "text": [
      "100%|██████████| 13/13 [00:00<00:00, 503.02it/s]\n"
     ]
    },
    {
     "name": "stdout",
     "output_type": "stream",
     "text": [
      "Left with 3223 links after removing issue-pairs with multiple link types between them\n",
      "Left with 3222 links after removing issue-pairs with multiple entries\n",
      "Cleaned 5557 issues and 3222 links\n",
      "----------------------------\n",
      "JFROG\n",
      "Loaded 14769 issues and 3289 links\n",
      "After filtering out issues with empty titles, 14769 issues remain\n"
     ]
    },
    {
     "name": "stderr",
     "output_type": "stream",
     "text": [
      "100%|██████████| 3289/3289 [00:01<00:00, 2350.71it/s]\n"
     ]
    },
    {
     "name": "stdout",
     "output_type": "stream",
     "text": [
      "Left with 3280 links after removing half-private links\n",
      "Left with 3250 links after removing issue-pairs with multiple links between them\n"
     ]
    },
    {
     "name": "stderr",
     "output_type": "stream",
     "text": [
      "100%|██████████| 24/24 [00:00<00:00, 812.05it/s]\n"
     ]
    },
    {
     "name": "stdout",
     "output_type": "stream",
     "text": [
      "Left with 3210 links after removing issue-pairs with multiple link types between them\n",
      "Left with 3206 links after removing issue-pairs with multiple entries\n",
      "Cleaned 14769 issues and 3206 links\n",
      "----------------------------\n",
      "JIRA\n",
      "Loaded 265343 issues and 108507 links\n",
      "After filtering out issues with empty titles, 265341 issues remain\n"
     ]
    },
    {
     "name": "stderr",
     "output_type": "stream",
     "text": [
      "100%|██████████| 108507/108507 [01:48<00:00, 1002.01it/s]\n"
     ]
    },
    {
     "name": "stdout",
     "output_type": "stream",
     "text": [
      "Left with 100795 links after removing half-private links\n",
      "Left with 99440 links after removing issue-pairs with multiple links between them\n"
     ]
    },
    {
     "name": "stderr",
     "output_type": "stream",
     "text": [
      "100%|██████████| 793/793 [00:14<00:00, 54.75it/s]\n"
     ]
    },
    {
     "name": "stdout",
     "output_type": "stream",
     "text": [
      "Left with 98390 links after removing issue-pairs with multiple link types between them\n",
      "Left with 98122 links after removing issue-pairs with multiple entries\n",
      "Cleaned 265341 issues and 98122 links\n",
      "----------------------------\n",
      "JIRAECOSYSTEM\n",
      "Loaded 40602 issues and 11872 links\n",
      "After filtering out issues with empty titles, 40601 issues remain\n"
     ]
    },
    {
     "name": "stderr",
     "output_type": "stream",
     "text": [
      "100%|██████████| 11872/11872 [00:05<00:00, 2241.04it/s]\n"
     ]
    },
    {
     "name": "stdout",
     "output_type": "stream",
     "text": [
      "Left with 11104 links after removing half-private links\n",
      "Left with 11022 links after removing issue-pairs with multiple links between them\n"
     ]
    },
    {
     "name": "stderr",
     "output_type": "stream",
     "text": [
      "100%|██████████| 63/63 [00:00<00:00, 413.00it/s]\n"
     ]
    },
    {
     "name": "stdout",
     "output_type": "stream",
     "text": [
      "Left with 10926 links after removing issue-pairs with multiple link types between them\n",
      "Left with 10911 links after removing issue-pairs with multiple entries\n",
      "Cleaned 40601 issues and 10911 links\n",
      "----------------------------\n",
      "MARIADB\n",
      "Loaded 31229 issues and 14950 links\n",
      "After filtering out issues with empty titles, 31229 issues remain\n"
     ]
    },
    {
     "name": "stderr",
     "output_type": "stream",
     "text": [
      "100%|██████████| 14950/14950 [00:06<00:00, 2157.27it/s]\n"
     ]
    },
    {
     "name": "stdout",
     "output_type": "stream",
     "text": [
      "Left with 14929 links after removing half-private links\n",
      "Left with 14773 links after removing issue-pairs with multiple links between them\n"
     ]
    },
    {
     "name": "stderr",
     "output_type": "stream",
     "text": [
      "100%|██████████| 98/98 [00:00<00:00, 376.97it/s]\n"
     ]
    },
    {
     "name": "stdout",
     "output_type": "stream",
     "text": [
      "Left with 14659 links after removing issue-pairs with multiple link types between them\n",
      "Left with 14618 links after removing issue-pairs with multiple entries\n",
      "Cleaned 31229 issues and 14618 links\n",
      "----------------------------\n",
      "MINDVILLE\n",
      "Loaded 2134 issues and 46 links\n",
      "After filtering out issues with empty titles, 2134 issues remain\n"
     ]
    },
    {
     "name": "stderr",
     "output_type": "stream",
     "text": [
      "100%|██████████| 46/46 [00:00<00:00, 2264.82it/s]\n"
     ]
    },
    {
     "name": "stdout",
     "output_type": "stream",
     "text": [
      "Left with 46 links after removing half-private links\n",
      "Left with 44 links after removing issue-pairs with multiple links between them\n"
     ]
    },
    {
     "name": "stderr",
     "output_type": "stream",
     "text": [
      "0it [00:00, ?it/s]\n"
     ]
    },
    {
     "name": "stdout",
     "output_type": "stream",
     "text": [
      "Left with 44 links after removing issue-pairs with multiple link types between them\n",
      "Left with 44 links after removing issue-pairs with multiple entries\n",
      "Cleaned 2134 issues and 44 links\n",
      "----------------------------\n",
      "MONGODB\n",
      "Loaded 90629 issues and 61877 links\n",
      "After filtering out issues with empty titles, 90628 issues remain\n"
     ]
    },
    {
     "name": "stderr",
     "output_type": "stream",
     "text": [
      "100%|██████████| 61877/61877 [00:42<00:00, 1442.50it/s]\n"
     ]
    },
    {
     "name": "stdout",
     "output_type": "stream",
     "text": [
      "Left with 38482 links after removing half-private links\n",
      "Left with 38017 links after removing issue-pairs with multiple links between them\n"
     ]
    },
    {
     "name": "stderr",
     "output_type": "stream",
     "text": [
      "100%|██████████| 254/254 [00:02<00:00, 111.09it/s]\n"
     ]
    },
    {
     "name": "stdout",
     "output_type": "stream",
     "text": [
      "Left with 37581 links after removing issue-pairs with multiple link types between them\n",
      "Left with 37545 links after removing issue-pairs with multiple entries\n",
      "Cleaned 90628 issues and 37545 links\n",
      "----------------------------\n",
      "QT\n",
      "Loaded 140237 issues and 37033 links\n",
      "After filtering out issues with empty titles, 140237 issues remain\n"
     ]
    },
    {
     "name": "stderr",
     "output_type": "stream",
     "text": [
      "100%|██████████| 37033/37033 [00:20<00:00, 1797.30it/s]\n"
     ]
    },
    {
     "name": "stdout",
     "output_type": "stream",
     "text": [
      "Left with 36331 links after removing half-private links\n",
      "Left with 36133 links after removing issue-pairs with multiple links between them\n"
     ]
    },
    {
     "name": "stderr",
     "output_type": "stream",
     "text": [
      "100%|██████████| 150/150 [00:01<00:00, 119.74it/s]\n"
     ]
    },
    {
     "name": "stdout",
     "output_type": "stream",
     "text": [
      "Left with 35877 links after removing issue-pairs with multiple link types between them\n",
      "Left with 35855 links after removing issue-pairs with multiple entries\n",
      "Cleaned 140237 issues and 35855 links\n",
      "----------------------------\n",
      "REDHAT\n",
      "Loaded 315797 issues and 113853 links\n",
      "After filtering out issues with empty titles, 315796 issues remain\n"
     ]
    },
    {
     "name": "stderr",
     "output_type": "stream",
     "text": [
      "100%|██████████| 113853/113853 [02:02<00:00, 926.99it/s]\n"
     ]
    },
    {
     "name": "stdout",
     "output_type": "stream",
     "text": [
      "Left with 109199 links after removing half-private links\n",
      "Left with 108018 links after removing issue-pairs with multiple links between them\n"
     ]
    },
    {
     "name": "stderr",
     "output_type": "stream",
     "text": [
      "100%|██████████| 1129/1129 [00:22<00:00, 49.28it/s]\n"
     ]
    },
    {
     "name": "stdout",
     "output_type": "stream",
     "text": [
      "Left with 106640 links after removing issue-pairs with multiple link types between them\n",
      "Left with 106200 links after removing issue-pairs with multiple entries\n",
      "Cleaned 315796 issues and 106200 links\n",
      "----------------------------\n",
      "SAKAI\n",
      "Loaded 49204 issues and 19515 links\n",
      "After filtering out issues with empty titles, 49204 issues remain\n"
     ]
    },
    {
     "name": "stderr",
     "output_type": "stream",
     "text": [
      "100%|██████████| 19515/19515 [00:16<00:00, 1169.11it/s]\n"
     ]
    },
    {
     "name": "stdout",
     "output_type": "stream",
     "text": [
      "Left with 19515 links after removing half-private links\n",
      "Left with 19279 links after removing issue-pairs with multiple links between them\n"
     ]
    },
    {
     "name": "stderr",
     "output_type": "stream",
     "text": [
      "100%|██████████| 135/135 [00:00<00:00, 207.99it/s]\n"
     ]
    },
    {
     "name": "stdout",
     "output_type": "stream",
     "text": [
      "Left with 19105 links after removing issue-pairs with multiple link types between them\n",
      "Left with 19057 links after removing issue-pairs with multiple entries\n",
      "Cleaned 49204 issues and 19057 links\n",
      "----------------------------\n",
      "SECONDLIFE\n",
      "Loaded 1865 issues and 673 links\n",
      "After filtering out issues with empty titles, 1865 issues remain\n"
     ]
    },
    {
     "name": "stderr",
     "output_type": "stream",
     "text": [
      "100%|██████████| 673/673 [00:00<00:00, 1716.45it/s]\n"
     ]
    },
    {
     "name": "stdout",
     "output_type": "stream",
     "text": [
      "Left with 673 links after removing half-private links\n",
      "Left with 661 links after removing issue-pairs with multiple links between them\n"
     ]
    },
    {
     "name": "stderr",
     "output_type": "stream",
     "text": [
      "100%|██████████| 17/17 [00:00<00:00, 837.93it/s]\n"
     ]
    },
    {
     "name": "stdout",
     "output_type": "stream",
     "text": [
      "Left with 633 links after removing issue-pairs with multiple link types between them\n",
      "Left with 630 links after removing issue-pairs with multiple entries\n",
      "Cleaned 1865 issues and 630 links\n",
      "----------------------------\n",
      "SONATYPE\n",
      "Loaded 77837 issues and 4719 links\n",
      "After filtering out issues with empty titles, 77835 issues remain\n"
     ]
    },
    {
     "name": "stderr",
     "output_type": "stream",
     "text": [
      "100%|██████████| 4719/4719 [00:02<00:00, 1835.19it/s]\n"
     ]
    },
    {
     "name": "stdout",
     "output_type": "stream",
     "text": [
      "Left with 4356 links after removing half-private links\n",
      "Left with 4322 links after removing issue-pairs with multiple links between them\n"
     ]
    },
    {
     "name": "stderr",
     "output_type": "stream",
     "text": [
      "100%|██████████| 17/17 [00:00<00:00, 528.95it/s]\n"
     ]
    },
    {
     "name": "stdout",
     "output_type": "stream",
     "text": [
      "Left with 4290 links after removing issue-pairs with multiple link types between them\n",
      "Left with 4289 links after removing issue-pairs with multiple entries\n",
      "Cleaned 77835 issues and 4289 links\n",
      "----------------------------\n",
      "SPRING\n",
      "Loaded 69100 issues and 14715 links\n",
      "After filtering out issues with empty titles, 69100 issues remain\n"
     ]
    },
    {
     "name": "stderr",
     "output_type": "stream",
     "text": [
      "100%|██████████| 14715/14715 [00:07<00:00, 1859.37it/s]\n"
     ]
    },
    {
     "name": "stdout",
     "output_type": "stream",
     "text": [
      "Left with 14615 links after removing half-private links\n",
      "Left with 14549 links after removing issue-pairs with multiple links between them\n"
     ]
    },
    {
     "name": "stderr",
     "output_type": "stream",
     "text": [
      "100%|██████████| 52/52 [00:00<00:00, 337.81it/s]\n"
     ]
    },
    {
     "name": "stdout",
     "output_type": "stream",
     "text": [
      "Left with 14477 links after removing issue-pairs with multiple link types between them\n",
      "Left with 14461 links after removing issue-pairs with multiple entries\n",
      "Cleaned 69100 issues and 14461 links\n",
      "----------------------------\n"
     ]
    }
   ],
   "source": [
    "for s in SOURCES:\n",
    "    print(s.upper())\n",
    "    issue_df, link_df = load_data(s)\n",
    "    print(f'Loaded {len(issue_df)} issues and {len(link_df)} links')\n",
    "    \n",
    "    issue_df = clean_issues(issue_df)\n",
    "    \n",
    "    link_df = clean_links(link_df)\n",
    "    \n",
    "    print(f'Cleaned {len(issue_df)} issues and {len(link_df)} links')\n",
    "    \n",
    "    link_df.to_csv('../data/crawl/clean_links_'+s.lower()+'.csv', encoding='utf-8', index=True, sep=';')\n",
    "    print(\"----------------------------\")"
   ]
  },
  {
   "cell_type": "markdown",
   "id": "handled-revelation",
   "metadata": {},
   "source": [
    "## Example of what exactly is cleaned"
   ]
  },
  {
   "cell_type": "code",
   "execution_count": 20,
   "id": "cee27da1",
   "metadata": {},
   "outputs": [
    {
     "name": "stdout",
     "output_type": "stream",
     "text": [
      "Loaded 970929 issues and 250890 links\n"
     ]
    }
   ],
   "source": [
    "source = 'Apache'\n",
    "issue_df, link_df = load_data(source)\n",
    "\n",
    "print(f'Loaded {len(issue_df)} issues and {len(link_df)} links')"
   ]
  },
  {
   "cell_type": "code",
   "execution_count": 21,
   "id": "7e1d8cbe",
   "metadata": {},
   "outputs": [
    {
     "name": "stderr",
     "output_type": "stream",
     "text": [
      "100%|██████████| 250890/250890 [05:49<00:00, 718.45it/s]\n"
     ]
    }
   ],
   "source": [
    "add_linked_issues_to_df(link_df)"
   ]
  },
  {
   "cell_type": "code",
   "execution_count": 22,
   "id": "ad02c452",
   "metadata": {},
   "outputs": [
    {
     "name": "stdout",
     "output_type": "stream",
     "text": [
      "Left with 250437 links after removing half-private links\n"
     ]
    }
   ],
   "source": [
    "# remove links with uncrawled and filtered issues\n",
    "cl_link_df = link_df[link_df[['issue_id_1', 'issue_id_2']].isin(issue_df.index.values).all(axis=1)]\n",
    "print(f'Left with {len(cl_link_df)} links after removing half-private links')"
   ]
  },
  {
   "cell_type": "code",
   "execution_count": 23,
   "id": "074136e2",
   "metadata": {},
   "outputs": [
    {
     "data": {
      "text/plain": [
       "IMPALA-4835_IMPALA-6594      3\n",
       "BEAM-1251_BEAM-4511          3\n",
       "IMPALA-4835_IMPALA-6592      3\n",
       "HAWQ-832_HAWQ-808            3\n",
       "IMPALA-4835_IMPALA-6587      3\n",
       "                            ..\n",
       "KUDU-430_KUDU-1127           1\n",
       "MESOS-3647_MESOS-3665        1\n",
       "ARTEMIS-2687_ARTEMIS-2704    1\n",
       "DATALAB-213_DATALAB-461      1\n",
       "LUCENE-1465_LUCENE-1542      1\n",
       "Name: name, Length: 248533, dtype: int64"
      ]
     },
     "execution_count": 23,
     "metadata": {},
     "output_type": "execute_result"
    }
   ],
   "source": [
    "cl_link_df.name.value_counts()"
   ]
  },
  {
   "cell_type": "code",
   "execution_count": 24,
   "id": "cfd93f50",
   "metadata": {},
   "outputs": [
    {
     "data": {
      "text/html": [
       "<div>\n",
       "<style scoped>\n",
       "    .dataframe tbody tr th:only-of-type {\n",
       "        vertical-align: middle;\n",
       "    }\n",
       "\n",
       "    .dataframe tbody tr th {\n",
       "        vertical-align: top;\n",
       "    }\n",
       "\n",
       "    .dataframe thead th {\n",
       "        text-align: right;\n",
       "    }\n",
       "</style>\n",
       "<table border=\"1\" class=\"dataframe\">\n",
       "  <thead>\n",
       "    <tr style=\"text-align: right;\">\n",
       "      <th></th>\n",
       "      <th>name</th>\n",
       "      <th>linktype</th>\n",
       "      <th>issue_id_1</th>\n",
       "      <th>issue_id_2</th>\n",
       "      <th>issues</th>\n",
       "    </tr>\n",
       "  </thead>\n",
       "  <tbody>\n",
       "    <tr>\n",
       "      <th>209312</th>\n",
       "      <td>IMPALA-4835_IMPALA-6594</td>\n",
       "      <td>Regression</td>\n",
       "      <td>IMPALA-4835</td>\n",
       "      <td>IMPALA-6594</td>\n",
       "      <td>['IMPALA-4835', 'IMPALA-6594']</td>\n",
       "    </tr>\n",
       "    <tr>\n",
       "      <th>209313</th>\n",
       "      <td>IMPALA-4835_IMPALA-6594</td>\n",
       "      <td>dependent</td>\n",
       "      <td>IMPALA-4835</td>\n",
       "      <td>IMPALA-6594</td>\n",
       "      <td>['IMPALA-4835', 'IMPALA-6594']</td>\n",
       "    </tr>\n",
       "    <tr>\n",
       "      <th>210015</th>\n",
       "      <td>IMPALA-4835_IMPALA-6594</td>\n",
       "      <td>Subtask</td>\n",
       "      <td>IMPALA-4835</td>\n",
       "      <td>IMPALA-6594</td>\n",
       "      <td>['IMPALA-4835', 'IMPALA-6594']</td>\n",
       "    </tr>\n",
       "  </tbody>\n",
       "</table>\n",
       "</div>"
      ],
      "text/plain": [
       "                           name    linktype   issue_id_1   issue_id_2  \\\n",
       "209312  IMPALA-4835_IMPALA-6594  Regression  IMPALA-4835  IMPALA-6594   \n",
       "209313  IMPALA-4835_IMPALA-6594   dependent  IMPALA-4835  IMPALA-6594   \n",
       "210015  IMPALA-4835_IMPALA-6594     Subtask  IMPALA-4835  IMPALA-6594   \n",
       "\n",
       "                                issues  \n",
       "209312  ['IMPALA-4835', 'IMPALA-6594']  \n",
       "209313  ['IMPALA-4835', 'IMPALA-6594']  \n",
       "210015  ['IMPALA-4835', 'IMPALA-6594']  "
      ]
     },
     "execution_count": 24,
     "metadata": {},
     "output_type": "execute_result"
    }
   ],
   "source": [
    "cl_link_df[cl_link_df['name']=='IMPALA-4835_IMPALA-6594']"
   ]
  },
  {
   "cell_type": "code",
   "execution_count": 25,
   "id": "7e32de42",
   "metadata": {},
   "outputs": [
    {
     "name": "stdout",
     "output_type": "stream",
     "text": [
      "Left with 246641 links after removing issue-pairs with multiple links between them\n"
     ]
    },
    {
     "name": "stderr",
     "output_type": "stream",
     "text": [
      "<ipython-input-25-ca4bd122a4fc>:1: SettingWithCopyWarning: \n",
      "A value is trying to be set on a copy of a slice from a DataFrame\n",
      "\n",
      "See the caveats in the documentation: https://pandas.pydata.org/pandas-docs/stable/user_guide/indexing.html#returning-a-view-versus-a-copy\n",
      "  cl_link_df.drop_duplicates(subset=['name'], keep=False, inplace=True)\n"
     ]
    }
   ],
   "source": [
    "cl_link_df.drop_duplicates(subset=['name'], keep=False, inplace=True)\n",
    "print(f'Left with {len(cl_link_df)} links after removing issue-pairs with multiple links between them')"
   ]
  },
  {
   "cell_type": "code",
   "execution_count": 34,
   "id": "31d94c5f",
   "metadata": {},
   "outputs": [],
   "source": [
    "# in case the name is the otherway around, like issue-1_issue-2 and issue-2_issue-1\n",
    "doublelinks = (cl_link_df.issues.value_counts()>1).rename_axis('doubles').reset_index(name='valid')\n",
    "valid_doubles = set(doublelinks[doublelinks['valid']==True]['doubles'])"
   ]
  },
  {
   "cell_type": "code",
   "execution_count": 35,
   "id": "94d96461",
   "metadata": {},
   "outputs": [
    {
     "data": {
      "text/plain": [
       "{\"['SVN-3401', 'SVN-3818']\",\n",
       " \"['LANG-1124', 'LANG-1237']\",\n",
       " \"['YARN-3587', 'YARN-3598']\",\n",
       " \"['HADOOP-12693', 'HADOOP-16509']\",\n",
       " \"['CASSANDRA-2848', 'CASSANDRA-5683']\",\n",
       " \"['HIVE-16489', 'HIVE-17237']\",\n",
       " \"['SVN-1327', 'SVN-4240']\",\n",
       " \"['SVN-3504', 'SVN-3709']\",\n",
       " \"['HIVE-2935', 'HIVE-3122']\",\n",
       " \"['HUDI-305', 'HUDI-907']\",\n",
       " \"['SVN-1284', 'SVN-3357']\",\n",
       " \"['DRILL-2459', 'DRILL-3216']\",\n",
       " \"['REEF-1117', 'REEF-989']\",\n",
       " \"['FLINK-8592', 'FLINK-9653']\",\n",
       " \"['SVN-1374', 'SVN-1718']\",\n",
       " \"['WHIRR-598', 'WHIRR-673']\",\n",
       " \"['INFRA-13078', 'INFRA-13227']\",\n",
       " \"['HDFS-7826', 'HDFS-7937']\",\n",
       " \"['SPARK-10346', 'SPARK-12235']\",\n",
       " \"['THRIFT-1366', 'THRIFT-1388']\",\n",
       " \"['SVN-2754', 'SVN-2821']\",\n",
       " \"['PHOENIX-3181', 'PHOENIX-3252']\",\n",
       " \"['THRIFT-3301', 'THRIFT-3954']\",\n",
       " \"['PIG-4266', 'PIG-4304']\",\n",
       " \"['THRIFT-487', 'THRIFT-488']\",\n",
       " \"['OFBIZ-7073', 'OFBIZ-7538']\",\n",
       " \"['SVN-1974', 'SVN-3629']\",\n",
       " \"['MSITE-443', 'MSITE-444']\",\n",
       " \"['NIFI-2014', 'NIFI-2024']\",\n",
       " \"['SLING-4575', 'SLING-5698']\",\n",
       " \"['SPARK-27216', 'SPARK-27530']\",\n",
       " \"['ACCUMULO-2935', 'ACCUMULO-2950']\",\n",
       " \"['TS-2523', 'TS-2524']\",\n",
       " \"['KAFKA-5141', 'KAFKA-8126']\",\n",
       " \"['OODT-693', 'OODT-982']\",\n",
       " \"['SVN-2842', 'SVN-695']\",\n",
       " \"['TUSCANY-2781', 'TUSCANY-2785']\",\n",
       " \"['MNG-4792', 'WAGON-304']\",\n",
       " \"['TIKA-1835', 'TIKA-1937']\",\n",
       " \"['SEDONA-17', 'SEDONA-28']\",\n",
       " \"['SVN-1880', 'SVN-1889']\",\n",
       " \"['SQOOP-3178', 'SQOOP-3182']\",\n",
       " \"['LOG4J2-407', 'LOG4J2-457']\",\n",
       " \"['CLIMATE-587', 'CLIMATE-592']\",\n",
       " \"['MESOS-1071', 'MESOS-1168']\",\n",
       " \"['OPENJPA-2307', 'OPENJPA-2309']\",\n",
       " \"['MESOS-2879', 'MESOS-3158']\",\n",
       " \"['NIFI-1095', 'NIFI-1097']\",\n",
       " \"['PDFBOX-2779', 'PDFBOX-3338']\",\n",
       " \"['GEODE-7255', 'GEODE-7264']\",\n",
       " \"['HDFS-13873', 'HDFS-14724']\",\n",
       " \"['HIVE-19305', 'HIVE-19495']\",\n",
       " \"['IGNITE-8168', 'IGNITE-8169']\",\n",
       " \"['HIVE-6707', 'HIVE-6714']\",\n",
       " \"['YARN-7344', 'YARN-7353']\",\n",
       " \"['HIVE-2573', 'HIVE-8218']\",\n",
       " \"['SPARK-10771', 'SPARK-5682']\",\n",
       " \"['SPARK-29816', 'SPARK-29818']\",\n",
       " \"['HADOOP-3676', 'HADOOP-6213']\",\n",
       " \"['HIVE-774', 'HIVE-778']\",\n",
       " \"['BIGTOP-1089', 'BIGTOP-1212']\",\n",
       " \"['SVN-662', 'SVN-737']\",\n",
       " \"['HADOOP-12855', 'HADOOP-12946']\",\n",
       " \"['CASSANDRA-8399', 'CASSANDRA-8513']\",\n",
       " \"['CB-6700', 'CB-6859']\",\n",
       " \"['HADOOP-15229', 'HADOOP-15364']\",\n",
       " \"['MESOS-2299', 'MESOS-2301']\",\n",
       " \"['HDFS-6830', 'HDFS-9334']\",\n",
       " \"['HDFS-4685', 'HDFS-5923']\",\n",
       " \"['SPARK-27726', 'SPARK-27728']\",\n",
       " \"['OFBIZ-2296', 'OFBIZ-3294']\",\n",
       " \"['BEAM-818', 'BEAM-885']\",\n",
       " \"['HIVE-21301', 'HIVE-21501']\",\n",
       " \"['HDDS-1620', 'HDDS-1638']\",\n",
       " \"['ACCUMULO-3297', 'ACCUMULO-97']\",\n",
       " \"['SPARK-2947', 'SPARK-3224']\",\n",
       " \"['HARMONY-3196', 'HARMONY-3198']\",\n",
       " \"['SAMZA-914', 'SAMZA-915']\",\n",
       " \"['USERGRID-536', 'USERGRID-541']\",\n",
       " \"['SVN-1037', 'SVN-1090']\",\n",
       " \"['SENTRY-333', 'SENTRY-360']\",\n",
       " \"['WICKET-3947', 'WICKET-4874']\",\n",
       " \"['SVN-1624', 'SVN-1625']\",\n",
       " \"['DERBY-1027', 'DERBY-683']\",\n",
       " \"['SENTRY-1771', 'SENTRY-872']\",\n",
       " \"['KUDU-2966', 'KUDU-3240']\",\n",
       " \"['MECLIPSE-156', 'MECLIPSE-636']\",\n",
       " \"['FINERACT-1073', 'FINERACT-1171']\",\n",
       " \"['SVN-3669', 'SVN-3756']\",\n",
       " \"['MSHARED-60', 'MWAR-133']\",\n",
       " \"['SVN-3699', 'SVN-3882']\",\n",
       " \"['DRILL-6439', 'DRILL-6559']\",\n",
       " \"['HDDS-1672', 'HDDS-1723']\",\n",
       " \"['LUCENE-1183', 'LUCENE-691']\",\n",
       " \"['JUDDI-725', 'JUDDI-726']\",\n",
       " \"['BEAM-2274', 'BEAM-9440']\",\n",
       " \"['MESOS-3773', 'MESOS-3798']\",\n",
       " \"['THRIFT-4707', 'THRIFT-5266']\",\n",
       " \"['HIVE-4064', 'HIVE-7238']\",\n",
       " \"['AMBARI-7204', 'AMBARI-8454']\",\n",
       " \"['HDFS-3493', 'HDFS-3586']\",\n",
       " \"['SOLR-13835', 'SOLR-13840']\",\n",
       " \"['SPARK-26587', 'SPARK-26961']\",\n",
       " \"['CASSANDRA-8215', 'CASSANDRA-8419']\",\n",
       " \"['KAFKA-2657', 'KAFKA-3112']\",\n",
       " \"['CASSANDRA-2915', 'CASSANDRA-2982']\",\n",
       " \"['EDGENT-32', 'EDGENT-35']\",\n",
       " \"['SOLR-11625', 'SOLR-11687']\",\n",
       " \"['NIFI-210', 'NIFI-684']\",\n",
       " \"['SVN-2028', 'SVN-2490']\",\n",
       " \"['HBASE-6073', 'HBASE-8774']\",\n",
       " \"['SOLR-162', 'SOLR-182']\",\n",
       " \"['SENTRY-1706', 'SENTRY-1710']\",\n",
       " \"['LOGCXX-322', 'LOGCXX-352']\",\n",
       " \"['MNG-5594', 'MNG-6302']\",\n",
       " \"['NUTCH-2752', 'NUTCH-2780']\",\n",
       " \"['SPARK-2530', 'SPARK-2711']\",\n",
       " \"['OFBIZ-4849', 'OFBIZ-5070']\",\n",
       " \"['MESOS-2831', 'MESOS-2857']\",\n",
       " \"['SVN-3015', 'SVN-3357']\",\n",
       " \"['TEZ-2592', 'TEZ-2594']\",\n",
       " \"['CASSANDRA-13059', 'CASSANDRA-13320']\",\n",
       " \"['DERBY-1491', 'DERBY-396']\",\n",
       " \"['HIVE-16844', 'HIVE-16908']\",\n",
       " \"['AMBARI-15537', 'AMBARI-9363']\",\n",
       " \"['HDFS-14042', 'HDFS-15556']\",\n",
       " \"['SPARK-5682', 'SPARK-6460']\",\n",
       " \"['YARN-3933', 'YARN-4089']\",\n",
       " \"['MYFACES-219', 'TOMAHAWK-328']\",\n",
       " \"['PIG-4266', 'PIG-4279']\",\n",
       " \"['KYLIN-850', 'KYLIN-873']\",\n",
       " \"['AMBARI-15388', 'AMBARI-15537']\",\n",
       " \"['FALCON-86', 'FALCON-88']\",\n",
       " \"['GEODE-3958', 'GEODE-3959']\",\n",
       " \"['OAK-8104', 'OAK-8607']\",\n",
       " \"['SVN-2263', 'SVN-3371']\",\n",
       " \"['HIVE-3403', 'HIVE-3784']\",\n",
       " \"['AMQCPP-587', 'ARTEMIS-306']\",\n",
       " \"['HADOOP-13363', 'HDFS-11010']\",\n",
       " \"['OAK-458', 'OAK-519']\",\n",
       " \"['FLUME-2937', 'FLUME-2941']\",\n",
       " \"['YARN-386', 'YARN-475']\",\n",
       " \"['DRILL-1859', 'DRILL-1995']\",\n",
       " \"['SVN-1339', 'SVN-1571']\",\n",
       " \"['PDFBOX-1669', 'PDFBOX-1720']\",\n",
       " \"['IMPALA-5789', 'IMPALA-6099']\",\n",
       " \"['AVRO-1148', 'AVRO-1166']\",\n",
       " \"['MSITE-298', 'MSITE-299']\",\n",
       " \"['MNG-5577', 'MNG-6898']\",\n",
       " \"['SPOT-169', 'SPOT-170']\",\n",
       " \"['HADOOP-13369', 'HADOOP-13419']\",\n",
       " \"['NETBEANS-3391', 'NETBEANS-5342']\",\n",
       " \"['YARN-662', 'YARN-698']\",\n",
       " \"['GROOVY-5291', 'GROOVY-5306']\",\n",
       " \"['TAJO-175', 'TAJO-177']\",\n",
       " \"['SOLR-12121', 'SOLR-12131']\",\n",
       " \"['KYLIN-2515', 'KYLIN-742']\",\n",
       " \"['SPARK-11551', 'SPARK-12199']\",\n",
       " \"['CASSANDRA-10666', 'CASSANDRA-10834']\",\n",
       " \"['TS-2899', 'TS-2922']\",\n",
       " \"['AIRFLOW-6003', 'AIRFLOW-6053']\",\n",
       " \"['KYLIN-3215', 'KYLIN-3228']\",\n",
       " \"['CAMEL-8789', 'CAMEL-9890']\",\n",
       " \"['YARN-5734', 'YARN-8686']\",\n",
       " \"['KAFKA-2512', 'KAFKA-3990']\",\n",
       " \"['HADOOP-6660', 'MAPREDUCE-1634']\",\n",
       " \"['MESOS-6117', 'MESOS-7358']\",\n",
       " \"['PIG-4266', 'PIG-4282']\",\n",
       " \"['SPARK-12809', 'SPARK-12823']\",\n",
       " \"['HADOOP-10557', 'HADOOP-10561']\",\n",
       " \"['SVN-2104', 'SVN-960']\",\n",
       " \"['BOOKKEEPER-25', 'BOOKKEEPER-308']\",\n",
       " \"['FLUME-2182', 'FLUME-2241']\",\n",
       " \"['AIRAVATA-2970', 'AIRAVATA-3290']\",\n",
       " \"['FLINK-16715', 'FLINK-16733']\",\n",
       " \"['UIMA-5904', 'UIMA-5905']\",\n",
       " \"['IO-380', 'IO-381']\",\n",
       " \"['AIRFLOW-4863', 'AIRFLOW-5241']\",\n",
       " \"['IGNITE-14128', 'IGNITE-7623']\",\n",
       " \"['HBASE-21667', 'HBASE-22025']\",\n",
       " \"['IGNITE-5795', 'IGNITE-9964']\",\n",
       " \"['SPARK-2429', 'SPARK-2966']\",\n",
       " \"['HADOOP-13786', 'HADOOP-14161']\",\n",
       " \"['YARN-948', 'YARN-969']\",\n",
       " \"['AIRAVATA-2091', 'AIRAVATA-2543']\",\n",
       " \"['PROTON-1511', 'QPID-7847']\",\n",
       " \"['OMID-167', 'OMID-198']\",\n",
       " \"['CONTINUUM-2056', 'CONTINUUM-2057']\",\n",
       " \"['SVN-1711', 'SVN-2028']\",\n",
       " \"['SVN-1709', 'SVN-2297']\",\n",
       " \"['HBASE-10856', 'HBASE-11372']\",\n",
       " \"['MAPREDUCE-6523', 'YARN-4283']\",\n",
       " \"['MESOS-1114', 'MESOS-1342']\",\n",
       " \"['SVN-2828', 'SVN-2848']\",\n",
       " \"['MCOMPILER-377', 'MCOMPILER-405']\",\n",
       " \"['HADOOP-9633', 'HDFS-4521']\",\n",
       " \"['SVN-4222', 'SVN-4224']\",\n",
       " \"['CASSANDRA-10712', 'CASSANDRA-10735']\",\n",
       " \"['SPARK-27726', 'SPARK-27727']\",\n",
       " \"['IMPALA-4268', 'IMPALA-7312']\",\n",
       " \"['THRIFT-1614', 'THRIFT-1838']\",\n",
       " \"['MESOS-5288', 'MESOS-970']\",\n",
       " \"['SPARK-1047', 'SPARK-2100']\",\n",
       " \"['AMQ-4740', 'AMQ-5155']\",\n",
       " \"['SVN-3530', 'SVN-3662']\",\n",
       " \"['HIVE-7074', 'HIVE-7121']\",\n",
       " \"['SVN-4269', 'SVN-4309']\",\n",
       " \"['DERBY-532', 'DERBY-6571']\",\n",
       " \"['SVN-4483', 'SVN-4492']\",\n",
       " \"['CB-4036', 'CB-4490']\",\n",
       " \"['SVN-3020', 'SVN-3027']\",\n",
       " \"['HIVE-3589', 'HIVE-4064']\",\n",
       " \"['CASSANDRA-4718', 'CASSANDRA-6995']\",\n",
       " \"['HDFS-4710', 'HDFS-5634']\",\n",
       " \"['HIVE-10304', 'HIVE-10511']\",\n",
       " \"['HADOOP-15218', 'HADOOP-15960']\",\n",
       " \"['YETUS-794', 'YETUS-798']\",\n",
       " \"['SVN-3832', 'SVN-3969']\",\n",
       " \"['WICKET-4382', 'WICKET-4874']\",\n",
       " \"['KAFKA-9216', 'KAFKA-9468']\",\n",
       " \"['HIVE-11812', 'HIVE-14657']\",\n",
       " \"['YARN-2877', 'YARN-2882']\",\n",
       " \"['MNG-3244', 'MNG-5951']\",\n",
       " \"['SENTRY-182', 'SENTRY-217']\",\n",
       " \"['MESOS-2449', 'MESOS-2634']\",\n",
       " \"['SOLR-8593', 'SOLR-8847']\",\n",
       " \"['KARAF-4327', 'KARAF-4503']\",\n",
       " \"['HDFS-14997', 'HDFS-15651']\",\n",
       " \"['HADOOP-10544', 'HADOOP-8989']\",\n",
       " \"['SPARK-10408', 'SPARK-2623']\",\n",
       " \"['MRELEASE-812', 'MRELEASE-875']\",\n",
       " \"['FLUME-745', 'FLUME-746']\",\n",
       " \"['MAPREDUCE-5221', 'MAPREDUCE-5295']\",\n",
       " \"['PIG-4266', 'PIG-4308']\",\n",
       " \"['SVN-2282', 'SVN-3150']\",\n",
       " \"['SVN-1880', 'SVN-1908']\",\n",
       " \"['PIG-4174', 'PIG-4206']\",\n",
       " \"['JCRVLT-163', 'JCRVLT-164']\",\n",
       " \"['VFS-119', 'VFS-614']\",\n",
       " \"['FLINK-2740', 'NIFI-823']\",\n",
       " \"['SOLR-13457', 'SOLR-13459']\",\n",
       " \"['DERBY-512', 'DERBY-5356']\",\n",
       " \"['ARROW-9924', 'ARROW-9983']\",\n",
       " \"['CONTINUUM-2089', 'MNG-4543']\",\n",
       " \"['KUDU-518', 'KUDU-607']\",\n",
       " \"['SPARK-29810', 'SPARK-29818']\",\n",
       " \"['SOLR-12088', 'SOLR-12146']\",\n",
       " \"['HADOOP-10510', 'HADOOP-10866']\",\n",
       " \"['CLIMATE-587', 'CLIMATE-590']\",\n",
       " \"['FLUME-328', 'FLUME-349']\",\n",
       " \"['SVN-4169', 'SVN-4305']\",\n",
       " \"['MAPREDUCE-5672', 'YARN-1130']\",\n",
       " \"['HARMONY-2298', 'HARMONY-5703']\",\n",
       " \"['JAMES-3248', 'JAMES-3250']\",\n",
       " \"['HDFS-5215', 'HDFS-8045']\",\n",
       " \"['BEAM-131', 'BEAM-244']\",\n",
       " \"['GROOVY-1182', 'GROOVY-3797']\",\n",
       " \"['MCHECKSTYLE-287', 'MCHECKSTYLE-294']\",\n",
       " \"['TS-3661', 'TS-3665']\",\n",
       " \"['HIVE-13925', 'HIVE-13984']\",\n",
       " \"['FLINK-10493', 'FLINK-11330']\",\n",
       " \"['DRILL-1193', 'DRILL-1255']\",\n",
       " \"['MAPREDUCE-6346', 'MAPREDUCE-6459']\",\n",
       " \"['FELIX-2110', 'FELIX-280']\",\n",
       " \"['HIVE-4064', 'HIVE-5956']\",\n",
       " \"['HADOOP-10888', 'INFRA-8097']\",\n",
       " \"['IGNITE-801', 'IGNITE-803']\",\n",
       " \"['SVN-1040', 'SVN-3357']\",\n",
       " \"['SVN-1802', 'SVN-3357']\",\n",
       " \"['HBASE-14579', 'HBASE-14700']\",\n",
       " \"['SOLR-7555', 'SOLR-7556']\",\n",
       " \"['SPARK-12299', 'SPARK-6270']\",\n",
       " \"['AVRO-2112', 'AVRO-2161']\",\n",
       " \"['MESOS-1071', 'MESOS-1170']\",\n",
       " \"['JUDDI-241', 'JUDDI-906']\",\n",
       " \"['KYLIN-211', 'KYLIN-459']\",\n",
       " \"['SVN-1426', 'SVN-1428']\",\n",
       " \"['PARQUET-1698', 'PARQUET-1820']\",\n",
       " \"['UNOMI-78', 'UNOMI-79']\",\n",
       " \"['YARN-455', 'YARN-903']\",\n",
       " \"['WW-2900', 'WW-2930']\",\n",
       " \"['MESOS-1071', 'MESOS-1173']\",\n",
       " \"['SVN-2424', 'SVN-3357']\",\n",
       " \"['GIRAPH-200', 'GIRAPH-211']\",\n",
       " \"['MESOS-1305', 'MESOS-1306']\",\n",
       " \"['SPARK-23929', 'SPARK-24324']\",\n",
       " \"['PIG-4266', 'PIG-4277']\",\n",
       " \"['SPARK-19941', 'SPARK-20628']\",\n",
       " \"['HDDS-665', 'HDDS-666']\",\n",
       " \"['WICKET-3404', 'WICKET-6666']\",\n",
       " \"['WICKET-5432', 'WICKET-5959']\",\n",
       " \"['IGNITE-6347', 'IGNITE-6356']\",\n",
       " \"['SOLR-14896', 'SOLR-14898']\",\n",
       " \"['ARROW-10816', 'ARROW-11521']\",\n",
       " \"['HIVE-3652', 'HIVE-3784']\",\n",
       " \"['SVN-2282', 'SVN-3162']\",\n",
       " \"['ZOOKEEPER-2163', 'ZOOKEEPER-723']\",\n",
       " \"['HADOOP-9361', 'HADOOP-9597']\",\n",
       " \"['SVN-1974', 'SVN-2917']\",\n",
       " \"['TEZ-1838', 'TEZ-2229']\",\n",
       " \"['ZOOKEEPER-2094', 'ZOOKEEPER-2120']\",\n",
       " \"['IMPALA-4863', 'IMPALA-5311']\",\n",
       " \"['CAMEL-1537', 'CAMEL-2565']\",\n",
       " \"['HADOOP-13369', 'HADOOP-13417']\",\n",
       " \"['SVN-3630', 'SVN-3634']\",\n",
       " \"['HBASE-2856', 'HBASE-4838']\",\n",
       " \"['IGNITE-8504', 'IGNITE-8933']\",\n",
       " \"['CAMEL-10141', 'CAMEL-10895']\",\n",
       " \"['COMPRESS-233', 'COMPRESS-234']\",\n",
       " \"['SVN-1294', 'SVN-3053']\",\n",
       " \"['CASSANDRA-11500', 'CASSANDRA-13127']\",\n",
       " \"['INFRA-17245', 'INFRA-18209']\",\n",
       " \"['SPARK-11319', 'SPARK-13740']\",\n",
       " \"['ZEPPELIN-1793', 'ZEPPELIN-2363']\",\n",
       " \"['SVN-1677', 'SVN-1679']\",\n",
       " \"['IOTDB-984', 'IOTDB-990']\",\n",
       " \"['WW-558', 'WW-598']\",\n",
       " \"['SPARK-12566', 'SPARK-9838']\",\n",
       " \"['LENS-118', 'LENS-25']\",\n",
       " \"['SVN-1711', 'SVN-2556']\",\n",
       " \"['SVN-653', 'SVN-654']\",\n",
       " \"['HIVE-4225', 'HIVE-4911']\",\n",
       " \"['SOLR-10321', 'SOLR-10993']\",\n",
       " \"['SAMZA-107', 'SAMZA-32']\",\n",
       " \"['OAK-2713', 'OAK-2967']\",\n",
       " \"['SPARK-4349', 'SPARK-4737']\",\n",
       " \"['SLING-5742', 'SLING-5872']\",\n",
       " \"['SVN-510', 'SVN-511']\",\n",
       " \"['KAFKA-1846', 'KAFKA-1864']\",\n",
       " \"['SPARK-13068', 'SPARK-7376']\",\n",
       " \"['IMPALA-4923', 'IMPALA-5302']\",\n",
       " \"['DRILL-2362', 'DRILL-2861']\",\n",
       " \"['CTAKES-246', 'CTAKES-251']\",\n",
       " \"['SVN-2982', 'SVN-3001']\",\n",
       " \"['DERBY-2947', 'DERBY-5599']\",\n",
       " \"['KAFKA-8063', 'KAFKA-8126']\",\n",
       " \"['MESOS-336', 'MESOS-700']\",\n",
       " \"['FLINK-14235', 'FLINK-14245']\",\n",
       " \"['MESOS-1225', 'MESOS-2728']\",\n",
       " \"['MESOS-1979', 'MESOS-350']\",\n",
       " \"['SVN-1624', 'SVN-1627']\",\n",
       " \"['NIFI-1318', 'NIFI-1384']\",\n",
       " \"['IGNITE-12543', 'IGNITE-12827']\",\n",
       " \"['SVN-1219', 'SVN-957']\",\n",
       " \"['HBASE-2312', 'HDFS-1554']\",\n",
       " \"['MINIFICPP-137', 'MINIFICPP-159']\",\n",
       " \"['CAMEL-9444', 'CAMEL-9573']\",\n",
       " \"['PIG-1914', 'PIG-2641']\",\n",
       " \"['TS-3667', 'TS-3788']\",\n",
       " \"['HADOOP-13518', 'HADOOP-13830']\",\n",
       " \"['PIG-4266', 'PIG-4278']\",\n",
       " \"['HIVE-1340', 'HIVE-1341']\",\n",
       " \"['SVN-1880', 'SVN-1886']\",\n",
       " \"['OFBIZ-10917', 'OFBIZ-7963']\",\n",
       " \"['ISIS-788', 'ISIS-794']\",\n",
       " \"['CB-10961', 'CB-11019']\",\n",
       " \"['HIVE-3995', 'HIVE-3999']\",\n",
       " \"['AMBARI-20477', 'AMBARI-20482']\",\n",
       " \"['SVN-1002', 'SVN-890']\",\n",
       " \"['FLINK-10629', 'FLINK-10833']\",\n",
       " \"['HADOOP-9649', 'YARN-825']\",\n",
       " \"['SVN-1167', 'SVN-2381']\",\n",
       " \"['PIG-4243', 'PIG-4266']\",\n",
       " \"['HIVE-19477', 'HIVE-20212']\",\n",
       " \"['IMAP-36', 'IMAP-42']\",\n",
       " \"['SPARK-4324', 'SPARK-4328']\",\n",
       " \"['CAMEL-1276', 'CAMEL-1537']\",\n",
       " \"['JSPWIKI-159', 'JSPWIKI-850']\",\n",
       " \"['TRINIDAD-100', 'TRINIDAD-504']\",\n",
       " \"['SVN-611', 'SVN-845']\",\n",
       " \"['DERBY-6672', 'DERBY-6677']\",\n",
       " \"['SOLR-9289', 'SOLR-9308']\",\n",
       " \"['HIVE-12831', 'HIVE-12832']\",\n",
       " \"['GROOVY-7632', 'GROOVY-7662']\",\n",
       " \"['XMLBEANS-497', 'XMLBEANS-499']\",\n",
       " \"['HADOOP-3426', 'HDFS-95']\",\n",
       " \"['SOLR-219', 'SOLR-2438']\",\n",
       " \"['SVN-2345', 'SVN-3357']\",\n",
       " \"['KAFKA-1150', 'KAFKA-1430']\",\n",
       " \"['SVN-1003', 'SVN-1248']\",\n",
       " \"['OAK-164', 'OAK-165']\",\n",
       " \"['OAK-6081', 'OAK-6117']\",\n",
       " \"['SVN-4411', 'SVN-4519']\",\n",
       " \"['SVN-2282', 'SVN-3139']\",\n",
       " \"['YARN-4233', 'YARN-4705']\",\n",
       " \"['PHOENIX-3181', 'PHOENIX-3253']\",\n",
       " \"['LOG4J2-407', 'LOG4J2-442']\",\n",
       " \"['SOLR-3755', 'SOLR-3860']\",\n",
       " \"['LOG4J2-1099', 'LOG4J2-801']\",\n",
       " \"['NUTCH-1480', 'NUTCH-945']\",\n",
       " \"['MESOS-2330', 'MESOS-527']\",\n",
       " \"['JS2-1336', 'JS2-1357']\",\n",
       " \"['INFRA-10114', 'INFRA-10121']\",\n",
       " \"['SOLR-9602', 'SOLR-9603']\",\n",
       " \"['BIGTOP-1470', 'MAHOUT-1329']\",\n",
       " \"['SOLR-4057', 'SOLR-4136']\",\n",
       " \"['FLINK-18192', 'FLINK-18546']\",\n",
       " \"['SPARK-16488', 'SPARK-16489']\",\n",
       " \"['PIG-4266', 'PIG-4283']\",\n",
       " \"['OODT-693', 'OODT-981']\",\n",
       " \"['HARMONY-1789', 'HARMONY-2217']\",\n",
       " \"['MESOS-9309', 'MESOS-9310']\",\n",
       " \"['JUDDI-785', 'OPENJPA-1817']\",\n",
       " \"['SVN-1002', 'SVN-1974']\",\n",
       " \"['HBASE-12601', 'HBASE-13386']\",\n",
       " \"['ARTEMIS-1055', 'ARTEMIS-925']\",\n",
       " \"['HDFS-5311', 'HDFS-5312']\",\n",
       " \"['MNG-6216', 'MNG-6281']\",\n",
       " \"['YARN-117', 'YARN-804']\",\n",
       " \"['HADOOP-8633', 'HADOOP-8635']\",\n",
       " \"['MRM-1005', 'MRM-902']\",\n",
       " \"['BEAM-4349', 'BEAM-4350']\",\n",
       " \"['DBCP-201', 'POOL-106']\",\n",
       " \"['CAMEL-10141', 'CAMEL-10863']\",\n",
       " \"['HDDS-121', 'HDDS-122']\",\n",
       " \"['KAFKA-5006', 'KAFKA-5300']\",\n",
       " \"['SVN-1060', 'SVN-872']\",\n",
       " \"['SPARK-29817', 'SPARK-29818']\",\n",
       " \"['HADOOP-10147', 'HDFS-5678']\",\n",
       " \"['AMBARI-11252', 'AMBARI-11670']\",\n",
       " \"['HADOOP-7347', 'HDFS-2181']\",\n",
       " \"['CASSANDRA-140', 'CASSANDRA-154']\",\n",
       " \"['TAMAYA-262', 'TAMAYA-263']\",\n",
       " \"['PHOENIX-3181', 'PHOENIX-3249']\",\n",
       " \"['INFRA-8853', 'INFRA-8857']\",\n",
       " \"['CB-9628', 'CB-9630']\",\n",
       " \"['SVN-2282', 'SVN-3161']\",\n",
       " \"['HBASE-17678', 'HBASE-18410']\",\n",
       " \"['HIVE-889', 'HIVE-890']\",\n",
       " \"['CASSANDRA-9396', 'CASSANDRA-9407']\",\n",
       " \"['HBASE-2692', 'HBASE-2701']\",\n",
       " \"['SVN-1962', 'SVN-2892']\",\n",
       " \"['DRILL-1125', 'DRILL-1447']\",\n",
       " \"['LOG4J2-1116', 'LOG4J2-1270']\",\n",
       " \"['JCR-3211', 'JCR-3957']\",\n",
       " \"['SVN-2539', 'SVN-525']\",\n",
       " \"['MESOS-1071', 'MESOS-1175']\",\n",
       " \"['SPARK-27726', 'SPARK-27731']\",\n",
       " \"['YARN-5673', 'YARN-7506']\",\n",
       " \"['HADOOP-11708', 'HDFS-7911']\",\n",
       " \"['YARN-662', 'YARN-704']\",\n",
       " \"['IMPALA-3381', 'IMPALA-4018']\",\n",
       " \"['YARN-9886', 'YARN-9991']\",\n",
       " \"['FLINK-6078', 'FLINK-6192']\",\n",
       " \"['SVN-2748', 'SVN-2749']\",\n",
       " \"['AURORA-29', 'AURORA-559']\",\n",
       " \"['OAK-2801', 'OAK-2967']\",\n",
       " \"['SVN-3589', 'SVN-3818']\",\n",
       " \"['SVN-2822', 'SVN-756']\",\n",
       " \"['PIG-4266', 'PIG-4301']\",\n",
       " \"['ZEPPELIN-3242', 'ZEPPELIN-3270']\",\n",
       " \"['THRIFT-2205', 'THRIFT-2308']\",\n",
       " \"['PDFBOX-903', 'PDFBOX-922']\",\n",
       " \"['AMQ-4234', 'AMQ-4235']\",\n",
       " \"['SENTRY-2230', 'SENTRY-2273']\",\n",
       " \"['HADOOP-16233', 'HADOOP-16234']\",\n",
       " \"['PIG-4266', 'PIG-4284']\",\n",
       " \"['SPARK-17822', 'SPARK-17823']\",\n",
       " \"['HIVE-74', 'HIVE-826']\",\n",
       " \"['HADOOP-15555', 'HADOOP-15556']\",\n",
       " \"['IGNITE-8915', 'IGNITE-9048']\",\n",
       " \"['KUDU-1373', 'KUDU-2797']\",\n",
       " \"['SPARK-14804', 'SPARK-17975']\",\n",
       " \"['CASSANDRA-8878', 'CASSANDRA-9810']\",\n",
       " \"['HARMONY-1635', 'HARMONY-1826']\",\n",
       " \"['HIVE-1750', 'HIVE-1769']\",\n",
       " \"['DL-19', 'DL-204']\",\n",
       " \"['HADOOP-10578', 'HADOOP-8989']\",\n",
       " \"['GROOVY-2503', 'GROOVY-2635']\",\n",
       " \"['SVN-3152', 'SVN-3210']\",\n",
       " \"['HADOOP-13786', 'HADOOP-14971']\",\n",
       " \"['SPARK-12177', 'SPARK-13252']\",\n",
       " \"['SPARK-10027', 'SPARK-10110']\",\n",
       " \"['CAMEL-10141', 'CAMEL-10864']\",\n",
       " \"['HDDS-4690', 'HDDS-4691']\",\n",
       " \"['SVN-1426', 'SVN-1469']\",\n",
       " \"['CLIMATE-591', 'CLIMATE-592']\",\n",
       " \"['SVN-2282', 'SVN-3152']\",\n",
       " \"['CASSANDRA-9303', 'CASSANDRA-9494']\",\n",
       " \"['PHOENIX-3181', 'PHOENIX-3251']\",\n",
       " \"['TIKA-1642', 'TIKA-1645']\",\n",
       " \"['AVRO-1565', 'AVRO-1663']\",\n",
       " \"['TIKA-1723', 'TIKA-856']\",\n",
       " \"['MAPREDUCE-1082', 'MAPREDUCE-1110']\",\n",
       " \"['TUSCANY-2782', 'TUSCANY-2785']\",\n",
       " \"['SVN-591', 'SVN-840']\",\n",
       " \"['MARMOTTA-321', 'MARMOTTA-480']\",\n",
       " \"['NETBEANS-3903', 'NETBEANS-3917']\",\n",
       " \"['HADOOP-9902', 'HDFS-5087']\",\n",
       " \"['YUNIKORN-24', 'YUNIKORN-365']\",\n",
       " \"['LUCENE-3920', 'LUCENE-4955']\",\n",
       " \"['DISPATCH-1753', 'DISPATCH-1932']\",\n",
       " \"['MESOS-2829', 'MESOS-2857']\",\n",
       " \"['SPARK-10600', 'SPARK-4226']\",\n",
       " \"['HBASE-8424', 'HBASE-8427']\",\n",
       " \"['OOZIE-1378', 'OOZIE-1573']\",\n",
       " \"['SPARK-18123', 'SPARK-19308']\",\n",
       " \"['SPARK-29813', 'SPARK-29818']\",\n",
       " \"['DRILL-3205', 'DRILL-3224']\",\n",
       " \"['HDFS-4163', 'YARN-207']\",\n",
       " \"['HDFS-5616', 'HDFS-5827']\",\n",
       " \"['SVN-2539', 'SVN-908']\",\n",
       " \"['SVN-3357', 'SVN-3586']\",\n",
       " \"['HAWQ-288', 'HAWQ-289']\",\n",
       " \"['HIVE-5775', 'HIVE-9132']\",\n",
       " \"['HADOOP-16168', 'HDFS-14118']\",\n",
       " \"['TEZ-4130', 'TEZ-4271']\",\n",
       " \"['MESOS-6400', 'MESOS-6419']\",\n",
       " \"['TIKA-3164', 'TIKA-3277']\",\n",
       " \"['CASSANDRA-3114', 'CASSANDRA-3186']\",\n",
       " \"['MESOS-9123', 'MESOS-9949']\",\n",
       " \"['SUBMARINE-214', 'SUBMARINE-258']\",\n",
       " \"['THRIFT-2004', 'THRIFT-3176']\",\n",
       " \"['BOOKKEEPER-494', 'BOOKKEEPER-647']\",\n",
       " \"['SVN-2830', 'SVN-2831']\",\n",
       " \"['AMBARI-12857', 'AMBARI-12986']\",\n",
       " \"['SVN-1962', 'SVN-3357']\",\n",
       " \"['OAK-8918', 'OAK-8966']\",\n",
       " \"['PIG-4266', 'PIG-4777']\",\n",
       " \"['HIVE-15160', 'HIVE-16733']\",\n",
       " \"['SPARK-26199', 'SPARK-31517']\",\n",
       " \"['LOG4J2-407', 'LOG4J2-438']\",\n",
       " \"['YARN-7270', 'YARN-7314']\",\n",
       " \"['SPARK-7885', 'SPARK-7936']\",\n",
       " \"['SOLR-14896', 'SOLR-14897']\",\n",
       " \"['SPARK-13189', 'SPARK-13193']\",\n",
       " \"['OOZIE-2317', 'OOZIE-2533']\",\n",
       " \"['HBASE-10086', 'HBASE-8048']\",\n",
       " \"['HIVE-19217', 'HIVE-19243']\",\n",
       " \"['DRILL-1921', 'DRILL-2115']\",\n",
       " \"['BEAM-4948', 'BEAM-5559']\",\n",
       " \"['SVN-579', 'SVN-668']\",\n",
       " \"['YARN-3044', 'YARN-3390']\",\n",
       " \"['PIG-4266', 'PIG-4302']\",\n",
       " \"['SVN-2282', 'SVN-563']\",\n",
       " \"['FLINK-10966', 'FLINK-8871']\",\n",
       " \"['SVN-850', 'SVN-878']\",\n",
       " \"['SPARK-9742', 'SPARK-9760']\",\n",
       " \"['SPARK-28886', 'SPARK-28953']\",\n",
       " \"['FLINK-13527', 'FLINK-13593']\",\n",
       " \"['KARAF-2765', 'KARAF-2816']\",\n",
       " \"['HIVE-20955', 'HIVE-21026']\",\n",
       " \"['CLIMATE-590', 'CLIMATE-592']\",\n",
       " \"['HIVE-5757', 'HIVE-5920']\",\n",
       " \"['GIRAPH-747', 'GIRAPH-828']\",\n",
       " \"['HBASE-2428', 'HBASE-2479']\",\n",
       " \"['ARROW-5993', 'ARROW-6060']\",\n",
       " \"['BIGTOP-1480', 'BIGTOP-1543']\",\n",
       " \"['GEODE-8669', 'GEODE-8907']\",\n",
       " \"['SENTRY-1593', 'SENTRY-1681']\",\n",
       " \"['HBASE-10227', 'HBASE-10243']\",\n",
       " \"['KYLIN-168', 'KYLIN-371']\",\n",
       " \"['KNOX-1484', 'KNOX-1515']\",\n",
       " \"['OAK-161', 'OAK-164']\",\n",
       " \"['FLINK-17015', 'FLINK-17610']\",\n",
       " \"['CXF-7160', 'CXF-7179']\",\n",
       " \"['GROOVY-1628', 'GROOVY-3088']\",\n",
       " \"['IMPALA-2990', 'IMPALA-4063']\",\n",
       " \"['IGNITE-7604', 'IGNITE-7973']\",\n",
       " \"['MYFACES-1377', 'TOMAHAWK-467']\",\n",
       " \"['DRILL-7324', 'DRILL-7325']\",\n",
       " \"['SPARK-29809', 'SPARK-29818']\",\n",
       " \"['HDFS-4710', 'HDFS-4922']\",\n",
       " \"['SVN-3525', 'SVN-3532']\",\n",
       " \"['SVN-3457', 'SVN-4092']\",\n",
       " \"['HIVE-16738', 'HIVE-16886']\",\n",
       " \"['SPARK-682', 'SPARK-695']\",\n",
       " \"['MYRIAD-13', 'MYRIAD-16']\",\n",
       " \"['DIRMINA-1021', 'SSHD-595']\",\n",
       " \"['AVRO-1188', 'AVRO-983']\",\n",
       " \"['ISIS-800', 'ISIS-807']\",\n",
       " \"['SVN-1880', 'SVN-1881']\",\n",
       " \"['MATH-1515', 'MATH-1516']\",\n",
       " \"['SPARK-29924', 'SPARK-31704']\",\n",
       " \"['TAJO-530', 'TAJO-594']\",\n",
       " \"['LOG4J2-457', 'LOG4J2-489']\",\n",
       " \"['PHOENIX-5945', 'PHOENIX-6125']\",\n",
       " \"['SVN-2282', 'SVN-3145']\",\n",
       " \"['SPARK-11012', 'SPARK-11148']\",\n",
       " \"['KARAF-5163', 'KARAF-5167']\",\n",
       " \"['YARN-3469', 'YARN-3795']\",\n",
       " \"['AMBARI-23452', 'AMBARI-23453']\",\n",
       " \"['SUREFIRE-1631', 'SUREFIRE-1717']\",\n",
       " \"['SVN-573', 'SVN-648']\",\n",
       " \"['CASSANDRA-10348', 'CASSANDRA-9961']\",\n",
       " \"['PIG-4266', 'PIG-4294']\",\n",
       " \"['CB-5495', 'CB-5568']\",\n",
       " \"['SVN-3318', 'SVN-3334']\",\n",
       " \"['SOLR-5606', 'SOLR-8029']\",\n",
       " \"['MAPREDUCE-5830', 'MAPREDUCE-5857']\",\n",
       " \"['SVN-4274', 'SVN-4296']\",\n",
       " \"['SVN-3294', 'SVN-3361']\",\n",
       " \"['SVN-3357', 'SVN-756']\",\n",
       " \"['MRM-1056', 'MRM-890']\",\n",
       " \"['SQOOP-846', 'SQOOP-849']\",\n",
       " \"['SVN-2779', 'SVN-3685']\",\n",
       " \"['MESOS-2952', 'MESOS-8142']\",\n",
       " \"['DERBY-5232', 'DERBY-5995']\",\n",
       " \"['HBASE-1017', 'HBASE-1422']\",\n",
       " \"['AMQ-5016', 'AMQ-5507']\",\n",
       " \"['KAFKA-5070', 'KAFKA-5167']\",\n",
       " \"['SOLR-8674', 'SOLR-9225']\",\n",
       " \"['HADOOP-13614', 'HADOOP-13755']\",\n",
       " \"['SVN-2282', 'SVN-3163']\",\n",
       " \"['QPID-3521', 'QPID-6677']\",\n",
       " \"['TOMAHAWK-1075', 'TOMAHAWK-689']\",\n",
       " \"['SVN-2144', 'SVN-2148']\",\n",
       " \"['SLING-5731', 'SLING-6668']\",\n",
       " \"['HDFS-2303', 'HDFS-2962']\",\n",
       " \"['HIVE-5020', 'HIVE-7282']\",\n",
       " \"['HBASE-1353', 'HBASE-1710']\",\n",
       " \"['HADOOP-7254', 'HDFS-1874']\",\n",
       " \"['TAMAYA-72', 'TAMAYA-75']\",\n",
       " \"['SPARK-3951', 'SPARK-3962']\",\n",
       " \"['DRILL-5694', 'DRILL-5740']\",\n",
       " \"['SVN-1530', 'SVN-1718']\",\n",
       " \"['HADOOP-6421', 'HDFS-245']\",\n",
       " \"['HBASE-10070', 'HBASE-10703']\",\n",
       " \"['CB-7158', 'CB-7277']\",\n",
       " \"['KYLIN-1351', 'KYLIN-745']\",\n",
       " \"['CAMEL-4513', 'CAMEL-5156']\",\n",
       " \"['AIRFLOW-1014', 'AIRFLOW-1017']\",\n",
       " \"['DERBY-2409', 'DERBY-5969']\",\n",
       " \"['KYLIN-3760', 'KYLIN-3820']\",\n",
       " \"['HBASE-15199', 'HBASE-17878']\",\n",
       " \"['DERBY-1490', 'DERBY-396']\",\n",
       " \"['XBEAN-276', 'XBEAN-286']\",\n",
       " \"['HADOOP-10557', 'HADOOP-9705']\",\n",
       " \"['SVN-1356', 'SVN-1455']\",\n",
       " \"['HADOOP-11505', 'HADOOP-11665']\",\n",
       " \"['MPLUGIN-303', 'MPLUGIN-304']\",\n",
       " \"['GROOVY-5808', 'GROOVY-6309']\",\n",
       " \"['KYLIN-2094', 'KYLIN-2104']\",\n",
       " \"['OAK-161', 'OAK-165']\",\n",
       " \"['ARTEMIS-214', 'ARTEMIS-427']\",\n",
       " \"['SVN-3628', 'SVN-913']\",\n",
       " \"['KNOX-552', 'KNOX-558']\",\n",
       " \"['MNG-6756', 'MNGSITE-378']\",\n",
       " \"['TAJO-747', 'TAJO-748']\",\n",
       " \"['CASSANDRA-13339', 'CASSANDRA-13619']\",\n",
       " \"['DERBY-3381', 'DERBY-3625']\",\n",
       " \"['KAFKA-5141', 'KAFKA-8063']\",\n",
       " \"['HIVE-1361', 'HIVE-1652']\",\n",
       " \"['SOLR-1045', 'SOLR-1301']\",\n",
       " \"['GORA-279', 'GORA-409']\",\n",
       " \"['HADOOP-11525', 'HADOOP-9565']\",\n",
       " \"['NUTCH-2292', 'NUTCH-2293']\",\n",
       " \"['HIVE-1126', 'HIVE-1368']\",\n",
       " \"['LUCENE-8004', 'LUCENE-8264']\",\n",
       " \"['MNG-6038', 'MNG-6044']\",\n",
       " \"['SPARK-12566', 'SPARK-9840']\",\n",
       " \"['DERBY-5760', 'DERBY-6289']\",\n",
       " \"['SPARK-18352', 'SPARK-7366']\",\n",
       " \"['SHIRO-771', 'SHIRO-773']\",\n",
       " \"['COUCHDB-103', 'COUCHDB-925']\",\n",
       " \"['BEAM-107', 'BEAM-108']\",\n",
       " \"['SVN-2833', 'SVN-3988']\",\n",
       " \"['HARMONY-1635', 'HARMONY-1810']\",\n",
       " \"['DERBY-2594', 'DERBY-827']\",\n",
       " \"['AIRFLOW-4863', 'AIRFLOW-4957']\",\n",
       " \"['SVN-3630', 'SVN-3632']\",\n",
       " \"['COMDEV-216', 'COMDEV-283']\",\n",
       " \"['AMQ-1693', 'AMQ-1940']\",\n",
       " \"['SYSTEMDS-450', 'SYSTEMDS-853']\",\n",
       " \"['SOLR-5730', 'SOLR-8621']\",\n",
       " \"['CASSANDRA-7581', 'CASSANDRA-7592']\",\n",
       " \"['OAK-3620', 'OAK-3649']\",\n",
       " \"['YARN-1530', 'YARN-1701']\",\n",
       " \"['HARMONY-2179', 'HARMONY-2180']\",\n",
       " \"['HBASE-18410', 'HBASE-18879']\",\n",
       " \"['HIVE-110', 'HIVE-112']\",\n",
       " \"['MNG-6011', 'MNG-6352']\",\n",
       " \"['LOG4NET-435', 'LOG4NET-549']\",\n",
       " \"['GROOVY-1163', 'GROOVY-960']\",\n",
       " \"['HIVE-4569', 'HIVE-4570']\",\n",
       " \"['HIVE-14380', 'HIVE-16874']\",\n",
       " \"['JCR-3228', 'JCR-3510']\",\n",
       " \"['MRM-1097', 'MRM-1419']\",\n",
       " \"['MRELEASE-497', 'SCM-562']\",\n",
       " \"['SCXML-213', 'SCXML-59']\",\n",
       " \"['ARROW-7702', 'ARROW-8447']\",\n",
       " \"['IMPALA-8959', 'IMPALA-9098']\",\n",
       " \"['SPARK-20213', 'SPARK-20635']\",\n",
       " \"['CAMEL-12114', 'CAMEL-12735']\",\n",
       " \"['TAP5-1778', 'TAP5-2219']\",\n",
       " \"['SVN-4255', 'SVN-4522']\",\n",
       " \"['SUREFIRE-1800', 'SUREFIRE-1805']\",\n",
       " \"['AMBARI-21485', 'AMBARI-24253']\",\n",
       " \"['CB-148', 'CB-316']\",\n",
       " \"['HBASE-10070', 'HBASE-10791']\",\n",
       " \"['AXIS2-3971', 'AXIS2-5204']\",\n",
       " \"['SOLR-8398', 'SOLR-8766']\",\n",
       " \"['HIVE-19034', 'HIVE-21511']\",\n",
       " \"['SVN-2039', 'SVN-2102']\",\n",
       " \"['SOLR-104', 'SOLR-110']\",\n",
       " \"['HIVE-1891', 'HIVE-78']\",\n",
       " \"['LUCENE-9435', 'LUCENE-9475']\",\n",
       " \"['MANTTASKS-1', 'MANTTASKS-18']\",\n",
       " \"['DERBY-6408', 'DERBY-6409']\",\n",
       " \"['SPARK-11611', 'SPARK-11944']\",\n",
       " \"['YARN-662', 'YARN-703']\",\n",
       " \"['SVN-3288', 'SVN-4098']\",\n",
       " \"['HBASE-5640', 'HBASE-6529']\",\n",
       " \"['IMPALA-1575', 'IMPALA-6153']\",\n",
       " \"['OFBIZ-5030', 'OFBIZ-5312']\",\n",
       " \"['AIRFLOW-3132', 'AIRFLOW-516']\",\n",
       " \"['YARN-1318', 'YARN-149']\",\n",
       " \"['SVN-3357', 'SVN-3499']\",\n",
       " \"['SVN-3418', 'SVN-4279']\",\n",
       " \"['SVN-3357', 'SVN-876']\",\n",
       " \"['IMPALA-4268', 'IMPALA-558']\",\n",
       " \"['DRILL-5170', 'DRILL-5730']\",\n",
       " \"['HADOOP-11890', 'HADOOP-17543']\",\n",
       " \"['KARAF-2183', 'KARAF-2186']\",\n",
       " \"['OPENJPA-2099', 'OPENJPA-2111']\",\n",
       " \"['SVN-3644', 'SVN-4297']\",\n",
       " \"['DERBY-3180', 'DERBY-3625']\",\n",
       " \"['COUCHDB-165', 'COUCHDB-414']\",\n",
       " \"['YARN-2498', 'YARN-3515']\",\n",
       " \"['SLING-2788', 'SLING-3151']\",\n",
       " \"['ATLAS-2951', 'ATLAS-2999']\",\n",
       " \"['SPARK-10602', 'SPARK-10641']\",\n",
       " \"['KAFKA-8317', 'KAFKA-9259']\",\n",
       " \"['SVN-2754', 'SVN-2824']\",\n",
       " \"['GROOVY-1018', 'GROOVY-732']\",\n",
       " \"['LOG4J2-438', 'LOG4J2-489']\",\n",
       " \"['PIG-1345', 'PIG-908']\",\n",
       " \"['AVRO-1134', 'AVRO-1206']\",\n",
       " \"['TS-2364', 'TS-3218']\",\n",
       " \"['SENTRY-1377', 'SENTRY-1429']\",\n",
       " \"['IGNITE-8769', 'IGNITE-8910']\",\n",
       " \"['SVN-1493', 'SVN-2865']\",\n",
       " \"['ARROW-10636', 'ARROW-6717']\",\n",
       " \"['ACCUMULO-2077', 'ACCUMULO-2381']\",\n",
       " \"['NUTCH-1005', 'NUTCH-809']\",\n",
       " \"['HBASE-7009', 'HBASE-7109']\",\n",
       " \"['FINERACT-850', 'FINERACT-887']\",\n",
       " \"['SVN-2821', 'SVN-2874']\",\n",
       " \"['HBASE-16242', 'HBASE-16246']\",\n",
       " \"['SPARK-10925', 'SPARK-14948']\",\n",
       " \"['BUILDR-287', 'BUILDR-292']\",\n",
       " \"['SPARK-4300', 'SPARK-9844']\",\n",
       " \"['MESOS-1071', 'MESOS-1169']\",\n",
       " \"['HBASE-20993', 'HBASE-21111']\",\n",
       " \"['SPARK-13393', 'SPARK-13801']\",\n",
       " \"['CASSANDRA-11500', 'CASSANDRA-13409']\",\n",
       " \"['ZOOKEEPER-1925', 'ZOOKEEPER-2169']\",\n",
       " \"['OAK-2636', 'OAK-2644']\",\n",
       " \"['SVN-3327', 'SVN-3357']\",\n",
       " \"['HIVE-5369', 'HIVE-6300']\",\n",
       " \"['MESOS-7365', 'MESOS-7378']\",\n",
       " \"['CB-587', 'CB-638']\",\n",
       " \"['IGNITE-10561', 'IGNITE-11088']\",\n",
       " \"['THRIFT-1805', 'THRIFT-3607']\",\n",
       " \"['LENS-1018', 'LENS-906']\",\n",
       " \"['IGNITE-5558', 'IGNITE-6235']\",\n",
       " \"['HDFS-1125', 'HDFS-1290']\",\n",
       " \"['OFBIZ-9138', 'OFBIZ-9867']\",\n",
       " \"['HIVE-14964', 'HIVE-15053']\",\n",
       " \"['NIFI-1011', 'NIFI-972']\",\n",
       " \"['SENTRY-157', 'SENTRY-234']\",\n",
       " \"['TS-4924', 'TS-4960']\",\n",
       " \"['SVN-1036', 'SVN-995']\",\n",
       " \"['TUSCANY-2781', 'TUSCANY-2784']\",\n",
       " \"['SVN-1679', 'SVN-999']\",\n",
       " \"['TIKA-2804', 'TIKA-2854']\",\n",
       " \"['SQOOP-846', 'SQOOP-848']\",\n",
       " \"['SVN-1031', 'SVN-639']\",\n",
       " \"['MESOS-1342', 'MESOS-911']\",\n",
       " \"['DERBY-1515', 'DERBY-396']\",\n",
       " \"['SENTRY-247', 'SENTRY-249']\",\n",
       " \"['SENTRY-2010', 'SENTRY-2011']\",\n",
       " \"['MYRIAD-283', 'MYRIAD-285']\",\n",
       " \"['CB-8996', 'CB-8999']\",\n",
       " \"['DERBY-6429', 'DERBY-6431']\",\n",
       " \"['SOLR-7156', 'SOLR-7158']\",\n",
       " \"['HIVE-1006', 'HIVE-1008']\",\n",
       " \"['SVN-2818', 'SVN-2819']\",\n",
       " \"['SOLR-1682', 'SOLR-236']\",\n",
       " \"['SOLR-13249', 'SOLR-13255']\",\n",
       " \"['SVN-3351', 'SVN-3662']\",\n",
       " \"['CARBONDATA-1398', 'CARBONDATA-1701']\",\n",
       " \"['HIVE-6411', 'HIVE-7048']\",\n",
       " \"['MESOS-1865', 'MESOS-3841']\",\n",
       " \"['BEAM-191', 'BEAM-230']\",\n",
       " \"['HADOOP-15674', 'HADOOP-15676']\",\n",
       " \"['HBASE-11655', 'HBASE-11656']\",\n",
       " \"['SPARK-10109', 'SPARK-20038']\",\n",
       " \"['ATLAS-956', 'ATLAS-987']\",\n",
       " \"['OAK-8033', 'OAK-8039']\",\n",
       " \"['QPID-4835', 'QPID-5067']\",\n",
       " \"['DERBY-6313', 'DERBY-6354']\",\n",
       " \"['SVN-3150', 'SVN-3210']\",\n",
       " \"['YARN-5734', 'YARN-8677']\",\n",
       " \"['DBCP-372', 'DBCP-397']\",\n",
       " \"['HADOOP-9652', 'HADOOP-9783']\",\n",
       " \"['FLINK-11161', 'FLINK-11264']\",\n",
       " \"['SVN-2282', 'SVN-2892']\",\n",
       " \"['SPARK-3694', 'SPARK-5307']\",\n",
       " \"['SVN-2828', 'SVN-2831']\",\n",
       " \"['CASSANDRA-9000', 'CASSANDRA-9002']\",\n",
       " \"['SOLR-3583', 'SOLR-6350']\",\n",
       " \"['TIKA-1723', 'TIKA-369']\",\n",
       " \"['AMBARI-16946', 'AMBARI-17133']\",\n",
       " \"['SVN-1267', 'SVN-1371']\",\n",
       " \"['XALANC-772', 'XERCESC-2086']\",\n",
       " \"['NIFI-7122', 'NIFI-7324']\",\n",
       " \"['HADOOP-6304', 'HADOOP-7110']\",\n",
       " \"['YARN-6501', 'YARN-6502']\",\n",
       " \"['MESOS-4434', 'MESOS-4690']\",\n",
       " \"['TOMEE-2304', 'TOMEE-2358']\",\n",
       " \"['MRM-133', 'MRM-134']\",\n",
       " \"['AXIS2-2275', 'AXIS2-2276']\",\n",
       " \"['HIVE-4766', 'THRIFT-2046']\",\n",
       " \"['DERBY-1523', 'DERBY-464']\",\n",
       " \"['OLINGO-706', 'OLINGO-824']\",\n",
       " \"['OFBIZ-7073', 'OFBIZ-7467']\",\n",
       " \"['EXLBR-37', 'EXLBR-41']\",\n",
       " \"['SOLR-10588', 'SOLR-10605']\",\n",
       " \"['HDFS-311', 'HDFS-397']\",\n",
       " \"['IGNITE-6797', 'IGNITE-6832']\",\n",
       " \"['HADOOP-12774', 'HADOOP-13310']\",\n",
       " \"['SVN-1294', 'SVN-3357']\",\n",
       " \"['KAFKA-6824', 'KAFKA-7988']\",\n",
       " \"['LUCENE-7976', 'SOLR-7733']\",\n",
       " \"['HBASE-11747', 'HBASE-13825']\",\n",
       " \"['SVN-850', 'SVN-884']\",\n",
       " \"['GROOVY-3880', 'GROOVY-4874']\",\n",
       " \"['BOOKKEEPER-1009', 'BOOKKEEPER-963']\",\n",
       " \"['BEAM-1251', 'BEAM-2784']\",\n",
       " \"['TAJO-67', 'TAJO-735']\",\n",
       " \"['HDDS-3830', 'HDDS-3879']\",\n",
       " \"['MESOS-8500', 'MESOS-9856']\",\n",
       " \"['SVN-3630', 'SVN-3631']\",\n",
       " \"['FINERACT-677', 'FINERACT-726']\",\n",
       " \"['SVN-3936', 'SVN-3937']\",\n",
       " \"['IGNITE-2294', 'IGNITE-4168']\",\n",
       " \"['CASSANDRA-10719', 'CASSANDRA-9678']\",\n",
       " \"['HDFS-4949', 'HDFS-5203']\",\n",
       " \"['SVN-4001', 'SVN-4136']\",\n",
       " \"['SVN-662', 'SVN-736']\",\n",
       " \"['CAMEL-1873', 'CAMEL-1874']\",\n",
       " \"['HIVE-10983', 'HIVE-11095']\",\n",
       " \"['SVN-3503', 'SVN-4139']\",\n",
       " \"['HIVE-21000', 'HIVE-21498']\",\n",
       " \"['SOLR-2976', 'SOLR-2981']\",\n",
       " \"['CAMEL-10141', 'CAMEL-10905']\",\n",
       " \"['RYA-123', 'RYA-140']\",\n",
       " \"['NETBEANS-262', 'NETBEANS-282']\",\n",
       " \"['HBASE-1342', 'HBASE-7']\",\n",
       " \"['HBASE-10070', 'HBASE-13063']\",\n",
       " \"['MAPREDUCE-5077', 'MAPREDUCE-5098']\",\n",
       " \"['NUTCH-1076', 'NUTCH-1483']\",\n",
       " \"['BEAM-7740', 'BEAM-7741']\",\n",
       " \"['HADOOP-7575', 'MAPREDUCE-2757']\",\n",
       " \"['DDLUTILS-75', 'DDLUTILS-82']\",\n",
       " \"['CASSANDRA-10876', 'CASSANDRA-8825']\",\n",
       " \"['SOLR-11456', 'SOLR-11457']\",\n",
       " \"['NIFI-1157', 'NIFI-648']\",\n",
       " \"['KAFKA-1194', 'KAFKA-9458']\",\n",
       " \"['SPARK-2242', 'SPARK-2244']\",\n",
       " \"['ZOOKEEPER-1652', 'ZOOKEEPER-1666']\",\n",
       " \"['SOLR-5216', 'SOLR-5364']\",\n",
       " \"['GROOVY-1838', 'GROOVY-2503']\",\n",
       " \"['CLIMATE-587', 'CLIMATE-589']\",\n",
       " \"['LOG4J2-2707', 'LOG4J2-2980']\",\n",
       " \"['HADOOP-9935', 'MAPREDUCE-5498']\",\n",
       " \"['OODT-693', 'OODT-984']\",\n",
       " \"['FLINK-15362', 'FLINK-15557']\",\n",
       " \"['CASSANDRA-6506', 'CASSANDRA-7393']\",\n",
       " \"['CAMEL-13314', 'CAMEL-8362']\",\n",
       " \"['HIVE-15016', 'HIVE-15326']\",\n",
       " \"['FLINK-7198', 'FLINK-8358']\",\n",
       " \"['YARN-2724', 'YARN-2734']\",\n",
       " \"['PDFBOX-1147', 'PDFBOX-205']\",\n",
       " \"['FLINK-11782', 'FLINK-13987']\",\n",
       " \"['XALANJ-2219', 'XALANJ-2302']\",\n",
       " \"['HIVE-3976', 'HIVE-5565']\",\n",
       " \"['SVN-4001', 'SVN-4295']\",\n",
       " \"['SVN-781', 'SVN-823']\",\n",
       " \"['IMPALA-5071', 'INFRA-13665']\",\n",
       " \"['ARROW-7117', 'ARROW-7267']\",\n",
       " \"['HIVE-23478', 'HIVE-23484']\",\n",
       " \"['SPARK-14146', 'SPARK-17103']\",\n",
       " \"['OODT-693', 'OODT-980']\",\n",
       " \"['ZEPPELIN-2704', 'ZEPPELIN-5043']\",\n",
       " \"['FINERACT-838', 'FINERACT-996']\",\n",
       " \"['OAK-3842', 'OAK-3919']\",\n",
       " \"['AIRFLOW-47', 'AIRFLOW-99']\",\n",
       " \"['MESOS-7526', 'MESOS-9793']\",\n",
       " \"['HADOOP-12234', 'HADOOP-13008']\",\n",
       " \"['SPARK-1216', 'SPARK-5888']\",\n",
       " \"['NIFI-10', 'NIFI-1038']\",\n",
       " \"['SOLR-7755', 'SOLR-7757']\",\n",
       " \"['ISIS-383', 'ISIS-666']\",\n",
       " \"['SVN-1906', 'SVN-4295']\",\n",
       " \"['SVN-2884', 'SVN-3357']\",\n",
       " \"['SVN-1831', 'SVN-3357']\",\n",
       " \"['IGNITE-10927', 'IGNITE-11116']\",\n",
       " \"['DRILL-1921', 'DRILL-2016']\",\n",
       " \"['WICKET-1600', 'WICKET-4240']\",\n",
       " \"['SVN-2875', 'SVN-2973']\",\n",
       " \"['HBASE-5179', 'HBASE-5270']\",\n",
       " \"['REEF-1726', 'REEF-1780']\",\n",
       " \"['DRILL-2376', 'DRILL-2378']\",\n",
       " \"['ARTEMIS-2706', 'ARTEMIS-2707']\",\n",
       " \"['LOG4J2-435', 'LOG4J2-524']\",\n",
       " \"['MRELEASE-305', 'MRELEASE-331']\",\n",
       " \"['HBASE-8049', 'HBASE-8144']\",\n",
       " \"['SVN-1880', 'SVN-1884']\",\n",
       " \"['HIVE-10327', 'HIVE-10636']\",\n",
       " \"['SOLR-3026', 'SOLR-3045']\",\n",
       " \"['SOLR-3583', 'SOLR-6351']\",\n",
       " \"['SVN-751', 'SVN-950']\",\n",
       " \"['HADOOP-10580', 'HADOOP-8989']\",\n",
       " \"['SVN-2196', 'SVN-2762']\",\n",
       " \"['FLINK-5878', 'FLINK-6094']\",\n",
       " \"['THRIFT-4000', 'THRIFT-4001']\",\n",
       " \"['REEF-1063', 'REEF-1160']\",\n",
       " \"['SPARK-18838', 'SPARK-18975']\",\n",
       " \"['INFRA-21011', 'SLING-9888']\",\n",
       " \"['YARN-3091', 'YARN-3139']\",\n",
       " \"['BOOKKEEPER-315', 'BOOKKEEPER-419']\",\n",
       " \"['HBASE-5699', 'HBASE-5937']\",\n",
       " \"['SVN-2527', 'SVN-511']\",\n",
       " \"['HADOOP-10077', 'HADOOP-11238']\",\n",
       " \"['BIGTOP-1908', 'BIGTOP-2015']\",\n",
       " \"['LOG4J2-438', 'LOG4J2-442']\",\n",
       " \"['NIFI-1377', 'NIFI-5169']\",\n",
       " \"['DRILL-2366', 'DRILL-2375']\",\n",
       " \"['SVN-3471', 'SVN-3525']\",\n",
       " \"['HIVE-13901', 'HIVE-13925']\",\n",
       " \"['SVN-2667', 'SVN-3662']\",\n",
       " \"['YARN-304', 'YARN-321']\",\n",
       " \"['MAPREDUCE-5044', 'YARN-445']\",\n",
       " \"['SVN-3668', 'SVN-3756']\",\n",
       " \"['MNG-1753', 'MNG-4516']\",\n",
       " \"['SVN-2767', 'SVN-3357']\",\n",
       " \"['IVY-640', 'IVY-735']\",\n",
       " \"['HBASE-8140', 'HCATALOG-623']\",\n",
       " \"['OFBIZ-11911', 'OFBIZ-11912']\",\n",
       " \"['SVN-2449', 'SVN-688']\",\n",
       " \"['CAMEL-12251', 'CAMEL-12291']\",\n",
       " \"['SVN-1477', 'SVN-1479']\",\n",
       " \"['HADOOP-10768', 'HADOOP-14558']\",\n",
       " \"['TS-2110', 'TS-2312']\",\n",
       " \"['SVN-3162', 'SVN-3210']\",\n",
       " \"['HIVE-236', 'HIVE-314']\",\n",
       " \"['HBASE-23169', 'HBASE-23205']\",\n",
       " \"['SHIRO-337', 'SHIRO-422']\",\n",
       " \"['ASTERIXDB-1268', 'ASTERIXDB-2332']\",\n",
       " \"['TEZ-1160', 'TEZ-1534']\",\n",
       " \"['KARAF-2434', 'KARAF-2435']\",\n",
       " \"['HIVE-19305', 'HIVE-19306']\",\n",
       " \"['SPARK-19591', 'SPARK-9478']\",\n",
       " \"['TS-3329', 'TS-3375']\",\n",
       " \"['DIRSERVER-309', 'DIRSERVER-711']\",\n",
       " \"['HBASE-1697', 'HBASE-3025']\",\n",
       " \"['KUDU-1407', 'KUDU-1718']\",\n",
       " \"['MNG-1753', 'MNG-3106']\",\n",
       " \"['SVN-3628', 'SVN-510']\",\n",
       " \"['SVN-1821', 'SVN-3242']\",\n",
       " \"['YARN-3878', 'YARN-3916']\",\n",
       " \"['STORM-2273', 'STORM-2660']\",\n",
       " \"['AXIS2-3964', 'AXIS2-4090']\",\n",
       " \"['HIVE-1425', 'HIVE-1479']\",\n",
       " \"['KYLIN-4391', 'KYLIN-4392']\",\n",
       " \"['SVN-2282', 'SVN-3156']\",\n",
       " \"['KYLIN-1398', 'KYLIN-1399']\",\n",
       " \"['SVN-4428', 'SVN-4429']\",\n",
       " \"['CASSANDRA-15526', 'CASSANDRA-15527']\",\n",
       " \"['THRIFT-4752', 'THRIFT-4811']\",\n",
       " \"['SVN-2831', 'SVN-2997']\",\n",
       " \"['BEANUTILS-211', 'BEANUTILS-247']\",\n",
       " \"['SOLR-7525', 'SOLR-8125']\",\n",
       " \"['OPENJPA-1387', 'OPENJPA-1651']\",\n",
       " \"['SVN-1880', 'SVN-1883']\",\n",
       " \"['HTTPCLIENT-1108', 'HTTPCLIENT-1109']\",\n",
       " \"['HADOOP-9887', 'HDFS-5125']\",\n",
       " \"['PIG-1310', 'PIG-1314']\",\n",
       " \"['MUSE-82', 'MUSE-89']\",\n",
       " \"['SVN-2282', 'SVN-3287']\",\n",
       " \"['CASSANDRA-7409', 'CASSANDRA-9345']\",\n",
       " \"['SOLR-7571', 'SOLR-7573']\",\n",
       " \"['MCHANGES-59', 'MCHANGES-90']\",\n",
       " \"['HADOOP-7001', 'HDFS-1362']\",\n",
       " \"['CAMEL-7663', 'CAMEL-7809']\",\n",
       " \"['HBASE-12266', 'HBASE-13090']\",\n",
       " \"['FLINK-15310', 'FLINK-15313']\",\n",
       " \"['WW-2244', 'WW-2245']\",\n",
       " \"['SENTRY-547', 'SENTRY-549']\",\n",
       " \"['ISIS-647', 'ISIS-789']\",\n",
       " \"['HDFS-15359', 'HDFS-8999']\",\n",
       " \"['HADOOP-8645', 'HADOOP-8900']\",\n",
       " \"['OWB-743', 'OWB-806']\",\n",
       " \"['SVN-2282', 'SVN-3209']\",\n",
       " \"['AXIS2-5702', 'AXIS2-5704']\",\n",
       " \"['MESOS-2690', 'MESOS-4579']\",\n",
       " \"['PIG-4266', 'PIG-4293']\",\n",
       " \"['CASSANDRA-8819', 'CASSANDRA-9939']\",\n",
       " ...}"
      ]
     },
     "execution_count": 35,
     "metadata": {},
     "output_type": "execute_result"
    }
   ],
   "source": [
    "valid_doubles"
   ]
  },
  {
   "cell_type": "code",
   "execution_count": 36,
   "id": "88cd3596",
   "metadata": {},
   "outputs": [
    {
     "data": {
      "text/html": [
       "<div>\n",
       "<style scoped>\n",
       "    .dataframe tbody tr th:only-of-type {\n",
       "        vertical-align: middle;\n",
       "    }\n",
       "\n",
       "    .dataframe tbody tr th {\n",
       "        vertical-align: top;\n",
       "    }\n",
       "\n",
       "    .dataframe thead th {\n",
       "        text-align: right;\n",
       "    }\n",
       "</style>\n",
       "<table border=\"1\" class=\"dataframe\">\n",
       "  <thead>\n",
       "    <tr style=\"text-align: right;\">\n",
       "      <th></th>\n",
       "      <th>name</th>\n",
       "      <th>linktype</th>\n",
       "      <th>issue_id_1</th>\n",
       "      <th>issue_id_2</th>\n",
       "      <th>issues</th>\n",
       "    </tr>\n",
       "  </thead>\n",
       "  <tbody>\n",
       "    <tr>\n",
       "      <th>183828</th>\n",
       "      <td>LANG-1237_LANG-1124</td>\n",
       "      <td>Reference</td>\n",
       "      <td>LANG-1237</td>\n",
       "      <td>LANG-1124</td>\n",
       "      <td>['LANG-1124', 'LANG-1237']</td>\n",
       "    </tr>\n",
       "    <tr>\n",
       "      <th>183829</th>\n",
       "      <td>LANG-1124_LANG-1237</td>\n",
       "      <td>Reference</td>\n",
       "      <td>LANG-1124</td>\n",
       "      <td>LANG-1237</td>\n",
       "      <td>['LANG-1124', 'LANG-1237']</td>\n",
       "    </tr>\n",
       "  </tbody>\n",
       "</table>\n",
       "</div>"
      ],
      "text/plain": [
       "                       name   linktype issue_id_1 issue_id_2  \\\n",
       "183828  LANG-1237_LANG-1124  Reference  LANG-1237  LANG-1124   \n",
       "183829  LANG-1124_LANG-1237  Reference  LANG-1124  LANG-1237   \n",
       "\n",
       "                            issues  \n",
       "183828  ['LANG-1124', 'LANG-1237']  \n",
       "183829  ['LANG-1124', 'LANG-1237']  "
      ]
     },
     "execution_count": 36,
     "metadata": {},
     "output_type": "execute_result"
    }
   ],
   "source": [
    "cl_link_df[(cl_link_df['issue_id_1'] == 'SVN-3401') | (cl_link_df['issue_id_2'] == 'SVN-3401')]"
   ]
  },
  {
   "cell_type": "code",
   "execution_count": 37,
   "id": "0a6656df",
   "metadata": {
    "scrolled": true
   },
   "outputs": [
    {
     "name": "stderr",
     "output_type": "stream",
     "text": [
      "  0%|          | 6/2145 [00:00<01:42, 20.87it/s]"
     ]
    },
    {
     "name": "stdout",
     "output_type": "stream",
     "text": [
      "['LANG-1124', 'LANG-1237']\n"
     ]
    },
    {
     "name": "stderr",
     "output_type": "stream",
     "text": [
      "  1%|          | 19/2145 [00:00<01:18, 27.10it/s]"
     ]
    },
    {
     "name": "stdout",
     "output_type": "stream",
     "text": [
      "['WHIRR-598', 'WHIRR-673']\n",
      "['HDFS-7826', 'HDFS-7937']\n",
      "['SPARK-10346', 'SPARK-12235']\n"
     ]
    },
    {
     "name": "stderr",
     "output_type": "stream",
     "text": [
      "  1%|          | 25/2145 [00:01<01:27, 24.14it/s]"
     ]
    },
    {
     "name": "stdout",
     "output_type": "stream",
     "text": [
      "['THRIFT-3301', 'THRIFT-3954']\n"
     ]
    },
    {
     "name": "stderr",
     "output_type": "stream",
     "text": [
      "  2%|▏         | 40/2145 [00:01<01:14, 28.26it/s]"
     ]
    },
    {
     "name": "stdout",
     "output_type": "stream",
     "text": [
      "['KAFKA-5141', 'KAFKA-8126']\n",
      "['TUSCANY-2781', 'TUSCANY-2785']\n",
      "['MNG-4792', 'WAGON-304']\n",
      "['TIKA-1835', 'TIKA-1937']\n"
     ]
    },
    {
     "name": "stderr",
     "output_type": "stream",
     "text": [
      "  2%|▏         | 47/2145 [00:01<01:18, 26.79it/s]"
     ]
    },
    {
     "name": "stdout",
     "output_type": "stream",
     "text": [
      "['LOG4J2-407', 'LOG4J2-457']\n",
      "['NIFI-1095', 'NIFI-1097']\n",
      "['PDFBOX-2779', 'PDFBOX-3338']\n"
     ]
    },
    {
     "name": "stderr",
     "output_type": "stream",
     "text": [
      "  3%|▎         | 65/2145 [00:02<01:06, 31.08it/s]"
     ]
    },
    {
     "name": "stdout",
     "output_type": "stream",
     "text": [
      "['HIVE-774', 'HIVE-778']\n",
      "['BIGTOP-1089', 'BIGTOP-1212']\n",
      "['HADOOP-12855', 'HADOOP-12946']\n",
      "['CB-6700', 'CB-6859']\n",
      "['MESOS-2299', 'MESOS-2301']\n"
     ]
    },
    {
     "name": "stderr",
     "output_type": "stream",
     "text": [
      "  4%|▎         | 77/2145 [00:02<01:12, 28.49it/s]"
     ]
    },
    {
     "name": "stdout",
     "output_type": "stream",
     "text": [
      "['HIVE-21301', 'HIVE-21501']\n",
      "['ACCUMULO-3297', 'ACCUMULO-97']\n",
      "['SPARK-2947', 'SPARK-3224']\n",
      "['USERGRID-536', 'USERGRID-541']\n"
     ]
    },
    {
     "name": "stderr",
     "output_type": "stream",
     "text": [
      "  4%|▍         | 92/2145 [00:03<01:10, 29.17it/s]"
     ]
    },
    {
     "name": "stdout",
     "output_type": "stream",
     "text": [
      "['KUDU-2966', 'KUDU-3240']\n",
      "['MECLIPSE-156', 'MECLIPSE-636']\n",
      "['DRILL-6439', 'DRILL-6559']\n"
     ]
    },
    {
     "name": "stderr",
     "output_type": "stream",
     "text": [
      "  5%|▍         | 99/2145 [00:03<01:17, 26.49it/s]"
     ]
    },
    {
     "name": "stdout",
     "output_type": "stream",
     "text": [
      "['LUCENE-1183', 'LUCENE-691']\n",
      "['JUDDI-725', 'JUDDI-726']\n"
     ]
    },
    {
     "name": "stderr",
     "output_type": "stream",
     "text": [
      "  5%|▌         | 111/2145 [00:04<01:21, 24.98it/s]"
     ]
    },
    {
     "name": "stdout",
     "output_type": "stream",
     "text": [
      "['EDGENT-32', 'EDGENT-35']\n",
      "['HBASE-6073', 'HBASE-8774']\n",
      "['SOLR-162', 'SOLR-182']\n",
      "['SENTRY-1706', 'SENTRY-1710']\n"
     ]
    },
    {
     "name": "stderr",
     "output_type": "stream",
     "text": [
      "  6%|▌         | 122/2145 [00:04<01:13, 27.56it/s]"
     ]
    },
    {
     "name": "stdout",
     "output_type": "stream",
     "text": [
      "['NUTCH-2752', 'NUTCH-2780']\n",
      "['OFBIZ-4849', 'OFBIZ-5070']\n",
      "['MESOS-2831', 'MESOS-2857']\n",
      "['DERBY-1491', 'DERBY-396']\n"
     ]
    },
    {
     "name": "stderr",
     "output_type": "stream",
     "text": [
      "\r",
      "  6%|▌         | 127/2145 [00:04<01:04, 31.51it/s]"
     ]
    },
    {
     "name": "stdout",
     "output_type": "stream",
     "text": [
      "['HIVE-16844', 'HIVE-16908']\n",
      "['HDFS-14042', 'HDFS-15556']\n"
     ]
    },
    {
     "name": "stderr",
     "output_type": "stream",
     "text": [
      "  6%|▋         | 135/2145 [00:05<01:13, 27.30it/s]"
     ]
    },
    {
     "name": "stdout",
     "output_type": "stream",
     "text": [
      "['KYLIN-850', 'KYLIN-873']\n",
      "['GEODE-3958', 'GEODE-3959']\n"
     ]
    },
    {
     "name": "stderr",
     "output_type": "stream",
     "text": [
      "\r",
      "  6%|▋         | 139/2145 [00:05<01:12, 27.63it/s]"
     ]
    },
    {
     "name": "stdout",
     "output_type": "stream",
     "text": [
      "['HIVE-3403', 'HIVE-3784']\n"
     ]
    },
    {
     "name": "stderr",
     "output_type": "stream",
     "text": [
      "  8%|▊         | 161/2145 [00:06<01:20, 24.79it/s]"
     ]
    },
    {
     "name": "stdout",
     "output_type": "stream",
     "text": [
      "['KYLIN-2515', 'KYLIN-742']\n"
     ]
    },
    {
     "name": "stderr",
     "output_type": "stream",
     "text": [
      "  8%|▊         | 168/2145 [00:06<01:18, 25.24it/s]"
     ]
    },
    {
     "name": "stdout",
     "output_type": "stream",
     "text": [
      "['CAMEL-8789', 'CAMEL-9890']\n"
     ]
    },
    {
     "name": "stderr",
     "output_type": "stream",
     "text": [
      "  8%|▊         | 181/2145 [00:06<01:14, 26.40it/s]"
     ]
    },
    {
     "name": "stdout",
     "output_type": "stream",
     "text": [
      "['UIMA-5904', 'UIMA-5905']\n",
      "['IO-380', 'IO-381']\n",
      "['SPARK-2429', 'SPARK-2966']\n"
     ]
    },
    {
     "name": "stderr",
     "output_type": "stream",
     "text": [
      "  9%|▉         | 195/2145 [00:07<01:13, 26.48it/s]"
     ]
    },
    {
     "name": "stdout",
     "output_type": "stream",
     "text": [
      "['MAPREDUCE-6523', 'YARN-4283']\n"
     ]
    },
    {
     "name": "stderr",
     "output_type": "stream",
     "text": [
      " 10%|▉         | 213/2145 [00:08<01:19, 24.33it/s]"
     ]
    },
    {
     "name": "stdout",
     "output_type": "stream",
     "text": [
      "['CB-4036', 'CB-4490']\n"
     ]
    },
    {
     "name": "stderr",
     "output_type": "stream",
     "text": [
      " 11%|█         | 233/2145 [00:08<01:12, 26.32it/s]"
     ]
    },
    {
     "name": "stdout",
     "output_type": "stream",
     "text": [
      "['HDFS-14997', 'HDFS-15651']\n",
      "['MRELEASE-812', 'MRELEASE-875']\n"
     ]
    },
    {
     "name": "stderr",
     "output_type": "stream",
     "text": [
      " 11%|█         | 240/2145 [00:09<01:07, 28.37it/s]"
     ]
    },
    {
     "name": "stdout",
     "output_type": "stream",
     "text": [
      "['PIG-4174', 'PIG-4206']\n",
      "['VFS-119', 'VFS-614']\n"
     ]
    },
    {
     "name": "stderr",
     "output_type": "stream",
     "text": [
      " 12%|█▏        | 258/2145 [00:10<01:24, 22.45it/s]"
     ]
    },
    {
     "name": "stdout",
     "output_type": "stream",
     "text": [
      "['HDFS-5215', 'HDFS-8045']\n"
     ]
    },
    {
     "name": "stderr",
     "output_type": "stream",
     "text": [
      " 13%|█▎        | 271/2145 [00:10<01:16, 24.41it/s]"
     ]
    },
    {
     "name": "stdout",
     "output_type": "stream",
     "text": [
      "['IGNITE-801', 'IGNITE-803']\n"
     ]
    },
    {
     "name": "stderr",
     "output_type": "stream",
     "text": [
      " 13%|█▎        | 281/2145 [00:10<01:14, 25.04it/s]"
     ]
    },
    {
     "name": "stdout",
     "output_type": "stream",
     "text": [
      "['KYLIN-211', 'KYLIN-459']\n"
     ]
    },
    {
     "name": "stderr",
     "output_type": "stream",
     "text": [
      " 14%|█▎        | 291/2145 [00:11<01:11, 25.82it/s]"
     ]
    },
    {
     "name": "stdout",
     "output_type": "stream",
     "text": [
      "['SPARK-23929', 'SPARK-24324']\n",
      "['SPARK-19941', 'SPARK-20628']\n",
      "['IGNITE-6347', 'IGNITE-6356']\n"
     ]
    },
    {
     "name": "stderr",
     "output_type": "stream",
     "text": [
      " 14%|█▍        | 298/2145 [00:11<01:08, 27.10it/s]"
     ]
    },
    {
     "name": "stdout",
     "output_type": "stream",
     "text": [
      "['HIVE-3652', 'HIVE-3784']\n",
      "['TEZ-1838', 'TEZ-2229']\n"
     ]
    },
    {
     "name": "stderr",
     "output_type": "stream",
     "text": [
      " 14%|█▍        | 306/2145 [00:11<01:06, 27.47it/s]"
     ]
    },
    {
     "name": "stdout",
     "output_type": "stream",
     "text": [
      "['IMPALA-4863', 'IMPALA-5311']\n"
     ]
    },
    {
     "name": "stderr",
     "output_type": "stream",
     "text": [
      " 15%|█▍        | 319/2145 [00:12<01:07, 27.14it/s]"
     ]
    },
    {
     "name": "stdout",
     "output_type": "stream",
     "text": [
      "['IOTDB-984', 'IOTDB-990']\n",
      "['LENS-118', 'LENS-25']\n"
     ]
    },
    {
     "name": "stderr",
     "output_type": "stream",
     "text": [
      " 15%|█▌        | 326/2145 [00:12<01:03, 28.61it/s]"
     ]
    },
    {
     "name": "stdout",
     "output_type": "stream",
     "text": [
      "['SOLR-10321', 'SOLR-10993']\n",
      "['OAK-2713', 'OAK-2967']\n"
     ]
    },
    {
     "name": "stderr",
     "output_type": "stream",
     "text": [
      " 16%|█▌        | 336/2145 [00:12<01:02, 29.05it/s]"
     ]
    },
    {
     "name": "stdout",
     "output_type": "stream",
     "text": [
      "['IMPALA-4923', 'IMPALA-5302']\n",
      "['CTAKES-246', 'CTAKES-251']\n",
      "['KAFKA-8063', 'KAFKA-8126']\n"
     ]
    },
    {
     "name": "stderr",
     "output_type": "stream",
     "text": [
      " 16%|█▋        | 351/2145 [00:13<00:56, 31.53it/s]"
     ]
    },
    {
     "name": "stdout",
     "output_type": "stream",
     "text": [
      "['MINIFICPP-137', 'MINIFICPP-159']\n",
      "['CAMEL-9444', 'CAMEL-9573']\n",
      "['PIG-1914', 'PIG-2641']\n",
      "['TS-3667', 'TS-3788']\n",
      "['HADOOP-13518', 'HADOOP-13830']\n"
     ]
    },
    {
     "name": "stderr",
     "output_type": "stream",
     "text": [
      " 17%|█▋        | 359/2145 [00:13<01:02, 28.50it/s]"
     ]
    },
    {
     "name": "stdout",
     "output_type": "stream",
     "text": [
      "['ISIS-788', 'ISIS-794']\n",
      "['HIVE-3995', 'HIVE-3999']\n"
     ]
    },
    {
     "name": "stderr",
     "output_type": "stream",
     "text": [
      " 17%|█▋        | 370/2145 [00:14<01:08, 25.82it/s]"
     ]
    },
    {
     "name": "stdout",
     "output_type": "stream",
     "text": [
      "['CAMEL-1276', 'CAMEL-1537']\n",
      "['JSPWIKI-159', 'JSPWIKI-850']\n"
     ]
    },
    {
     "name": "stderr",
     "output_type": "stream",
     "text": [
      " 18%|█▊        | 386/2145 [00:14<01:11, 24.67it/s]"
     ]
    },
    {
     "name": "stdout",
     "output_type": "stream",
     "text": [
      "['OAK-164', 'OAK-165']\n"
     ]
    },
    {
     "name": "stderr",
     "output_type": "stream",
     "text": [
      "\r",
      " 18%|█▊        | 390/2145 [00:15<01:07, 25.86it/s]"
     ]
    },
    {
     "name": "stdout",
     "output_type": "stream",
     "text": [
      "['LOG4J2-407', 'LOG4J2-442']\n",
      "['JS2-1336', 'JS2-1357']\n"
     ]
    },
    {
     "name": "stderr",
     "output_type": "stream",
     "text": [
      " 19%|█▊        | 398/2145 [00:15<01:01, 28.62it/s]"
     ]
    },
    {
     "name": "stdout",
     "output_type": "stream",
     "text": [
      "['SOLR-9602', 'SOLR-9603']\n",
      "['BIGTOP-1470', 'MAHOUT-1329']\n"
     ]
    },
    {
     "name": "stderr",
     "output_type": "stream",
     "text": [
      " 19%|█▉        | 405/2145 [00:15<01:03, 27.57it/s]"
     ]
    },
    {
     "name": "stdout",
     "output_type": "stream",
     "text": [
      "['MESOS-9309', 'MESOS-9310']\n",
      "['ARTEMIS-1055', 'ARTEMIS-925']\n"
     ]
    },
    {
     "name": "stderr",
     "output_type": "stream",
     "text": [
      " 19%|█▉        | 413/2145 [00:15<01:01, 28.11it/s]"
     ]
    },
    {
     "name": "stdout",
     "output_type": "stream",
     "text": [
      "['MRM-1005', 'MRM-902']\n"
     ]
    },
    {
     "name": "stderr",
     "output_type": "stream",
     "text": [
      " 20%|█▉        | 426/2145 [00:16<01:06, 25.81it/s]"
     ]
    },
    {
     "name": "stdout",
     "output_type": "stream",
     "text": [
      "['HADOOP-7347', 'HDFS-2181']\n"
     ]
    },
    {
     "name": "stderr",
     "output_type": "stream",
     "text": [
      " 20%|██        | 436/2145 [00:16<01:05, 25.97it/s]"
     ]
    },
    {
     "name": "stdout",
     "output_type": "stream",
     "text": [
      "['DRILL-1125', 'DRILL-1447']\n"
     ]
    },
    {
     "name": "stderr",
     "output_type": "stream",
     "text": [
      " 21%|██        | 448/2145 [00:17<01:10, 24.24it/s]"
     ]
    },
    {
     "name": "stdout",
     "output_type": "stream",
     "text": [
      "['FLINK-6078', 'FLINK-6192']\n",
      "['OAK-2801', 'OAK-2967']\n"
     ]
    },
    {
     "name": "stderr",
     "output_type": "stream",
     "text": [
      " 21%|██▏       | 458/2145 [00:17<01:04, 26.16it/s]"
     ]
    },
    {
     "name": "stdout",
     "output_type": "stream",
     "text": [
      "['AMQ-4234', 'AMQ-4235']\n",
      "['SENTRY-2230', 'SENTRY-2273']\n",
      "['HADOOP-15555', 'HADOOP-15556']\n"
     ]
    },
    {
     "name": "stderr",
     "output_type": "stream",
     "text": [
      " 22%|██▏       | 469/2145 [00:18<01:02, 26.86it/s]"
     ]
    },
    {
     "name": "stdout",
     "output_type": "stream",
     "text": [
      "['HIVE-1750', 'HIVE-1769']\n"
     ]
    },
    {
     "name": "stderr",
     "output_type": "stream",
     "text": [
      " 23%|██▎       | 488/2145 [00:18<01:07, 24.63it/s]"
     ]
    },
    {
     "name": "stdout",
     "output_type": "stream",
     "text": [
      "['TUSCANY-2782', 'TUSCANY-2785']\n"
     ]
    },
    {
     "name": "stderr",
     "output_type": "stream",
     "text": [
      " 23%|██▎       | 496/2145 [00:19<01:01, 26.61it/s]"
     ]
    },
    {
     "name": "stdout",
     "output_type": "stream",
     "text": [
      "['LUCENE-3920', 'LUCENE-4955']\n",
      "['MESOS-2829', 'MESOS-2857']\n"
     ]
    },
    {
     "name": "stderr",
     "output_type": "stream",
     "text": [
      " 23%|██▎       | 503/2145 [00:19<01:01, 26.51it/s]"
     ]
    },
    {
     "name": "stdout",
     "output_type": "stream",
     "text": [
      "['HDFS-4163', 'YARN-207']\n",
      "['HAWQ-288', 'HAWQ-289']\n",
      "['HIVE-5775', 'HIVE-9132']\n",
      "['HADOOP-16168', 'HDFS-14118']\n"
     ]
    },
    {
     "name": "stderr",
     "output_type": "stream",
     "text": [
      " 24%|██▍       | 514/2145 [00:19<01:05, 25.01it/s]"
     ]
    },
    {
     "name": "stdout",
     "output_type": "stream",
     "text": [
      "['CASSANDRA-3114', 'CASSANDRA-3186']\n"
     ]
    },
    {
     "name": "stderr",
     "output_type": "stream",
     "text": [
      " 24%|██▍       | 524/2145 [00:20<01:00, 26.92it/s]"
     ]
    },
    {
     "name": "stdout",
     "output_type": "stream",
     "text": [
      "['SPARK-26199', 'SPARK-31517']\n",
      "['LOG4J2-407', 'LOG4J2-438']\n",
      "['OOZIE-2317', 'OOZIE-2533']\n"
     ]
    },
    {
     "name": "stderr",
     "output_type": "stream",
     "text": [
      " 25%|██▌       | 544/2145 [00:21<01:06, 24.20it/s]"
     ]
    },
    {
     "name": "stdout",
     "output_type": "stream",
     "text": [
      "['KARAF-2765', 'KARAF-2816']\n",
      "['HBASE-2428', 'HBASE-2479']\n"
     ]
    },
    {
     "name": "stderr",
     "output_type": "stream",
     "text": [
      " 26%|██▌       | 555/2145 [00:21<00:57, 27.84it/s]"
     ]
    },
    {
     "name": "stdout",
     "output_type": "stream",
     "text": [
      "['KYLIN-168', 'KYLIN-371']\n",
      "['OAK-161', 'OAK-164']\n",
      "['GROOVY-1628', 'GROOVY-3088']\n"
     ]
    },
    {
     "name": "stderr",
     "output_type": "stream",
     "text": [
      " 27%|██▋       | 575/2145 [00:22<01:00, 25.85it/s]"
     ]
    },
    {
     "name": "stdout",
     "output_type": "stream",
     "text": [
      "['AVRO-1188', 'AVRO-983']\n",
      "['ISIS-800', 'ISIS-807']\n",
      "['LOG4J2-457', 'LOG4J2-489']\n"
     ]
    },
    {
     "name": "stderr",
     "output_type": "stream",
     "text": [
      " 28%|██▊       | 595/2145 [00:23<01:03, 24.40it/s]"
     ]
    },
    {
     "name": "stdout",
     "output_type": "stream",
     "text": [
      "['MAPREDUCE-5830', 'MAPREDUCE-5857']\n"
     ]
    },
    {
     "name": "stderr",
     "output_type": "stream",
     "text": [
      " 28%|██▊       | 601/2145 [00:23<01:04, 23.87it/s]"
     ]
    },
    {
     "name": "stdout",
     "output_type": "stream",
     "text": [
      "['DERBY-5232', 'DERBY-5995']\n",
      "['SOLR-8674', 'SOLR-9225']\n"
     ]
    },
    {
     "name": "stderr",
     "output_type": "stream",
     "text": [
      " 29%|██▉       | 617/2145 [00:23<00:52, 29.26it/s]"
     ]
    },
    {
     "name": "stdout",
     "output_type": "stream",
     "text": [
      "['HIVE-5020', 'HIVE-7282']\n",
      "['HBASE-1353', 'HBASE-1710']\n",
      "['HADOOP-7254', 'HDFS-1874']\n",
      "['DRILL-5694', 'DRILL-5740']\n"
     ]
    },
    {
     "name": "stderr",
     "output_type": "stream",
     "text": [
      " 29%|██▉       | 631/2145 [00:24<00:54, 27.57it/s]"
     ]
    },
    {
     "name": "stdout",
     "output_type": "stream",
     "text": [
      "['DERBY-1490', 'DERBY-396']\n",
      "['XBEAN-276', 'XBEAN-286']\n",
      "['HADOOP-10557', 'HADOOP-9705']\n",
      "['HADOOP-11505', 'HADOOP-11665']\n",
      "['GROOVY-5808', 'GROOVY-6309']\n",
      "['KYLIN-2094', 'KYLIN-2104']\n",
      "['OAK-161', 'OAK-165']\n"
     ]
    },
    {
     "name": "stderr",
     "output_type": "stream",
     "text": [
      " 30%|███       | 644/2145 [00:24<00:51, 29.32it/s]"
     ]
    },
    {
     "name": "stdout",
     "output_type": "stream",
     "text": [
      "['TAJO-747', 'TAJO-748']\n",
      "['KAFKA-5141', 'KAFKA-8063']\n"
     ]
    },
    {
     "name": "stderr",
     "output_type": "stream",
     "text": [
      " 31%|███       | 655/2145 [00:25<00:49, 30.13it/s]"
     ]
    },
    {
     "name": "stdout",
     "output_type": "stream",
     "text": [
      "['LUCENE-8004', 'LUCENE-8264']\n",
      "['DERBY-5760', 'DERBY-6289']\n",
      "['COUCHDB-103', 'COUCHDB-925']\n"
     ]
    },
    {
     "name": "stderr",
     "output_type": "stream",
     "text": [
      " 31%|███       | 663/2145 [00:25<00:51, 28.82it/s]"
     ]
    },
    {
     "name": "stdout",
     "output_type": "stream",
     "text": [
      "['HARMONY-1635', 'HARMONY-1810']\n",
      "['DERBY-2594', 'DERBY-827']\n"
     ]
    },
    {
     "name": "stderr",
     "output_type": "stream",
     "text": [
      " 31%|███       | 670/2145 [00:25<00:53, 27.72it/s]"
     ]
    },
    {
     "name": "stdout",
     "output_type": "stream",
     "text": [
      "['OAK-3620', 'OAK-3649']\n"
     ]
    },
    {
     "name": "stderr",
     "output_type": "stream",
     "text": [
      " 32%|███▏      | 687/2145 [00:26<00:50, 28.91it/s]"
     ]
    },
    {
     "name": "stdout",
     "output_type": "stream",
     "text": [
      "['ARROW-7702', 'ARROW-8447']\n",
      "['CAMEL-12114', 'CAMEL-12735']\n",
      "['TAP5-1778', 'TAP5-2219']\n"
     ]
    },
    {
     "name": "stderr",
     "output_type": "stream",
     "text": [
      "\r",
      " 32%|███▏      | 691/2145 [00:26<00:46, 30.96it/s]"
     ]
    },
    {
     "name": "stdout",
     "output_type": "stream",
     "text": [
      "['CB-148', 'CB-316']\n",
      "['AXIS2-3971', 'AXIS2-5204']\n"
     ]
    },
    {
     "name": "stderr",
     "output_type": "stream",
     "text": [
      " 33%|███▎      | 699/2145 [00:26<00:51, 28.24it/s]"
     ]
    },
    {
     "name": "stdout",
     "output_type": "stream",
     "text": [
      "['LUCENE-9435', 'LUCENE-9475']\n",
      "['SPARK-11611', 'SPARK-11944']\n"
     ]
    },
    {
     "name": "stderr",
     "output_type": "stream",
     "text": [
      " 33%|███▎      | 707/2145 [00:27<00:50, 28.23it/s]"
     ]
    },
    {
     "name": "stdout",
     "output_type": "stream",
     "text": [
      "['IMPALA-1575', 'IMPALA-6153']\n",
      "['AIRFLOW-3132', 'AIRFLOW-516']\n"
     ]
    },
    {
     "name": "stderr",
     "output_type": "stream",
     "text": [
      " 34%|███▍      | 725/2145 [00:27<00:55, 25.45it/s]"
     ]
    },
    {
     "name": "stdout",
     "output_type": "stream",
     "text": [
      "['SPARK-10602', 'SPARK-10641']\n",
      "['GROOVY-1018', 'GROOVY-732']\n",
      "['LOG4J2-438', 'LOG4J2-489']\n",
      "['AVRO-1134', 'AVRO-1206']\n"
     ]
    },
    {
     "name": "stderr",
     "output_type": "stream",
     "text": [
      " 34%|███▍      | 739/2145 [00:28<00:53, 26.39it/s]"
     ]
    },
    {
     "name": "stdout",
     "output_type": "stream",
     "text": [
      "['NUTCH-1005', 'NUTCH-809']\n",
      "['HBASE-7009', 'HBASE-7109']\n",
      "['SPARK-10925', 'SPARK-14948']\n",
      "['BUILDR-287', 'BUILDR-292']\n",
      "['SPARK-4300', 'SPARK-9844']\n"
     ]
    },
    {
     "name": "stderr",
     "output_type": "stream",
     "text": [
      " 35%|███▌      | 761/2145 [00:29<00:54, 25.48it/s]"
     ]
    },
    {
     "name": "stdout",
     "output_type": "stream",
     "text": [
      "['IGNITE-5558', 'IGNITE-6235']\n",
      "['HDFS-1125', 'HDFS-1290']\n",
      "['NIFI-1011', 'NIFI-972']\n",
      "['TS-4924', 'TS-4960']\n"
     ]
    },
    {
     "name": "stderr",
     "output_type": "stream",
     "text": [
      " 36%|███▌      | 769/2145 [00:29<00:48, 28.57it/s]"
     ]
    },
    {
     "name": "stdout",
     "output_type": "stream",
     "text": [
      "['TUSCANY-2781', 'TUSCANY-2784']\n",
      "['TIKA-2804', 'TIKA-2854']\n",
      "['DERBY-1515', 'DERBY-396']\n"
     ]
    },
    {
     "name": "stderr",
     "output_type": "stream",
     "text": [
      " 36%|███▌      | 777/2145 [00:29<00:42, 32.32it/s]"
     ]
    },
    {
     "name": "stdout",
     "output_type": "stream",
     "text": [
      "['SENTRY-2010', 'SENTRY-2011']\n",
      "['CB-8996', 'CB-8999']\n",
      "['HIVE-1006', 'HIVE-1008']\n"
     ]
    },
    {
     "name": "stderr",
     "output_type": "stream",
     "text": [
      " 37%|███▋      | 785/2145 [00:30<00:42, 32.23it/s]"
     ]
    },
    {
     "name": "stdout",
     "output_type": "stream",
     "text": [
      "['SOLR-13249', 'SOLR-13255']\n",
      "['MESOS-1865', 'MESOS-3841']\n",
      "['BEAM-191', 'BEAM-230']\n"
     ]
    },
    {
     "name": "stderr",
     "output_type": "stream",
     "text": [
      " 38%|███▊      | 810/2145 [00:31<00:47, 27.99it/s]"
     ]
    },
    {
     "name": "stdout",
     "output_type": "stream",
     "text": [
      "['XALANC-772', 'XERCESC-2086']\n",
      "['HADOOP-6304', 'HADOOP-7110']\n",
      "['YARN-6501', 'YARN-6502']\n"
     ]
    },
    {
     "name": "stderr",
     "output_type": "stream",
     "text": [
      " 38%|███▊      | 816/2145 [00:31<00:47, 27.70it/s]"
     ]
    },
    {
     "name": "stdout",
     "output_type": "stream",
     "text": [
      "['AXIS2-2275', 'AXIS2-2276']\n",
      "['HIVE-4766', 'THRIFT-2046']\n"
     ]
    },
    {
     "name": "stderr",
     "output_type": "stream",
     "text": [
      " 38%|███▊      | 822/2145 [00:31<00:53, 24.85it/s]"
     ]
    },
    {
     "name": "stdout",
     "output_type": "stream",
     "text": [
      "['SOLR-10588', 'SOLR-10605']\n",
      "['KAFKA-6824', 'KAFKA-7988']\n"
     ]
    },
    {
     "name": "stderr",
     "output_type": "stream",
     "text": [
      " 39%|███▊      | 828/2145 [00:31<00:52, 25.22it/s]"
     ]
    },
    {
     "name": "stdout",
     "output_type": "stream",
     "text": [
      "['HBASE-11747', 'HBASE-13825']\n"
     ]
    },
    {
     "name": "stderr",
     "output_type": "stream",
     "text": [
      " 39%|███▉      | 834/2145 [00:31<00:51, 25.31it/s]"
     ]
    },
    {
     "name": "stdout",
     "output_type": "stream",
     "text": [
      "['TAJO-67', 'TAJO-735']\n"
     ]
    },
    {
     "name": "stderr",
     "output_type": "stream",
     "text": [
      " 39%|███▉      | 844/2145 [00:32<00:50, 25.58it/s]"
     ]
    },
    {
     "name": "stdout",
     "output_type": "stream",
     "text": [
      "['CAMEL-1873', 'CAMEL-1874']\n"
     ]
    },
    {
     "name": "stderr",
     "output_type": "stream",
     "text": [
      " 40%|███▉      | 857/2145 [00:32<00:51, 24.93it/s]"
     ]
    },
    {
     "name": "stdout",
     "output_type": "stream",
     "text": [
      "['NUTCH-1076', 'NUTCH-1483']\n"
     ]
    },
    {
     "name": "stderr",
     "output_type": "stream",
     "text": [
      " 40%|████      | 863/2145 [00:33<00:50, 25.19it/s]"
     ]
    },
    {
     "name": "stdout",
     "output_type": "stream",
     "text": [
      "['KAFKA-1194', 'KAFKA-9458']\n",
      "['SPARK-2242', 'SPARK-2244']\n"
     ]
    },
    {
     "name": "stderr",
     "output_type": "stream",
     "text": [
      " 41%|████      | 876/2145 [00:33<00:48, 26.38it/s]"
     ]
    },
    {
     "name": "stdout",
     "output_type": "stream",
     "text": [
      "['CAMEL-13314', 'CAMEL-8362']\n",
      "['FLINK-7198', 'FLINK-8358']\n",
      "['XALANJ-2219', 'XALANJ-2302']\n"
     ]
    },
    {
     "name": "stderr",
     "output_type": "stream",
     "text": [
      " 41%|████▏     | 890/2145 [00:34<00:47, 26.36it/s]"
     ]
    },
    {
     "name": "stdout",
     "output_type": "stream",
     "text": [
      "['OAK-3842', 'OAK-3919']\n"
     ]
    },
    {
     "name": "stderr",
     "output_type": "stream",
     "text": [
      " 42%|████▏     | 900/2145 [00:34<00:50, 24.84it/s]"
     ]
    },
    {
     "name": "stdout",
     "output_type": "stream",
     "text": [
      "['ISIS-383', 'ISIS-666']\n"
     ]
    },
    {
     "name": "stderr",
     "output_type": "stream",
     "text": [
      " 43%|████▎     | 912/2145 [00:35<00:53, 23.15it/s]"
     ]
    },
    {
     "name": "stdout",
     "output_type": "stream",
     "text": [
      "['HBASE-8049', 'HBASE-8144']\n"
     ]
    },
    {
     "name": "stderr",
     "output_type": "stream",
     "text": [
      " 43%|████▎     | 922/2145 [00:35<00:48, 24.96it/s]"
     ]
    },
    {
     "name": "stdout",
     "output_type": "stream",
     "text": [
      "['SPARK-18838', 'SPARK-18975']\n"
     ]
    },
    {
     "name": "stderr",
     "output_type": "stream",
     "text": [
      " 43%|████▎     | 931/2145 [00:35<00:47, 25.32it/s]"
     ]
    },
    {
     "name": "stdout",
     "output_type": "stream",
     "text": [
      "['LOG4J2-438', 'LOG4J2-442']\n",
      "['NIFI-1377', 'NIFI-5169']\n"
     ]
    },
    {
     "name": "stderr",
     "output_type": "stream",
     "text": [
      " 44%|████▍     | 942/2145 [00:36<00:44, 26.93it/s]"
     ]
    },
    {
     "name": "stdout",
     "output_type": "stream",
     "text": [
      "['MNG-1753', 'MNG-4516']\n",
      "['HBASE-8140', 'HCATALOG-623']\n"
     ]
    },
    {
     "name": "stderr",
     "output_type": "stream",
     "text": [
      " 44%|████▍     | 949/2145 [00:36<00:45, 26.32it/s]"
     ]
    },
    {
     "name": "stdout",
     "output_type": "stream",
     "text": [
      "['HADOOP-10768', 'HADOOP-14558']\n",
      "['HBASE-23169', 'HBASE-23205']\n"
     ]
    },
    {
     "name": "stderr",
     "output_type": "stream",
     "text": [
      " 45%|████▍     | 956/2145 [00:36<00:43, 27.39it/s]"
     ]
    },
    {
     "name": "stdout",
     "output_type": "stream",
     "text": [
      "['TEZ-1160', 'TEZ-1534']\n",
      "['KARAF-2434', 'KARAF-2435']\n",
      "['DIRSERVER-309', 'DIRSERVER-711']\n"
     ]
    },
    {
     "name": "stderr",
     "output_type": "stream",
     "text": [
      " 45%|████▍     | 964/2145 [00:37<00:42, 27.55it/s]"
     ]
    },
    {
     "name": "stdout",
     "output_type": "stream",
     "text": [
      "['MNG-1753', 'MNG-3106']\n",
      "['AXIS2-3964', 'AXIS2-4090']\n"
     ]
    },
    {
     "name": "stderr",
     "output_type": "stream",
     "text": [
      " 46%|████▌     | 977/2145 [00:37<00:44, 26.21it/s]"
     ]
    },
    {
     "name": "stdout",
     "output_type": "stream",
     "text": [
      "['SOLR-7525', 'SOLR-8125']\n",
      "['HTTPCLIENT-1108', 'HTTPCLIENT-1109']\n"
     ]
    },
    {
     "name": "stderr",
     "output_type": "stream",
     "text": [
      " 46%|████▌     | 989/2145 [00:38<00:41, 27.88it/s]"
     ]
    },
    {
     "name": "stdout",
     "output_type": "stream",
     "text": [
      "['SOLR-7571', 'SOLR-7573']\n",
      "['HBASE-12266', 'HBASE-13090']\n",
      "['WW-2244', 'WW-2245']\n"
     ]
    },
    {
     "name": "stderr",
     "output_type": "stream",
     "text": [
      " 46%|████▋     | 997/2145 [00:38<00:39, 29.11it/s]"
     ]
    },
    {
     "name": "stdout",
     "output_type": "stream",
     "text": [
      "['HDFS-15359', 'HDFS-8999']\n",
      "['HADOOP-8645', 'HADOOP-8900']\n"
     ]
    },
    {
     "name": "stderr",
     "output_type": "stream",
     "text": [
      " 47%|████▋     | 1014/2145 [00:38<00:36, 30.76it/s]"
     ]
    },
    {
     "name": "stdout",
     "output_type": "stream",
     "text": [
      "['FLUME-247', 'FLUME-6']\n",
      "['HDFS-11751', 'HDFS-12834']\n",
      "['MNG-3808', 'MSITE-402']\n",
      "['IGNITE-6699', 'IGNITE-8447']\n"
     ]
    },
    {
     "name": "stderr",
     "output_type": "stream",
     "text": [
      " 48%|████▊     | 1040/2145 [00:39<00:43, 25.48it/s]"
     ]
    },
    {
     "name": "stdout",
     "output_type": "stream",
     "text": [
      "['FLINK-13344', 'FLINK-13888']\n"
     ]
    },
    {
     "name": "stderr",
     "output_type": "stream",
     "text": [
      " 49%|████▉     | 1050/2145 [00:40<00:43, 25.11it/s]"
     ]
    },
    {
     "name": "stdout",
     "output_type": "stream",
     "text": [
      "['OFBIZ-293', 'OFBIZ-4949']\n",
      "['NIFI-1255', 'NIFI-1463']\n"
     ]
    },
    {
     "name": "stderr",
     "output_type": "stream",
     "text": [
      " 49%|████▉     | 1061/2145 [00:40<00:38, 28.09it/s]"
     ]
    },
    {
     "name": "stdout",
     "output_type": "stream",
     "text": [
      "['TUSCANY-2783', 'TUSCANY-2785']\n",
      "['HADOOP-2835', 'HADOOP-8494']\n"
     ]
    },
    {
     "name": "stderr",
     "output_type": "stream",
     "text": [
      " 50%|█████     | 1075/2145 [00:41<00:34, 30.96it/s]"
     ]
    },
    {
     "name": "stdout",
     "output_type": "stream",
     "text": [
      "['BEAM-1345', 'BEAM-911']\n",
      "['ISIS-1219', 'ISIS-2074']\n",
      "['LUCENE-7407', 'LUCENE-7835']\n",
      "['VFS-301', 'VFS-614']\n"
     ]
    },
    {
     "name": "stderr",
     "output_type": "stream",
     "text": [
      " 51%|█████     | 1090/2145 [00:41<00:36, 28.95it/s]"
     ]
    },
    {
     "name": "stdout",
     "output_type": "stream",
     "text": [
      "['HAWQ-288', 'HAWQ-290']\n",
      "['OAK-2800', 'OAK-2967']\n",
      "['TUSCANY-2782', 'TUSCANY-2783']\n",
      "['SPARK-12423', 'SPARK-12979']\n"
     ]
    },
    {
     "name": "stderr",
     "output_type": "stream",
     "text": [
      " 51%|█████     | 1098/2145 [00:42<00:33, 31.16it/s]"
     ]
    },
    {
     "name": "stdout",
     "output_type": "stream",
     "text": [
      "['AIRFLOW-1131', 'AIRFLOW-966']\n",
      "['AVRO-1965', 'HIVE-15316']\n",
      "['SOLR-7572', 'SOLR-7573']\n"
     ]
    },
    {
     "name": "stderr",
     "output_type": "stream",
     "text": [
      " 52%|█████▏    | 1106/2145 [00:42<00:34, 30.49it/s]"
     ]
    },
    {
     "name": "stdout",
     "output_type": "stream",
     "text": [
      "['HARMONY-2039', 'HARMONY-2482']\n",
      "['ATTIC-124', 'INFRA-7811']\n"
     ]
    },
    {
     "name": "stderr",
     "output_type": "stream",
     "text": [
      " 52%|█████▏    | 1114/2145 [00:42<00:34, 29.47it/s]"
     ]
    },
    {
     "name": "stdout",
     "output_type": "stream",
     "text": [
      "['LOG4J2-407', 'LOG4J2-489']\n",
      "['HADOOP-9008', 'HDFS-4163']\n",
      "['DISPATCH-1003', 'DISPATCH-1004']\n"
     ]
    },
    {
     "name": "stderr",
     "output_type": "stream",
     "text": [
      " 52%|█████▏    | 1122/2145 [00:42<00:33, 30.13it/s]"
     ]
    },
    {
     "name": "stdout",
     "output_type": "stream",
     "text": [
      "['MESOS-2815', 'MESOS-2831']\n",
      "['ODFTOOLKIT-414', 'ODFTOOLKIT-455']\n"
     ]
    },
    {
     "name": "stderr",
     "output_type": "stream",
     "text": [
      "\r",
      " 52%|█████▏    | 1126/2145 [00:42<00:31, 31.90it/s]"
     ]
    },
    {
     "name": "stdout",
     "output_type": "stream",
     "text": [
      "['THRIFT-2157', 'THRIFT-2988']\n",
      "['DERBY-5147', 'DERBY-5305']\n"
     ]
    },
    {
     "name": "stderr",
     "output_type": "stream",
     "text": [
      " 53%|█████▎    | 1138/2145 [00:43<00:33, 29.88it/s]"
     ]
    },
    {
     "name": "stdout",
     "output_type": "stream",
     "text": [
      "['HBASE-13109', 'PHOENIX-1731']\n",
      "['LANG-1252', 'LANG-992']\n",
      "['LENS-35', 'LENS-85']\n",
      "['NIFI-731', 'NIFI-744']\n"
     ]
    },
    {
     "name": "stderr",
     "output_type": "stream",
     "text": [
      " 53%|█████▎    | 1146/2145 [00:43<00:38, 25.82it/s]"
     ]
    },
    {
     "name": "stdout",
     "output_type": "stream",
     "text": [
      "['DRILL-5504', 'DRILL-5526']\n"
     ]
    },
    {
     "name": "stderr",
     "output_type": "stream",
     "text": [
      "\r",
      " 54%|█████▎    | 1150/2145 [00:43<00:35, 28.25it/s]"
     ]
    },
    {
     "name": "stdout",
     "output_type": "stream",
     "text": [
      "['SOLR-4757', 'SOLR-4758']\n",
      "['MESOS-2198', 'MESOS-4737']\n",
      "['TAJO-580', 'TAJO-581']\n"
     ]
    },
    {
     "name": "stderr",
     "output_type": "stream",
     "text": [
      " 54%|█████▍    | 1158/2145 [00:44<00:35, 28.07it/s]"
     ]
    },
    {
     "name": "stdout",
     "output_type": "stream",
     "text": [
      "['MESOS-7079', 'MESOS-7175']\n"
     ]
    },
    {
     "name": "stderr",
     "output_type": "stream",
     "text": [
      " 54%|█████▍    | 1164/2145 [00:44<00:39, 24.85it/s]"
     ]
    },
    {
     "name": "stdout",
     "output_type": "stream",
     "text": [
      "['AMBARI-15538', 'AMBARI-17285']\n",
      "['BATIK-1043', 'XGC-83']\n"
     ]
    },
    {
     "name": "stderr",
     "output_type": "stream",
     "text": [
      " 55%|█████▍    | 1175/2145 [00:44<00:33, 29.29it/s]"
     ]
    },
    {
     "name": "stdout",
     "output_type": "stream",
     "text": [
      "['KARAF-3324', 'KARAF-3334']\n",
      "['SOLR-5007', 'SOLR-7289']\n",
      "['HADOOP-1298', 'HADOOP-1701']\n",
      "['SPARK-15156', 'SPARK-15157']\n"
     ]
    },
    {
     "name": "stderr",
     "output_type": "stream",
     "text": [
      " 55%|█████▌    | 1187/2145 [00:45<00:31, 30.36it/s]"
     ]
    },
    {
     "name": "stdout",
     "output_type": "stream",
     "text": [
      "['IMPALA-4039', 'IMPALA-5398']\n",
      "['YARN-321', 'YARN-374']\n",
      "['TUSCANY-2781', 'TUSCANY-2782']\n"
     ]
    },
    {
     "name": "stderr",
     "output_type": "stream",
     "text": [
      " 56%|█████▌    | 1197/2145 [00:45<00:35, 26.73it/s]"
     ]
    },
    {
     "name": "stdout",
     "output_type": "stream",
     "text": [
      "['HADOOP-7230', 'HDFS-1844']\n",
      "['HDFS-3486', 'HDFS-3627']\n"
     ]
    },
    {
     "name": "stderr",
     "output_type": "stream",
     "text": [
      " 56%|█████▋    | 1211/2145 [00:46<00:32, 28.75it/s]"
     ]
    },
    {
     "name": "stdout",
     "output_type": "stream",
     "text": [
      "['KYLIN-1095', 'KYLIN-999']\n",
      "['DERBY-6945', 'DERBY-6980']\n",
      "['ATLAS-2012', 'ATLAS-2084']\n",
      "['IMPALA-1604', 'IMPALA-1650']\n"
     ]
    },
    {
     "name": "stderr",
     "output_type": "stream",
     "text": [
      " 57%|█████▋    | 1222/2145 [00:46<00:34, 26.77it/s]"
     ]
    },
    {
     "name": "stdout",
     "output_type": "stream",
     "text": [
      "['OAK-2692', 'OAK-2967']\n"
     ]
    },
    {
     "name": "stderr",
     "output_type": "stream",
     "text": [
      " 57%|█████▋    | 1233/2145 [00:46<00:31, 29.32it/s]"
     ]
    },
    {
     "name": "stdout",
     "output_type": "stream",
     "text": [
      "['FLINK-8543', 'FLINK-8939']\n",
      "['DRILL-5470', 'DRILL-5590']\n",
      "['TUSCANY-2784', 'TUSCANY-2785']\n",
      "['SPARK-10709', 'SPARK-11102']\n"
     ]
    },
    {
     "name": "stderr",
     "output_type": "stream",
     "text": [
      " 58%|█████▊    | 1245/2145 [00:47<00:29, 30.95it/s]"
     ]
    },
    {
     "name": "stdout",
     "output_type": "stream",
     "text": [
      "['NUTCH-1785', 'NUTCH-2032']\n",
      "['HBASE-7334', 'HBASE-7386']\n",
      "['CAMEL-507', 'CAMEL-872']\n"
     ]
    },
    {
     "name": "stderr",
     "output_type": "stream",
     "text": [
      " 59%|█████▉    | 1267/2145 [00:48<00:29, 29.50it/s]"
     ]
    },
    {
     "name": "stdout",
     "output_type": "stream",
     "text": [
      "['HIVE-10698', 'HIVE-9897']\n",
      "['HARMONY-2066', 'HARMONY-2519']\n",
      "['SOLR-4562', 'SOLR-4564']\n",
      "['FLUME-27', 'FLUME-73']\n"
     ]
    },
    {
     "name": "stderr",
     "output_type": "stream",
     "text": [
      " 60%|█████▉    | 1278/2145 [00:48<00:29, 29.51it/s]"
     ]
    },
    {
     "name": "stdout",
     "output_type": "stream",
     "text": [
      "['IGNITE-2294', 'IGNITE-4268']\n",
      "['SPARK-4521', 'SPARK-6607']\n",
      "['GROOVY-8776', 'GROOVY-8777']\n"
     ]
    },
    {
     "name": "stderr",
     "output_type": "stream",
     "text": [
      " 60%|█████▉    | 1286/2145 [00:48<00:31, 27.60it/s]"
     ]
    },
    {
     "name": "stdout",
     "output_type": "stream",
     "text": [
      "['IGNITE-2294', 'IGNITE-4269']\n",
      "['IMPALA-8526', 'IMPALA-8527']\n",
      "['DRILL-4876', 'DRILL-4948']\n"
     ]
    },
    {
     "name": "stderr",
     "output_type": "stream",
     "text": [
      " 60%|██████    | 1294/2145 [00:49<00:26, 31.68it/s]"
     ]
    },
    {
     "name": "stdout",
     "output_type": "stream",
     "text": [
      "['HADOOP-6541', 'ZOOKEEPER-364']\n",
      "['HIVE-16908', 'HIVE-17369']\n",
      "['AIRFLOW-1805', 'AIRFLOW-1819']\n"
     ]
    },
    {
     "name": "stderr",
     "output_type": "stream",
     "text": [
      " 61%|██████    | 1306/2145 [00:49<00:27, 30.75it/s]"
     ]
    },
    {
     "name": "stdout",
     "output_type": "stream",
     "text": [
      "['NIFI-5622', 'NIFI-5623']\n",
      "['MESOS-2815', 'MESOS-2829']\n",
      "['MESOS-5332', 'MESOS-5361']\n",
      "['HADOOP-10097', 'HIVE-5583']\n"
     ]
    },
    {
     "name": "stderr",
     "output_type": "stream",
     "text": [
      " 61%|██████▏   | 1316/2145 [00:49<00:31, 26.01it/s]"
     ]
    },
    {
     "name": "stdout",
     "output_type": "stream",
     "text": [
      "['BIGTOP-713', 'BIGTOP-834']\n",
      "['NUMBERS-30', 'NUMBERS-54']\n"
     ]
    },
    {
     "name": "stderr",
     "output_type": "stream",
     "text": [
      " 62%|██████▏   | 1323/2145 [00:50<00:30, 27.31it/s]"
     ]
    },
    {
     "name": "stdout",
     "output_type": "stream",
     "text": [
      "['INFRA-16446', 'INFRA-16455']\n"
     ]
    },
    {
     "name": "stderr",
     "output_type": "stream",
     "text": [
      " 62%|██████▏   | 1334/2145 [00:50<00:27, 29.07it/s]"
     ]
    },
    {
     "name": "stdout",
     "output_type": "stream",
     "text": [
      "['PIG-3015', 'PIG-3111']\n",
      "['RANGER-1738', 'RANGER-1935']\n",
      "['KUDU-1535', 'KUDU-2604']\n"
     ]
    },
    {
     "name": "stderr",
     "output_type": "stream",
     "text": [
      " 63%|██████▎   | 1344/2145 [00:50<00:31, 25.77it/s]"
     ]
    },
    {
     "name": "stdout",
     "output_type": "stream",
     "text": [
      "['KAFKA-7957', 'KAFKA-7988']\n"
     ]
    },
    {
     "name": "stderr",
     "output_type": "stream",
     "text": [
      " 63%|██████▎   | 1354/2145 [00:51<00:31, 24.84it/s]"
     ]
    },
    {
     "name": "stdout",
     "output_type": "stream",
     "text": [
      "['LOG4J2-442', 'LOG4J2-457']\n"
     ]
    },
    {
     "name": "stderr",
     "output_type": "stream",
     "text": [
      " 64%|██████▎   | 1364/2145 [00:51<00:28, 27.47it/s]"
     ]
    },
    {
     "name": "stdout",
     "output_type": "stream",
     "text": [
      "['MESOS-3470', 'MESOS-3949']\n",
      "['NETBEANS-2413', 'NETBEANS-53']\n",
      "['NIFI-376', 'NIFI-609']\n"
     ]
    },
    {
     "name": "stderr",
     "output_type": "stream",
     "text": [
      " 65%|██████▍   | 1386/2145 [00:52<00:33, 22.85it/s]"
     ]
    },
    {
     "name": "stdout",
     "output_type": "stream",
     "text": [
      "['CASSANDRA-10095', 'CASSANDRA-10166']\n"
     ]
    },
    {
     "name": "stderr",
     "output_type": "stream",
     "text": [
      " 65%|██████▌   | 1396/2145 [00:53<00:29, 25.04it/s]"
     ]
    },
    {
     "name": "stdout",
     "output_type": "stream",
     "text": [
      "['HBASE-5305', 'HBASE-5443']\n",
      "['AXIOM-66', 'AXIS2-1937']\n"
     ]
    },
    {
     "name": "stderr",
     "output_type": "stream",
     "text": [
      " 65%|██████▌   | 1404/2145 [00:53<00:25, 29.47it/s]"
     ]
    },
    {
     "name": "stdout",
     "output_type": "stream",
     "text": [
      "['JCLOUDS-765', 'JCLOUDS-774']\n",
      "['SPARK-1121', 'SPARK-1441']\n",
      "['ARTEMIS-687', 'ARTEMIS-699']\n",
      "['IMPALA-1621', 'IMPALA-2241']\n"
     ]
    },
    {
     "name": "stderr",
     "output_type": "stream",
     "text": [
      " 66%|██████▌   | 1418/2145 [00:53<00:27, 26.03it/s]"
     ]
    },
    {
     "name": "stdout",
     "output_type": "stream",
     "text": [
      "['LENS-256', 'LENS-299']\n",
      "['DRILL-3234', 'DRILL-3263']\n"
     ]
    },
    {
     "name": "stderr",
     "output_type": "stream",
     "text": [
      " 66%|██████▋   | 1424/2145 [00:54<00:27, 26.21it/s]"
     ]
    },
    {
     "name": "stdout",
     "output_type": "stream",
     "text": [
      "['HIVE-74', 'HIVE-824']\n",
      "['HBASE-14175', 'HBASE-18844']\n"
     ]
    },
    {
     "name": "stderr",
     "output_type": "stream",
     "text": [
      " 67%|██████▋   | 1442/2145 [00:54<00:24, 28.58it/s]"
     ]
    },
    {
     "name": "stdout",
     "output_type": "stream",
     "text": [
      "['HIVE-20346', 'HIVE-20398']\n",
      "['REEF-43', 'REEF-47']\n",
      "['SPARK-20964', 'SPARK-26215']\n"
     ]
    },
    {
     "name": "stderr",
     "output_type": "stream",
     "text": [
      " 68%|██████▊   | 1449/2145 [00:54<00:25, 27.15it/s]"
     ]
    },
    {
     "name": "stdout",
     "output_type": "stream",
     "text": [
      "['NIFI-810', 'NIFI-891']\n"
     ]
    },
    {
     "name": "stderr",
     "output_type": "stream",
     "text": [
      " 68%|██████▊   | 1455/2145 [00:55<00:27, 25.45it/s]"
     ]
    },
    {
     "name": "stdout",
     "output_type": "stream",
     "text": [
      "['HIVE-2955', 'HIVE-4386']\n"
     ]
    },
    {
     "name": "stderr",
     "output_type": "stream",
     "text": [
      " 68%|██████▊   | 1465/2145 [00:55<00:26, 25.33it/s]"
     ]
    },
    {
     "name": "stdout",
     "output_type": "stream",
     "text": [
      "['KAFKA-7976', 'KAFKA-7988']\n"
     ]
    },
    {
     "name": "stderr",
     "output_type": "stream",
     "text": [
      " 69%|██████▉   | 1478/2145 [00:56<00:26, 25.24it/s]"
     ]
    },
    {
     "name": "stdout",
     "output_type": "stream",
     "text": [
      "['HIVE-645', 'HIVE-810']\n",
      "['TAP5-1915', 'TAP5-1916']\n"
     ]
    },
    {
     "name": "stderr",
     "output_type": "stream",
     "text": [
      " 69%|██████▉   | 1487/2145 [00:56<00:22, 29.75it/s]"
     ]
    },
    {
     "name": "stdout",
     "output_type": "stream",
     "text": [
      "['HIVE-750', 'HIVE-815']\n",
      "['MYFACES-1964', 'MYFACES-1965']\n",
      "['CASSANDRA-6151', 'CASSANDRA-6238']\n",
      "['MESOS-3057', 'MESOS-4930']\n"
     ]
    },
    {
     "name": "stderr",
     "output_type": "stream",
     "text": [
      " 70%|██████▉   | 1493/2145 [00:56<00:24, 27.12it/s]"
     ]
    },
    {
     "name": "stdout",
     "output_type": "stream",
     "text": [
      "['HIVE-3938', 'HIVE-4004']\n",
      "['ACCUMULO-4000', 'ACCUMULO-4004']\n"
     ]
    },
    {
     "name": "stderr",
     "output_type": "stream",
     "text": [
      " 70%|██████▉   | 1501/2145 [00:56<00:22, 28.14it/s]"
     ]
    },
    {
     "name": "stdout",
     "output_type": "stream",
     "text": [
      "['OPENEJB-1065', 'OPENEJB-1066']\n",
      "['CASSANDRA-13323', 'CASSANDRA-9289']\n"
     ]
    },
    {
     "name": "stderr",
     "output_type": "stream",
     "text": [
      " 70%|███████   | 1511/2145 [00:57<00:22, 27.71it/s]"
     ]
    },
    {
     "name": "stdout",
     "output_type": "stream",
     "text": [
      "['ATLAS-286', 'ATLAS-287']\n",
      "['MESOS-2829', 'MESOS-2831']\n"
     ]
    },
    {
     "name": "stderr",
     "output_type": "stream",
     "text": [
      " 71%|███████   | 1518/2145 [00:57<00:23, 26.69it/s]"
     ]
    },
    {
     "name": "stdout",
     "output_type": "stream",
     "text": [
      "['HAWQ-289', 'HAWQ-290']\n"
     ]
    },
    {
     "name": "stderr",
     "output_type": "stream",
     "text": [
      " 71%|███████   | 1525/2145 [00:57<00:21, 28.67it/s]"
     ]
    },
    {
     "name": "stdout",
     "output_type": "stream",
     "text": [
      "['FALCON-1515', 'FALCON-1541']\n",
      "['SPARK-10979', 'SPARK-9318']\n",
      "['HARMONY-2530', 'HARMONY-3148']\n"
     ]
    },
    {
     "name": "stderr",
     "output_type": "stream",
     "text": [
      " 72%|███████▏  | 1536/2145 [00:58<00:21, 27.76it/s]"
     ]
    },
    {
     "name": "stdout",
     "output_type": "stream",
     "text": [
      "['DRILL-6167', 'DRILL-6168']\n",
      "['NETBEANS-1474', 'NETBEANS-4192']\n"
     ]
    },
    {
     "name": "stderr",
     "output_type": "stream",
     "text": [
      " 72%|███████▏  | 1546/2145 [00:58<00:22, 26.08it/s]"
     ]
    },
    {
     "name": "stdout",
     "output_type": "stream",
     "text": [
      "['ARTEMIS-1425', 'ARTEMIS-1480']\n"
     ]
    },
    {
     "name": "stderr",
     "output_type": "stream",
     "text": [
      " 73%|███████▎  | 1562/2145 [00:59<00:21, 27.55it/s]"
     ]
    },
    {
     "name": "stdout",
     "output_type": "stream",
     "text": [
      "['SPARK-5403', 'SPARK-926']\n",
      "['SPARK-34365', 'SPARK-34378']\n",
      "['AMBARI-17107', 'AMBARI-17339']\n",
      "['OAK-7728', 'OAK-7837']\n",
      "['BEAM-6025', 'BEAM-6104']\n"
     ]
    },
    {
     "name": "stderr",
     "output_type": "stream",
     "text": [
      " 73%|███████▎  | 1574/2145 [00:59<00:19, 29.36it/s]"
     ]
    },
    {
     "name": "stdout",
     "output_type": "stream",
     "text": [
      "['PDFBOX-1668', 'PDFBOX-1726']\n",
      "['HIVE-1681', 'HIVE-1710']\n"
     ]
    },
    {
     "name": "stderr",
     "output_type": "stream",
     "text": [
      "\r",
      " 74%|███████▎  | 1578/2145 [00:59<00:18, 31.25it/s]"
     ]
    },
    {
     "name": "stdout",
     "output_type": "stream",
     "text": [
      "['THRIFT-3207', 'THRIFT-3736']\n",
      "['MAPREDUCE-6304', 'YARN-796']\n"
     ]
    },
    {
     "name": "stderr",
     "output_type": "stream",
     "text": [
      " 74%|███████▍  | 1585/2145 [01:00<00:20, 27.17it/s]"
     ]
    },
    {
     "name": "stdout",
     "output_type": "stream",
     "text": [
      "['HIVE-15489', 'HIVE-16336']\n",
      "['DIRSTUDIO-452', 'DIRSTUDIO-453']\n",
      "['GEODE-725', 'GEODE-768']\n",
      "['HARMONY-2219', 'HARMONY-2366']\n"
     ]
    },
    {
     "name": "stderr",
     "output_type": "stream",
     "text": [
      " 74%|███████▍  | 1598/2145 [01:00<00:18, 29.92it/s]"
     ]
    },
    {
     "name": "stdout",
     "output_type": "stream",
     "text": [
      "['WICKET-6221', 'WICKET-6222']\n",
      "['SPARK-17312', 'SPARK-17313']\n"
     ]
    },
    {
     "name": "stderr",
     "output_type": "stream",
     "text": [
      " 75%|███████▌  | 1609/2145 [01:00<00:18, 29.48it/s]"
     ]
    },
    {
     "name": "stdout",
     "output_type": "stream",
     "text": [
      "['DRILL-600', 'DRILL-746']\n",
      "['HIVE-19064', 'HIVE-23172']\n",
      "['SOLR-10079', 'SOLR-10354']\n"
     ]
    },
    {
     "name": "stderr",
     "output_type": "stream",
     "text": [
      " 76%|███████▌  | 1621/2145 [01:01<00:19, 26.71it/s]"
     ]
    },
    {
     "name": "stdout",
     "output_type": "stream",
     "text": [
      "['IMPALA-3189', 'IMPALA-5020']\n",
      "['GROOVY-8008', 'GROOVY-8505']\n",
      "['FLINK-18639', 'FLINK-18806']\n",
      "['CASSANDRA-7507', 'CASSANDRA-7579']\n"
     ]
    },
    {
     "name": "stderr",
     "output_type": "stream",
     "text": [
      " 76%|███████▋  | 1637/2145 [01:01<00:18, 27.89it/s]"
     ]
    },
    {
     "name": "stdout",
     "output_type": "stream",
     "text": [
      "['NETBEANS-4071', 'NETBEANS-4134']\n",
      "['DERBY-6019', 'DERBY-6174']\n"
     ]
    },
    {
     "name": "stderr",
     "output_type": "stream",
     "text": [
      " 77%|███████▋  | 1646/2145 [01:02<00:15, 33.24it/s]"
     ]
    },
    {
     "name": "stdout",
     "output_type": "stream",
     "text": [
      "['OFBIZ-7016', 'OFBIZ-7970']\n",
      "['SOLR-8674', 'SOLR-9222']\n",
      "['RATIS-11', 'RATIS-259']\n",
      "['HADOOP-6562', 'HDFS-1466']\n",
      "['SPARK-11137', 'SPARK-11139']\n",
      "['SPARK-27296', 'SPARK-30423']\n"
     ]
    },
    {
     "name": "stderr",
     "output_type": "stream",
     "text": [
      " 77%|███████▋  | 1654/2145 [01:02<00:15, 30.80it/s]"
     ]
    },
    {
     "name": "stdout",
     "output_type": "stream",
     "text": [
      "['CAMEL-5599', 'CAMEL-6840']\n"
     ]
    },
    {
     "name": "stderr",
     "output_type": "stream",
     "text": [
      " 78%|███████▊  | 1665/2145 [01:02<00:18, 26.09it/s]"
     ]
    },
    {
     "name": "stdout",
     "output_type": "stream",
     "text": [
      "['THRIFT-1921', 'THRIFT-1927']\n"
     ]
    },
    {
     "name": "stderr",
     "output_type": "stream",
     "text": [
      " 78%|███████▊  | 1675/2145 [01:03<00:18, 25.20it/s]"
     ]
    },
    {
     "name": "stdout",
     "output_type": "stream",
     "text": [
      "['TIKA-2804', 'TIKA-2824']\n",
      "['CRAIL-103', 'CRAIL-104']\n"
     ]
    },
    {
     "name": "stderr",
     "output_type": "stream",
     "text": [
      " 78%|███████▊  | 1683/2145 [01:03<00:17, 27.07it/s]"
     ]
    },
    {
     "name": "stdout",
     "output_type": "stream",
     "text": [
      "['CB-4341', 'CB-4348']\n",
      "['MYRIAD-37', 'MYRIAD-83']\n"
     ]
    },
    {
     "name": "stderr",
     "output_type": "stream",
     "text": [
      " 79%|███████▊  | 1689/2145 [01:03<00:17, 25.59it/s]"
     ]
    },
    {
     "name": "stdout",
     "output_type": "stream",
     "text": [
      "['NUTCH-422', 'NUTCH-809']\n",
      "['FLINK-13202', 'FLINK-13242']\n"
     ]
    },
    {
     "name": "stderr",
     "output_type": "stream",
     "text": [
      " 79%|███████▉  | 1700/2145 [01:04<00:16, 26.42it/s]"
     ]
    },
    {
     "name": "stdout",
     "output_type": "stream",
     "text": [
      "['CXF-6900', 'SANTUARIO-442']\n",
      "['GROOVY-8299', 'GROOVY-8989']\n",
      "['BEAM-7127', 'BEAM-7141']\n"
     ]
    },
    {
     "name": "stderr",
     "output_type": "stream",
     "text": [
      " 80%|███████▉  | 1707/2145 [01:04<00:15, 27.46it/s]"
     ]
    },
    {
     "name": "stdout",
     "output_type": "stream",
     "text": [
      "['SPARK-2290', 'SPARK-2454']\n",
      "['GEODE-8567', 'GEODE-8573']\n",
      "['LANG-1038', 'LANG-1252']\n"
     ]
    },
    {
     "name": "stderr",
     "output_type": "stream",
     "text": [
      " 80%|████████  | 1717/2145 [01:04<00:12, 34.38it/s]"
     ]
    },
    {
     "name": "stdout",
     "output_type": "stream",
     "text": [
      "['CXF-4592', 'CXF-4599']\n",
      "['DERBY-1492', 'DERBY-396']\n",
      "['YARN-4833', 'YARN-5484']\n",
      "['FLUME-2286', 'FLUME-2921']\n"
     ]
    },
    {
     "name": "stderr",
     "output_type": "stream",
     "text": [
      " 81%|████████  | 1729/2145 [01:05<00:15, 27.72it/s]"
     ]
    },
    {
     "name": "stdout",
     "output_type": "stream",
     "text": [
      "['JCR-1713', 'TUSCANY-2533']\n"
     ]
    },
    {
     "name": "stderr",
     "output_type": "stream",
     "text": [
      " 81%|████████  | 1736/2145 [01:05<00:15, 26.90it/s]"
     ]
    },
    {
     "name": "stdout",
     "output_type": "stream",
     "text": [
      "['CURATOR-115', 'CURATOR-116']\n"
     ]
    },
    {
     "name": "stderr",
     "output_type": "stream",
     "text": [
      " 81%|████████▏ | 1744/2145 [01:05<00:13, 29.64it/s]"
     ]
    },
    {
     "name": "stdout",
     "output_type": "stream",
     "text": [
      "['MNG-5623', 'MNG-5626']\n",
      "['AMQ-5646', 'AMQ-5661']\n",
      "['LOG4J2-442', 'LOG4J2-489']\n"
     ]
    },
    {
     "name": "stderr",
     "output_type": "stream",
     "text": [
      " 82%|████████▏ | 1752/2145 [01:05<00:11, 33.06it/s]"
     ]
    },
    {
     "name": "stdout",
     "output_type": "stream",
     "text": [
      "['DERBY-1624', 'DERBY-681']\n",
      "['THRIFT-4550', 'THRIFT-4766']\n",
      "['SOLR-7571', 'SOLR-7572']\n",
      "['DAEMON-280', 'DAEMON-307']\n",
      "['HBASE-6572', 'HDFS-4672']\n"
     ]
    },
    {
     "name": "stderr",
     "output_type": "stream",
     "text": [
      " 82%|████████▏ | 1760/2145 [01:06<00:11, 32.26it/s]"
     ]
    },
    {
     "name": "stdout",
     "output_type": "stream",
     "text": [
      "['MPMD-40', 'MPMD-80']\n",
      "['CAMEL-2421', 'CAMEL-2459']\n"
     ]
    },
    {
     "name": "stderr",
     "output_type": "stream",
     "text": [
      " 82%|████████▏ | 1768/2145 [01:06<00:11, 32.73it/s]"
     ]
    },
    {
     "name": "stdout",
     "output_type": "stream",
     "text": [
      "['DRILL-220', 'DRILL-456']\n",
      "['HDFS-2576', 'HDFS-4778']\n",
      "['FLUME-454', 'FLUME-503']\n"
     ]
    },
    {
     "name": "stderr",
     "output_type": "stream",
     "text": [
      " 83%|████████▎ | 1779/2145 [01:06<00:14, 25.72it/s]"
     ]
    },
    {
     "name": "stdout",
     "output_type": "stream",
     "text": [
      "['ZEPPELIN-1674', 'ZEPPELIN-1791']\n"
     ]
    },
    {
     "name": "stderr",
     "output_type": "stream",
     "text": [
      " 83%|████████▎ | 1791/2145 [01:07<00:14, 24.45it/s]"
     ]
    },
    {
     "name": "stdout",
     "output_type": "stream",
     "text": [
      "['SPARK-17296', 'SPARK-17384']\n"
     ]
    },
    {
     "name": "stderr",
     "output_type": "stream",
     "text": [
      " 84%|████████▍ | 1797/2145 [01:07<00:14, 24.85it/s]"
     ]
    },
    {
     "name": "stdout",
     "output_type": "stream",
     "text": [
      "['PDFBOX-1094', 'PDFBOX-1466']\n",
      "['DRILL-3954', 'DRILL-3955']\n"
     ]
    },
    {
     "name": "stderr",
     "output_type": "stream",
     "text": [
      " 84%|████████▍ | 1809/2145 [01:08<00:12, 27.56it/s]"
     ]
    },
    {
     "name": "stdout",
     "output_type": "stream",
     "text": [
      "['DRILL-1487', 'DRILL-1908']\n",
      "['HDFS-1150', 'HDFS-1326']\n",
      "['TS-3082', 'TS-4468']\n"
     ]
    },
    {
     "name": "stderr",
     "output_type": "stream",
     "text": [
      " 85%|████████▍ | 1818/2145 [01:08<00:13, 24.20it/s]"
     ]
    },
    {
     "name": "stdout",
     "output_type": "stream",
     "text": [
      "['TAP5-2228', 'TAP5-2230']\n"
     ]
    },
    {
     "name": "stderr",
     "output_type": "stream",
     "text": [
      " 85%|████████▌ | 1824/2145 [01:08<00:13, 24.09it/s]"
     ]
    },
    {
     "name": "stdout",
     "output_type": "stream",
     "text": [
      "['OOZIE-2338', 'OOZIE-3432']\n"
     ]
    },
    {
     "name": "stderr",
     "output_type": "stream",
     "text": [
      " 86%|████████▌ | 1834/2145 [01:09<00:12, 25.14it/s]"
     ]
    },
    {
     "name": "stdout",
     "output_type": "stream",
     "text": [
      "['NETBEANS-2888', 'NETBEANS-2951']\n",
      "['HADOOP-9008', 'YARN-207']\n",
      "['TAVERNA-384', 'TAVERNA-488']\n"
     ]
    },
    {
     "name": "stderr",
     "output_type": "stream",
     "text": [
      " 86%|████████▌ | 1842/2145 [01:09<00:11, 27.02it/s]"
     ]
    },
    {
     "name": "stdout",
     "output_type": "stream",
     "text": [
      "['CAMEL-1276', 'CAMEL-2565']\n"
     ]
    },
    {
     "name": "stderr",
     "output_type": "stream",
     "text": [
      " 86%|████████▋ | 1852/2145 [01:09<00:10, 28.24it/s]"
     ]
    },
    {
     "name": "stdout",
     "output_type": "stream",
     "text": [
      "['INLONG-156', 'INLONG-78']\n",
      "['LOG4J2-438', 'LOG4J2-457']\n"
     ]
    },
    {
     "name": "stderr",
     "output_type": "stream",
     "text": [
      " 87%|████████▋ | 1859/2145 [01:09<00:09, 29.50it/s]"
     ]
    },
    {
     "name": "stdout",
     "output_type": "stream",
     "text": [
      "['FLINK-11911', 'FLINK-15904']\n",
      "['ASTERIXDB-1082', 'ASTERIXDB-1089']\n"
     ]
    },
    {
     "name": "stderr",
     "output_type": "stream",
     "text": [
      " 87%|████████▋ | 1867/2145 [01:10<00:10, 27.59it/s]"
     ]
    },
    {
     "name": "stdout",
     "output_type": "stream",
     "text": [
      "['INFRA-10304', 'INFRA-8147']\n",
      "['YARN-5992', 'YARN-6000']\n",
      "['MECLIPSE-576', 'MECLIPSE-621']\n",
      "['TS-4893', 'TS-4894']\n",
      "['SOLR-914', 'SOLR-924']\n"
     ]
    },
    {
     "name": "stderr",
     "output_type": "stream",
     "text": [
      " 88%|████████▊ | 1877/2145 [01:10<00:08, 31.50it/s]"
     ]
    },
    {
     "name": "stdout",
     "output_type": "stream",
     "text": [
      "['TUSCANY-2782', 'TUSCANY-2784']\n",
      "['TS-5040', 'TS-5058']\n"
     ]
    },
    {
     "name": "stderr",
     "output_type": "stream",
     "text": [
      " 88%|████████▊ | 1892/2145 [01:11<00:09, 27.35it/s]"
     ]
    },
    {
     "name": "stdout",
     "output_type": "stream",
     "text": [
      "['AXIS2C-1156', 'AXIS2C-1220']\n"
     ]
    },
    {
     "name": "stderr",
     "output_type": "stream",
     "text": [
      " 88%|████████▊ | 1898/2145 [01:11<00:09, 25.43it/s]"
     ]
    },
    {
     "name": "stdout",
     "output_type": "stream",
     "text": [
      "['ASTERIXDB-2476', 'ASTERIXDB-2498']\n",
      "['ARROW-6821', 'ARROW-7501']\n",
      "['MNG-3391', 'MNG-3483']\n"
     ]
    },
    {
     "name": "stderr",
     "output_type": "stream",
     "text": [
      " 89%|████████▉ | 1907/2145 [01:11<00:07, 31.51it/s]"
     ]
    },
    {
     "name": "stdout",
     "output_type": "stream",
     "text": [
      "['AURORA-1014', 'AURORA-1824']\n",
      "['HIVE-1750', 'HIVE-1770']\n",
      "['IMPALA-4923', 'IMPALA-5150']\n",
      "['NUTCH-769', 'NUTCH-770']\n"
     ]
    },
    {
     "name": "stderr",
     "output_type": "stream",
     "text": [
      " 90%|████████▉ | 1929/2145 [01:12<00:07, 28.92it/s]"
     ]
    },
    {
     "name": "stdout",
     "output_type": "stream",
     "text": [
      "['SOLR-5287', 'SOLR-791']\n",
      "['NUTCH-1916', 'NUTCH-1931']\n",
      "['IOTDB-519', 'IOTDB-684']\n"
     ]
    },
    {
     "name": "stderr",
     "output_type": "stream",
     "text": [
      " 90%|█████████ | 1936/2145 [01:12<00:06, 29.95it/s]"
     ]
    },
    {
     "name": "stdout",
     "output_type": "stream",
     "text": [
      "['HADOOP-9008', 'MAPREDUCE-4780']\n",
      "['SAMZA-560', 'SAMZA-723']\n",
      "['HDFS-1047', 'MAPREDUCE-1613']\n",
      "['KAFKA-1554', 'KAFKA-2012']\n"
     ]
    },
    {
     "name": "stderr",
     "output_type": "stream",
     "text": [
      " 91%|█████████ | 1944/2145 [01:12<00:06, 30.85it/s]"
     ]
    },
    {
     "name": "stdout",
     "output_type": "stream",
     "text": [
      "['HDFS-4163', 'MAPREDUCE-4780']\n"
     ]
    },
    {
     "name": "stderr",
     "output_type": "stream",
     "text": [
      " 91%|█████████▏| 1959/2145 [01:13<00:06, 27.36it/s]"
     ]
    },
    {
     "name": "stdout",
     "output_type": "stream",
     "text": [
      "['AIRFLOW-2650', 'AIRFLOW-455']\n",
      "['DERBY-1537', 'DERBY-645']\n",
      "['TUSCANY-2781', 'TUSCANY-2783']\n",
      "['KARAF-5628', 'KARAF-6377']\n"
     ]
    },
    {
     "name": "stderr",
     "output_type": "stream",
     "text": [
      " 92%|█████████▏| 1967/2145 [01:13<00:06, 27.62it/s]"
     ]
    },
    {
     "name": "stdout",
     "output_type": "stream",
     "text": [
      "['KAFKA-6127', 'KAFKA-6446']\n"
     ]
    },
    {
     "name": "stderr",
     "output_type": "stream",
     "text": [
      " 92%|█████████▏| 1976/2145 [01:14<00:07, 23.30it/s]"
     ]
    },
    {
     "name": "stdout",
     "output_type": "stream",
     "text": [
      "['AMQ-3573', 'AMQ-3574']\n"
     ]
    },
    {
     "name": "stderr",
     "output_type": "stream",
     "text": [
      " 93%|█████████▎| 1992/2145 [01:14<00:06, 23.62it/s]"
     ]
    },
    {
     "name": "stdout",
     "output_type": "stream",
     "text": [
      "['ZOOKEEPER-1676', 'ZOOKEEPER-2432']\n",
      "['OPENJPA-2304', 'OPENJPA-2320']\n"
     ]
    },
    {
     "name": "stderr",
     "output_type": "stream",
     "text": [
      " 93%|█████████▎| 2004/2145 [01:15<00:04, 28.32it/s]"
     ]
    },
    {
     "name": "stdout",
     "output_type": "stream",
     "text": [
      "['HBASE-2514', 'HBASE-2681']\n",
      "['GIRAPH-211', 'GIRAPH-262']\n",
      "['MAPREDUCE-4780', 'YARN-207']\n",
      "['PHOENIX-3554', 'PHOENIX-4373']\n"
     ]
    },
    {
     "name": "stderr",
     "output_type": "stream",
     "text": [
      " 94%|█████████▍| 2015/2145 [01:15<00:04, 26.66it/s]"
     ]
    },
    {
     "name": "stdout",
     "output_type": "stream",
     "text": [
      "['HBASE-5360', 'HBASE-6223']\n"
     ]
    },
    {
     "name": "stderr",
     "output_type": "stream",
     "text": [
      " 94%|█████████▍| 2024/2145 [01:16<00:04, 24.54it/s]"
     ]
    },
    {
     "name": "stdout",
     "output_type": "stream",
     "text": [
      "['AVRO-1241', 'PIG-3015']\n",
      "['JUDDI-569', 'JUDDI-89']\n"
     ]
    },
    {
     "name": "stderr",
     "output_type": "stream",
     "text": [
      " 95%|█████████▍| 2033/2145 [01:16<00:04, 24.16it/s]"
     ]
    },
    {
     "name": "stdout",
     "output_type": "stream",
     "text": [
      "['AMBARI-15484', 'AMBARI-21484']\n"
     ]
    },
    {
     "name": "stderr",
     "output_type": "stream",
     "text": [
      " 95%|█████████▌| 2046/2145 [01:16<00:03, 27.44it/s]"
     ]
    },
    {
     "name": "stdout",
     "output_type": "stream",
     "text": [
      "['OAK-2202', 'OAK-2305']\n",
      "['MPIR-290', 'MPIR-332']\n"
     ]
    },
    {
     "name": "stderr",
     "output_type": "stream",
     "text": [
      " 97%|█████████▋| 2070/2145 [01:17<00:02, 30.32it/s]"
     ]
    },
    {
     "name": "stdout",
     "output_type": "stream",
     "text": [
      "['CASSANDRA-13757', 'CASSANDRA-14284']\n",
      "['HIVE-13063', 'HIVE-14581']\n",
      "['BIGTOP-1493', 'BIGTOP-1497']\n",
      "['FELIX-3277', 'FELIX-3324']\n",
      "['AIRFLOW-129', 'AIRFLOW-1527']\n",
      "['MYRIAD-156', 'MYRIAD-188']\n"
     ]
    },
    {
     "name": "stderr",
     "output_type": "stream",
     "text": [
      " 97%|█████████▋| 2080/2145 [01:18<00:01, 33.64it/s]"
     ]
    },
    {
     "name": "stdout",
     "output_type": "stream",
     "text": [
      "['KARAF-4935', 'KARAF-4967']\n",
      "['HDFS-1973', 'HDFS-2292']\n",
      "['HADOOP-7853', 'ZOOKEEPER-1373']\n",
      "['CAMEL-6565', 'CAMEL-7092']\n"
     ]
    },
    {
     "name": "stderr",
     "output_type": "stream",
     "text": [
      " 97%|█████████▋| 2088/2145 [01:18<00:02, 28.31it/s]"
     ]
    },
    {
     "name": "stdout",
     "output_type": "stream",
     "text": [
      "['DERBY-5045', 'DERBY-5124']\n"
     ]
    },
    {
     "name": "stderr",
     "output_type": "stream",
     "text": [
      " 98%|█████████▊| 2096/2145 [01:18<00:01, 29.11it/s]"
     ]
    },
    {
     "name": "stdout",
     "output_type": "stream",
     "text": [
      "['SOLR-8674', 'SOLR-9229']\n",
      "['JUDDI-653', 'JUDDI-664']\n",
      "['LOGCXX-409', 'LOGCXX-416']\n"
     ]
    },
    {
     "name": "stderr",
     "output_type": "stream",
     "text": [
      " 98%|█████████▊| 2104/2145 [01:19<00:01, 28.94it/s]"
     ]
    },
    {
     "name": "stdout",
     "output_type": "stream",
     "text": [
      "['LANG-332', 'LANG-503']\n"
     ]
    },
    {
     "name": "stderr",
     "output_type": "stream",
     "text": [
      " 99%|█████████▊| 2116/2145 [01:19<00:01, 25.35it/s]"
     ]
    },
    {
     "name": "stdout",
     "output_type": "stream",
     "text": [
      "['TUSCANY-2783', 'TUSCANY-2784']\n",
      "['LANG-1040', 'LANG-1252']\n"
     ]
    },
    {
     "name": "stderr",
     "output_type": "stream",
     "text": [
      " 99%|█████████▉| 2124/2145 [01:19<00:00, 27.30it/s]"
     ]
    },
    {
     "name": "stdout",
     "output_type": "stream",
     "text": [
      "['HIVE-1534', 'HIVE-1621']\n",
      "['TS-1489', 'TS-1840']\n",
      "['NIFI-271', 'NIFI-587']\n"
     ]
    },
    {
     "name": "stderr",
     "output_type": "stream",
     "text": [
      "100%|█████████▉| 2135/2145 [01:20<00:00, 28.89it/s]"
     ]
    },
    {
     "name": "stdout",
     "output_type": "stream",
     "text": [
      "['MDEPLOY-57', 'MSHARED-36']\n",
      "['NIFI-1933', 'NIFI-1934']\n"
     ]
    },
    {
     "name": "stderr",
     "output_type": "stream",
     "text": [
      "100%|██████████| 2145/2145 [01:20<00:00, 26.65it/s]"
     ]
    },
    {
     "name": "stdout",
     "output_type": "stream",
     "text": [
      "['SPARK-11628', 'SPARK-9685']\n",
      "['HDFS-14796', 'HDFS-14797']\n",
      "['NETBEANS-2494', 'NETBEANS-2978']\n",
      "Left with 243295 links after removing issue-pairs with multiple link types between them\n"
     ]
    },
    {
     "name": "stderr",
     "output_type": "stream",
     "text": [
      "\n"
     ]
    }
   ],
   "source": [
    "for i in valid_doubles:\n",
    "    if len(set(cl_link_df[cl_link_df['issues']==i]['linktype']))>1:\n",
    "        cl_link_df = cl_link_df[cl_link_df.issues != i]\n",
    "    else:\n",
    "        print(i)\n",
    "print(f'Left with {len(cl_link_df)} links after removing issue-pairs with multiple link types between them')"
   ]
  },
  {
   "cell_type": "code",
   "execution_count": 38,
   "id": "7d024858",
   "metadata": {},
   "outputs": [
    {
     "data": {
      "text/plain": [
       "['HADOOP-12855', 'HADOOP-12946']     2\n",
       "['CAMEL-9444', 'CAMEL-9573']         2\n",
       "['MESOS-2299', 'MESOS-2301']         2\n",
       "['AVRO-1965', 'HIVE-15316']          2\n",
       "['HADOOP-9008', 'MAPREDUCE-4780']    2\n",
       "                                    ..\n",
       "['FLINK-14574', 'FLINK-15216']       1\n",
       "['SENTRY-1869', 'SENTRY-872']        1\n",
       "['ISIS-188', 'ISIS-52']              1\n",
       "['SPARK-20073', 'SPARK-6231']        1\n",
       "['FOP-1891', 'FOP-2745']             1\n",
       "Name: issues, Length: 242823, dtype: int64"
      ]
     },
     "execution_count": 38,
     "metadata": {},
     "output_type": "execute_result"
    }
   ],
   "source": [
    "cl_link_df.issues.value_counts()"
   ]
  },
  {
   "cell_type": "code",
   "execution_count": 40,
   "id": "1ac680f2",
   "metadata": {},
   "outputs": [
    {
     "data": {
      "text/html": [
       "<div>\n",
       "<style scoped>\n",
       "    .dataframe tbody tr th:only-of-type {\n",
       "        vertical-align: middle;\n",
       "    }\n",
       "\n",
       "    .dataframe tbody tr th {\n",
       "        vertical-align: top;\n",
       "    }\n",
       "\n",
       "    .dataframe thead th {\n",
       "        text-align: right;\n",
       "    }\n",
       "</style>\n",
       "<table border=\"1\" class=\"dataframe\">\n",
       "  <thead>\n",
       "    <tr style=\"text-align: right;\">\n",
       "      <th></th>\n",
       "      <th>name</th>\n",
       "      <th>linktype</th>\n",
       "      <th>issue_id_1</th>\n",
       "      <th>issue_id_2</th>\n",
       "      <th>issues</th>\n",
       "    </tr>\n",
       "  </thead>\n",
       "  <tbody>\n",
       "    <tr>\n",
       "      <th>288833</th>\n",
       "      <td>HADOOP-12946_HADOOP-12855</td>\n",
       "      <td>Reference</td>\n",
       "      <td>HADOOP-12946</td>\n",
       "      <td>HADOOP-12855</td>\n",
       "      <td>['HADOOP-12855', 'HADOOP-12946']</td>\n",
       "    </tr>\n",
       "    <tr>\n",
       "      <th>288835</th>\n",
       "      <td>HADOOP-12855_HADOOP-12946</td>\n",
       "      <td>Reference</td>\n",
       "      <td>HADOOP-12855</td>\n",
       "      <td>HADOOP-12946</td>\n",
       "      <td>['HADOOP-12855', 'HADOOP-12946']</td>\n",
       "    </tr>\n",
       "    <tr>\n",
       "      <th>289007</th>\n",
       "      <td>HADOOP-12908_HADOOP-12855</td>\n",
       "      <td>Reference</td>\n",
       "      <td>HADOOP-12908</td>\n",
       "      <td>HADOOP-12855</td>\n",
       "      <td>['HADOOP-12855', 'HADOOP-12908']</td>\n",
       "    </tr>\n",
       "  </tbody>\n",
       "</table>\n",
       "</div>"
      ],
      "text/plain": [
       "                             name   linktype    issue_id_1    issue_id_2  \\\n",
       "288833  HADOOP-12946_HADOOP-12855  Reference  HADOOP-12946  HADOOP-12855   \n",
       "288835  HADOOP-12855_HADOOP-12946  Reference  HADOOP-12855  HADOOP-12946   \n",
       "289007  HADOOP-12908_HADOOP-12855  Reference  HADOOP-12908  HADOOP-12855   \n",
       "\n",
       "                                  issues  \n",
       "288833  ['HADOOP-12855', 'HADOOP-12946']  \n",
       "288835  ['HADOOP-12855', 'HADOOP-12946']  \n",
       "289007  ['HADOOP-12855', 'HADOOP-12908']  "
      ]
     },
     "execution_count": 40,
     "metadata": {},
     "output_type": "execute_result"
    }
   ],
   "source": [
    "cl_link_df[(cl_link_df['issue_id_1'] == 'HADOOP-12855') | (cl_link_df['issue_id_2'] == 'HADOOP-12855')]"
   ]
  },
  {
   "cell_type": "code",
   "execution_count": 41,
   "id": "61099697",
   "metadata": {},
   "outputs": [
    {
     "name": "stdout",
     "output_type": "stream",
     "text": [
      "Left with 242823 links after removing issue-pairs with the same link type with multiple entries\n"
     ]
    }
   ],
   "source": [
    "#Multiple links complete remove\n",
    "cl_link_df.drop_duplicates(subset=['issues'], inplace=True)\n",
    "print(f'Left with {len(cl_link_df)} links after removing issue-pairs with the same link type with multiple entries')\n",
    "\n",
    "cl_link_df.reset_index(inplace=True, drop=True)"
   ]
  },
  {
   "cell_type": "code",
   "execution_count": null,
   "id": "3049cb9f",
   "metadata": {},
   "outputs": [],
   "source": []
  }
 ],
 "metadata": {
  "kernelspec": {
   "display_name": "Python 3",
   "language": "python",
   "name": "python3"
  },
  "language_info": {
   "codemirror_mode": {
    "name": "ipython",
    "version": 3
   },
   "file_extension": ".py",
   "mimetype": "text/x-python",
   "name": "python",
   "nbconvert_exporter": "python",
   "pygments_lexer": "ipython3",
   "version": "3.9.2"
  }
 },
 "nbformat": 4,
 "nbformat_minor": 5
}
